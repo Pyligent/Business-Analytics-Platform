{
 "cells": [
  {
   "cell_type": "code",
   "execution_count": 3,
   "metadata": {},
   "outputs": [],
   "source": [
    "import pandas as pd\n",
    "import numpy as np"
   ]
  },
  {
   "cell_type": "code",
   "execution_count": 4,
   "metadata": {},
   "outputs": [],
   "source": [
    "\n",
    "# To plot pretty figures\n",
    "%matplotlib inline\n",
    "import matplotlib as mpl\n",
    "import matplotlib.pyplot as plt\n",
    "mpl.rc('axes', labelsize=14)\n",
    "mpl.rc('xtick', labelsize=12)\n",
    "mpl.rc('ytick', labelsize=12)\n"
   ]
  },
  {
   "cell_type": "code",
   "execution_count": 6,
   "metadata": {
    "scrolled": true
   },
   "outputs": [
    {
     "name": "stderr",
     "output_type": "stream",
     "text": [
      "/Users/my_macbook/anaconda3/lib/python3.6/site-packages/IPython/core/interactiveshell.py:2785: DtypeWarning: Columns (7,10,28,31) have mixed types. Specify dtype option on import or set low_memory=False.\n",
      "  interactivity=interactivity, compiler=compiler, result=result)\n"
     ]
    },
    {
     "data": {
      "text/html": [
       "<div>\n",
       "<style scoped>\n",
       "    .dataframe tbody tr th:only-of-type {\n",
       "        vertical-align: middle;\n",
       "    }\n",
       "\n",
       "    .dataframe tbody tr th {\n",
       "        vertical-align: top;\n",
       "    }\n",
       "\n",
       "    .dataframe thead th {\n",
       "        text-align: right;\n",
       "    }\n",
       "</style>\n",
       "<table border=\"1\" class=\"dataframe\">\n",
       "  <thead>\n",
       "    <tr style=\"text-align: right;\">\n",
       "      <th></th>\n",
       "      <th>Unnamed: 0</th>\n",
       "      <th>address</th>\n",
       "      <th>attributes.AcceptsInsurance</th>\n",
       "      <th>attributes.AgesAllowed</th>\n",
       "      <th>attributes.Alcohol</th>\n",
       "      <th>attributes.Ambience</th>\n",
       "      <th>attributes.BYOB</th>\n",
       "      <th>attributes.BYOBCorkage</th>\n",
       "      <th>attributes.BestNights</th>\n",
       "      <th>attributes.BikeParking</th>\n",
       "      <th>...</th>\n",
       "      <th>stars</th>\n",
       "      <th>state</th>\n",
       "      <th>checkin_date</th>\n",
       "      <th>user_id</th>\n",
       "      <th>tip_text</th>\n",
       "      <th>tip_compliment_count</th>\n",
       "      <th>tip_date</th>\n",
       "      <th>photo_id</th>\n",
       "      <th>label</th>\n",
       "      <th>caption</th>\n",
       "    </tr>\n",
       "  </thead>\n",
       "  <tbody>\n",
       "    <tr>\n",
       "      <th>0</th>\n",
       "      <td>0</td>\n",
       "      <td>30 Eglinton Avenue W</td>\n",
       "      <td>NaN</td>\n",
       "      <td>NaN</td>\n",
       "      <td>u'full_bar'</td>\n",
       "      <td>{'romantic': False, 'intimate': False, 'classy...</td>\n",
       "      <td>NaN</td>\n",
       "      <td>NaN</td>\n",
       "      <td>NaN</td>\n",
       "      <td>False</td>\n",
       "      <td>...</td>\n",
       "      <td>2.5</td>\n",
       "      <td>ON</td>\n",
       "      <td>2010-07-05 16:56:31, 2010-12-21 20:30:01, 2010...</td>\n",
       "      <td>fENhF1F6I9c2ssnkfprYzw,RscJR5zqb3WL4eQezBX5rA,...</td>\n",
       "      <td>Spring &amp; egg rolls are great, get them with ex...</td>\n",
       "      <td>1.0</td>\n",
       "      <td>2016-08-08 01:48:14,2013-06-21 23:44:22,2017-1...</td>\n",
       "      <td>2LEm7R6KYy001sUrXvsnKA,bJnzJWtyXc9Acl4ev7KCXA,...</td>\n",
       "      <td>outside,food,inside</td>\n",
       "      <td>null,??, ???, ??,null</td>\n",
       "    </tr>\n",
       "    <tr>\n",
       "      <th>1</th>\n",
       "      <td>1</td>\n",
       "      <td>Credit Valley Town Plaza, F2 - 6045 Creditview Rd</td>\n",
       "      <td>NaN</td>\n",
       "      <td>NaN</td>\n",
       "      <td>NaN</td>\n",
       "      <td>NaN</td>\n",
       "      <td>NaN</td>\n",
       "      <td>NaN</td>\n",
       "      <td>NaN</td>\n",
       "      <td>NaN</td>\n",
       "      <td>...</td>\n",
       "      <td>2.5</td>\n",
       "      <td>ON</td>\n",
       "      <td>2014-03-31 21:46:17, 2015-01-27 19:05:03, 2018...</td>\n",
       "      <td>jnB_saJqNfOmVoCWquhAzg</td>\n",
       "      <td>Good service</td>\n",
       "      <td>0.0</td>\n",
       "      <td>2014-03-31 21:46:39</td>\n",
       "      <td>NaN</td>\n",
       "      <td>NaN</td>\n",
       "      <td>NaN</td>\n",
       "    </tr>\n",
       "    <tr>\n",
       "      <th>2</th>\n",
       "      <td>2</td>\n",
       "      <td>1455 16th Avenue</td>\n",
       "      <td>NaN</td>\n",
       "      <td>NaN</td>\n",
       "      <td>NaN</td>\n",
       "      <td>NaN</td>\n",
       "      <td>NaN</td>\n",
       "      <td>NaN</td>\n",
       "      <td>NaN</td>\n",
       "      <td>True</td>\n",
       "      <td>...</td>\n",
       "      <td>4.0</td>\n",
       "      <td>ON</td>\n",
       "      <td>2016-04-19 17:38:29, 2016-04-22 01:14:54, 2016...</td>\n",
       "      <td>CxDOIDnH8gp9KXzpBHJYXw,5vRBvQEbR12jXzC50cBYqw</td>\n",
       "      <td>Replacing My Yoga Studio,Went there for the fi...</td>\n",
       "      <td>0.0</td>\n",
       "      <td>2016-04-19 16:16:40,2017-09-20 15:10:00</td>\n",
       "      <td>NaN</td>\n",
       "      <td>NaN</td>\n",
       "      <td>NaN</td>\n",
       "    </tr>\n",
       "    <tr>\n",
       "      <th>3</th>\n",
       "      <td>3</td>\n",
       "      <td>445 King Street W, Suite 101</td>\n",
       "      <td>True</td>\n",
       "      <td>NaN</td>\n",
       "      <td>NaN</td>\n",
       "      <td>NaN</td>\n",
       "      <td>NaN</td>\n",
       "      <td>NaN</td>\n",
       "      <td>NaN</td>\n",
       "      <td>NaN</td>\n",
       "      <td>...</td>\n",
       "      <td>4.0</td>\n",
       "      <td>ON</td>\n",
       "      <td>2010-10-23 14:00:26, 2010-10-24 16:33:33, 2010...</td>\n",
       "      <td>n1bfatw5wT1eRYWmHSLo9g,gLSQCEhGy7-uRnNbNnVykg</td>\n",
       "      <td>One-week guest pass is $44.,Very average. Best...</td>\n",
       "      <td>0.0</td>\n",
       "      <td>2014-08-07 03:35:10,2013-07-28 21:31:25</td>\n",
       "      <td>NaN</td>\n",
       "      <td>NaN</td>\n",
       "      <td>NaN</td>\n",
       "    </tr>\n",
       "    <tr>\n",
       "      <th>4</th>\n",
       "      <td>4</td>\n",
       "      <td>865 York Mills Road, Unit 1</td>\n",
       "      <td>NaN</td>\n",
       "      <td>NaN</td>\n",
       "      <td>NaN</td>\n",
       "      <td>NaN</td>\n",
       "      <td>NaN</td>\n",
       "      <td>NaN</td>\n",
       "      <td>NaN</td>\n",
       "      <td>True</td>\n",
       "      <td>...</td>\n",
       "      <td>4.5</td>\n",
       "      <td>ON</td>\n",
       "      <td>2016-01-24 00:15:08, 2016-01-25 22:42:18, 2016...</td>\n",
       "      <td>keLUgL_4y60BkppiAsIk8Q,keLUgL_4y60BkppiAsIk8Q</td>\n",
       "      <td>Tried the tiramisu mini cake $16.. very light!...</td>\n",
       "      <td>1.0</td>\n",
       "      <td>2016-03-22 20:21:20,2016-01-23 20:02:08</td>\n",
       "      <td>NaN</td>\n",
       "      <td>NaN</td>\n",
       "      <td>NaN</td>\n",
       "    </tr>\n",
       "  </tbody>\n",
       "</table>\n",
       "<p>5 rows × 67 columns</p>\n",
       "</div>"
      ],
      "text/plain": [
       "   Unnamed: 0                                            address  \\\n",
       "0           0                               30 Eglinton Avenue W   \n",
       "1           1  Credit Valley Town Plaza, F2 - 6045 Creditview Rd   \n",
       "2           2                                   1455 16th Avenue   \n",
       "3           3                       445 King Street W, Suite 101   \n",
       "4           4                        865 York Mills Road, Unit 1   \n",
       "\n",
       "  attributes.AcceptsInsurance attributes.AgesAllowed attributes.Alcohol  \\\n",
       "0                         NaN                    NaN        u'full_bar'   \n",
       "1                         NaN                    NaN                NaN   \n",
       "2                         NaN                    NaN                NaN   \n",
       "3                        True                    NaN                NaN   \n",
       "4                         NaN                    NaN                NaN   \n",
       "\n",
       "                                 attributes.Ambience  attributes.BYOB  \\\n",
       "0  {'romantic': False, 'intimate': False, 'classy...              NaN   \n",
       "1                                                NaN              NaN   \n",
       "2                                                NaN              NaN   \n",
       "3                                                NaN              NaN   \n",
       "4                                                NaN              NaN   \n",
       "\n",
       "  attributes.BYOBCorkage attributes.BestNights attributes.BikeParking  \\\n",
       "0                    NaN                   NaN                  False   \n",
       "1                    NaN                   NaN                    NaN   \n",
       "2                    NaN                   NaN                   True   \n",
       "3                    NaN                   NaN                    NaN   \n",
       "4                    NaN                   NaN                   True   \n",
       "\n",
       "           ...           stars state  \\\n",
       "0          ...             2.5    ON   \n",
       "1          ...             2.5    ON   \n",
       "2          ...             4.0    ON   \n",
       "3          ...             4.0    ON   \n",
       "4          ...             4.5    ON   \n",
       "\n",
       "                                        checkin_date  \\\n",
       "0  2010-07-05 16:56:31, 2010-12-21 20:30:01, 2010...   \n",
       "1  2014-03-31 21:46:17, 2015-01-27 19:05:03, 2018...   \n",
       "2  2016-04-19 17:38:29, 2016-04-22 01:14:54, 2016...   \n",
       "3  2010-10-23 14:00:26, 2010-10-24 16:33:33, 2010...   \n",
       "4  2016-01-24 00:15:08, 2016-01-25 22:42:18, 2016...   \n",
       "\n",
       "                                             user_id  \\\n",
       "0  fENhF1F6I9c2ssnkfprYzw,RscJR5zqb3WL4eQezBX5rA,...   \n",
       "1                             jnB_saJqNfOmVoCWquhAzg   \n",
       "2      CxDOIDnH8gp9KXzpBHJYXw,5vRBvQEbR12jXzC50cBYqw   \n",
       "3      n1bfatw5wT1eRYWmHSLo9g,gLSQCEhGy7-uRnNbNnVykg   \n",
       "4      keLUgL_4y60BkppiAsIk8Q,keLUgL_4y60BkppiAsIk8Q   \n",
       "\n",
       "                                            tip_text tip_compliment_count  \\\n",
       "0  Spring & egg rolls are great, get them with ex...                  1.0   \n",
       "1                                       Good service                  0.0   \n",
       "2  Replacing My Yoga Studio,Went there for the fi...                  0.0   \n",
       "3  One-week guest pass is $44.,Very average. Best...                  0.0   \n",
       "4  Tried the tiramisu mini cake $16.. very light!...                  1.0   \n",
       "\n",
       "                                            tip_date  \\\n",
       "0  2016-08-08 01:48:14,2013-06-21 23:44:22,2017-1...   \n",
       "1                                2014-03-31 21:46:39   \n",
       "2            2016-04-19 16:16:40,2017-09-20 15:10:00   \n",
       "3            2014-08-07 03:35:10,2013-07-28 21:31:25   \n",
       "4            2016-03-22 20:21:20,2016-01-23 20:02:08   \n",
       "\n",
       "                                            photo_id                label  \\\n",
       "0  2LEm7R6KYy001sUrXvsnKA,bJnzJWtyXc9Acl4ev7KCXA,...  outside,food,inside   \n",
       "1                                                NaN                  NaN   \n",
       "2                                                NaN                  NaN   \n",
       "3                                                NaN                  NaN   \n",
       "4                                                NaN                  NaN   \n",
       "\n",
       "                 caption  \n",
       "0  null,??, ???, ??,null  \n",
       "1                    NaN  \n",
       "2                    NaN  \n",
       "3                    NaN  \n",
       "4                    NaN  \n",
       "\n",
       "[5 rows x 67 columns]"
      ]
     },
     "execution_count": 6,
     "metadata": {},
     "output_type": "execute_result"
    }
   ],
   "source": [
    "df = pd.read_csv('./DataSet/ontario_biz_data.csv')\n",
    "df.head()"
   ]
  },
  {
   "cell_type": "code",
   "execution_count": 7,
   "metadata": {},
   "outputs": [],
   "source": [
    "df.drop(['Unnamed: 0'],inplace=True, axis=1)"
   ]
  },
  {
   "cell_type": "code",
   "execution_count": 8,
   "metadata": {},
   "outputs": [
    {
     "data": {
      "text/html": [
       "<div>\n",
       "<style scoped>\n",
       "    .dataframe tbody tr th:only-of-type {\n",
       "        vertical-align: middle;\n",
       "    }\n",
       "\n",
       "    .dataframe tbody tr th {\n",
       "        vertical-align: top;\n",
       "    }\n",
       "\n",
       "    .dataframe thead th {\n",
       "        text-align: right;\n",
       "    }\n",
       "</style>\n",
       "<table border=\"1\" class=\"dataframe\">\n",
       "  <thead>\n",
       "    <tr style=\"text-align: right;\">\n",
       "      <th></th>\n",
       "      <th>address</th>\n",
       "      <th>attributes.AcceptsInsurance</th>\n",
       "      <th>attributes.AgesAllowed</th>\n",
       "      <th>attributes.Alcohol</th>\n",
       "      <th>attributes.Ambience</th>\n",
       "      <th>attributes.BYOB</th>\n",
       "      <th>attributes.BYOBCorkage</th>\n",
       "      <th>attributes.BestNights</th>\n",
       "      <th>attributes.BikeParking</th>\n",
       "      <th>attributes.BusinessAcceptsBitcoin</th>\n",
       "      <th>...</th>\n",
       "      <th>stars</th>\n",
       "      <th>state</th>\n",
       "      <th>checkin_date</th>\n",
       "      <th>user_id</th>\n",
       "      <th>tip_text</th>\n",
       "      <th>tip_compliment_count</th>\n",
       "      <th>tip_date</th>\n",
       "      <th>photo_id</th>\n",
       "      <th>label</th>\n",
       "      <th>caption</th>\n",
       "    </tr>\n",
       "  </thead>\n",
       "  <tbody>\n",
       "    <tr>\n",
       "      <th>0</th>\n",
       "      <td>30 Eglinton Avenue W</td>\n",
       "      <td>NaN</td>\n",
       "      <td>NaN</td>\n",
       "      <td>u'full_bar'</td>\n",
       "      <td>{'romantic': False, 'intimate': False, 'classy...</td>\n",
       "      <td>NaN</td>\n",
       "      <td>NaN</td>\n",
       "      <td>NaN</td>\n",
       "      <td>False</td>\n",
       "      <td>NaN</td>\n",
       "      <td>...</td>\n",
       "      <td>2.5</td>\n",
       "      <td>ON</td>\n",
       "      <td>2010-07-05 16:56:31, 2010-12-21 20:30:01, 2010...</td>\n",
       "      <td>fENhF1F6I9c2ssnkfprYzw,RscJR5zqb3WL4eQezBX5rA,...</td>\n",
       "      <td>Spring &amp; egg rolls are great, get them with ex...</td>\n",
       "      <td>1.0</td>\n",
       "      <td>2016-08-08 01:48:14,2013-06-21 23:44:22,2017-1...</td>\n",
       "      <td>2LEm7R6KYy001sUrXvsnKA,bJnzJWtyXc9Acl4ev7KCXA,...</td>\n",
       "      <td>outside,food,inside</td>\n",
       "      <td>null,??, ???, ??,null</td>\n",
       "    </tr>\n",
       "    <tr>\n",
       "      <th>1</th>\n",
       "      <td>Credit Valley Town Plaza, F2 - 6045 Creditview Rd</td>\n",
       "      <td>NaN</td>\n",
       "      <td>NaN</td>\n",
       "      <td>NaN</td>\n",
       "      <td>NaN</td>\n",
       "      <td>NaN</td>\n",
       "      <td>NaN</td>\n",
       "      <td>NaN</td>\n",
       "      <td>NaN</td>\n",
       "      <td>NaN</td>\n",
       "      <td>...</td>\n",
       "      <td>2.5</td>\n",
       "      <td>ON</td>\n",
       "      <td>2014-03-31 21:46:17, 2015-01-27 19:05:03, 2018...</td>\n",
       "      <td>jnB_saJqNfOmVoCWquhAzg</td>\n",
       "      <td>Good service</td>\n",
       "      <td>0.0</td>\n",
       "      <td>2014-03-31 21:46:39</td>\n",
       "      <td>NaN</td>\n",
       "      <td>NaN</td>\n",
       "      <td>NaN</td>\n",
       "    </tr>\n",
       "    <tr>\n",
       "      <th>2</th>\n",
       "      <td>1455 16th Avenue</td>\n",
       "      <td>NaN</td>\n",
       "      <td>NaN</td>\n",
       "      <td>NaN</td>\n",
       "      <td>NaN</td>\n",
       "      <td>NaN</td>\n",
       "      <td>NaN</td>\n",
       "      <td>NaN</td>\n",
       "      <td>True</td>\n",
       "      <td>NaN</td>\n",
       "      <td>...</td>\n",
       "      <td>4.0</td>\n",
       "      <td>ON</td>\n",
       "      <td>2016-04-19 17:38:29, 2016-04-22 01:14:54, 2016...</td>\n",
       "      <td>CxDOIDnH8gp9KXzpBHJYXw,5vRBvQEbR12jXzC50cBYqw</td>\n",
       "      <td>Replacing My Yoga Studio,Went there for the fi...</td>\n",
       "      <td>0.0</td>\n",
       "      <td>2016-04-19 16:16:40,2017-09-20 15:10:00</td>\n",
       "      <td>NaN</td>\n",
       "      <td>NaN</td>\n",
       "      <td>NaN</td>\n",
       "    </tr>\n",
       "    <tr>\n",
       "      <th>3</th>\n",
       "      <td>445 King Street W, Suite 101</td>\n",
       "      <td>True</td>\n",
       "      <td>NaN</td>\n",
       "      <td>NaN</td>\n",
       "      <td>NaN</td>\n",
       "      <td>NaN</td>\n",
       "      <td>NaN</td>\n",
       "      <td>NaN</td>\n",
       "      <td>NaN</td>\n",
       "      <td>NaN</td>\n",
       "      <td>...</td>\n",
       "      <td>4.0</td>\n",
       "      <td>ON</td>\n",
       "      <td>2010-10-23 14:00:26, 2010-10-24 16:33:33, 2010...</td>\n",
       "      <td>n1bfatw5wT1eRYWmHSLo9g,gLSQCEhGy7-uRnNbNnVykg</td>\n",
       "      <td>One-week guest pass is $44.,Very average. Best...</td>\n",
       "      <td>0.0</td>\n",
       "      <td>2014-08-07 03:35:10,2013-07-28 21:31:25</td>\n",
       "      <td>NaN</td>\n",
       "      <td>NaN</td>\n",
       "      <td>NaN</td>\n",
       "    </tr>\n",
       "    <tr>\n",
       "      <th>4</th>\n",
       "      <td>865 York Mills Road, Unit 1</td>\n",
       "      <td>NaN</td>\n",
       "      <td>NaN</td>\n",
       "      <td>NaN</td>\n",
       "      <td>NaN</td>\n",
       "      <td>NaN</td>\n",
       "      <td>NaN</td>\n",
       "      <td>NaN</td>\n",
       "      <td>True</td>\n",
       "      <td>NaN</td>\n",
       "      <td>...</td>\n",
       "      <td>4.5</td>\n",
       "      <td>ON</td>\n",
       "      <td>2016-01-24 00:15:08, 2016-01-25 22:42:18, 2016...</td>\n",
       "      <td>keLUgL_4y60BkppiAsIk8Q,keLUgL_4y60BkppiAsIk8Q</td>\n",
       "      <td>Tried the tiramisu mini cake $16.. very light!...</td>\n",
       "      <td>1.0</td>\n",
       "      <td>2016-03-22 20:21:20,2016-01-23 20:02:08</td>\n",
       "      <td>NaN</td>\n",
       "      <td>NaN</td>\n",
       "      <td>NaN</td>\n",
       "    </tr>\n",
       "  </tbody>\n",
       "</table>\n",
       "<p>5 rows × 66 columns</p>\n",
       "</div>"
      ],
      "text/plain": [
       "                                             address  \\\n",
       "0                               30 Eglinton Avenue W   \n",
       "1  Credit Valley Town Plaza, F2 - 6045 Creditview Rd   \n",
       "2                                   1455 16th Avenue   \n",
       "3                       445 King Street W, Suite 101   \n",
       "4                        865 York Mills Road, Unit 1   \n",
       "\n",
       "  attributes.AcceptsInsurance attributes.AgesAllowed attributes.Alcohol  \\\n",
       "0                         NaN                    NaN        u'full_bar'   \n",
       "1                         NaN                    NaN                NaN   \n",
       "2                         NaN                    NaN                NaN   \n",
       "3                        True                    NaN                NaN   \n",
       "4                         NaN                    NaN                NaN   \n",
       "\n",
       "                                 attributes.Ambience  attributes.BYOB  \\\n",
       "0  {'romantic': False, 'intimate': False, 'classy...              NaN   \n",
       "1                                                NaN              NaN   \n",
       "2                                                NaN              NaN   \n",
       "3                                                NaN              NaN   \n",
       "4                                                NaN              NaN   \n",
       "\n",
       "  attributes.BYOBCorkage attributes.BestNights attributes.BikeParking  \\\n",
       "0                    NaN                   NaN                  False   \n",
       "1                    NaN                   NaN                    NaN   \n",
       "2                    NaN                   NaN                   True   \n",
       "3                    NaN                   NaN                    NaN   \n",
       "4                    NaN                   NaN                   True   \n",
       "\n",
       "  attributes.BusinessAcceptsBitcoin          ...           stars state  \\\n",
       "0                               NaN          ...             2.5    ON   \n",
       "1                               NaN          ...             2.5    ON   \n",
       "2                               NaN          ...             4.0    ON   \n",
       "3                               NaN          ...             4.0    ON   \n",
       "4                               NaN          ...             4.5    ON   \n",
       "\n",
       "                                        checkin_date  \\\n",
       "0  2010-07-05 16:56:31, 2010-12-21 20:30:01, 2010...   \n",
       "1  2014-03-31 21:46:17, 2015-01-27 19:05:03, 2018...   \n",
       "2  2016-04-19 17:38:29, 2016-04-22 01:14:54, 2016...   \n",
       "3  2010-10-23 14:00:26, 2010-10-24 16:33:33, 2010...   \n",
       "4  2016-01-24 00:15:08, 2016-01-25 22:42:18, 2016...   \n",
       "\n",
       "                                             user_id  \\\n",
       "0  fENhF1F6I9c2ssnkfprYzw,RscJR5zqb3WL4eQezBX5rA,...   \n",
       "1                             jnB_saJqNfOmVoCWquhAzg   \n",
       "2      CxDOIDnH8gp9KXzpBHJYXw,5vRBvQEbR12jXzC50cBYqw   \n",
       "3      n1bfatw5wT1eRYWmHSLo9g,gLSQCEhGy7-uRnNbNnVykg   \n",
       "4      keLUgL_4y60BkppiAsIk8Q,keLUgL_4y60BkppiAsIk8Q   \n",
       "\n",
       "                                            tip_text  tip_compliment_count  \\\n",
       "0  Spring & egg rolls are great, get them with ex...                   1.0   \n",
       "1                                       Good service                   0.0   \n",
       "2  Replacing My Yoga Studio,Went there for the fi...                   0.0   \n",
       "3  One-week guest pass is $44.,Very average. Best...                   0.0   \n",
       "4  Tried the tiramisu mini cake $16.. very light!...                   1.0   \n",
       "\n",
       "                                            tip_date  \\\n",
       "0  2016-08-08 01:48:14,2013-06-21 23:44:22,2017-1...   \n",
       "1                                2014-03-31 21:46:39   \n",
       "2            2016-04-19 16:16:40,2017-09-20 15:10:00   \n",
       "3            2014-08-07 03:35:10,2013-07-28 21:31:25   \n",
       "4            2016-03-22 20:21:20,2016-01-23 20:02:08   \n",
       "\n",
       "                                            photo_id                label  \\\n",
       "0  2LEm7R6KYy001sUrXvsnKA,bJnzJWtyXc9Acl4ev7KCXA,...  outside,food,inside   \n",
       "1                                                NaN                  NaN   \n",
       "2                                                NaN                  NaN   \n",
       "3                                                NaN                  NaN   \n",
       "4                                                NaN                  NaN   \n",
       "\n",
       "                 caption  \n",
       "0  null,??, ???, ??,null  \n",
       "1                    NaN  \n",
       "2                    NaN  \n",
       "3                    NaN  \n",
       "4                    NaN  \n",
       "\n",
       "[5 rows x 66 columns]"
      ]
     },
     "execution_count": 8,
     "metadata": {},
     "output_type": "execute_result"
    }
   ],
   "source": [
    "df.head()"
   ]
  },
  {
   "cell_type": "code",
   "execution_count": 9,
   "metadata": {},
   "outputs": [
    {
     "data": {
      "image/png": "[encoded data removed]",
      "text/plain": [
       "<Figure size 2016x1152 with 2 Axes>"
      ]
     },
     "metadata": {},
     "output_type": "display_data"
    }
   ],
   "source": [
    "df.plot(kind='scatter',x='longitude',y='latitude',alpha=0.4, s=df['review_count'],label='Review Count',\n",
    "          c=\"stars\", cmap=plt.get_cmap(\"jet\"), colorbar=True,sharex=False,figsize=(28,16))\n",
    "plt.xlim(-80,-78.8)\n",
    "plt.ylim(43.4,44.5)\n",
    "plt.legend()\n",
    "plt.savefig(\"rating_count_scatterplot.jpg\")"
   ]
  },
  {
   "cell_type": "code",
   "execution_count": 10,
   "metadata": {},
   "outputs": [],
   "source": [
    "#Looking for Coorelation\n",
    "corr_matrix = df.corr()"
   ]
  },
  {
   "cell_type": "code",
   "execution_count": 11,
   "metadata": {},
   "outputs": [
    {
     "data": {
      "text/plain": [
       "stars                   1.000000\n",
       "review_count            0.085481\n",
       "longitude               0.036814\n",
       "tip_compliment_count    0.028454\n",
       "is_open                 0.007673\n",
       "latitude               -0.046586\n",
       "attributes.BYOB              NaN\n",
       "attributes.Corkage           NaN\n",
       "Name: stars, dtype: float64"
      ]
     },
     "execution_count": 11,
     "metadata": {},
     "output_type": "execute_result"
    }
   ],
   "source": [
    "# Check the features related the rating \n",
    "corr_matrix['stars'].sort_values(ascending=False)"
   ]
  },
  {
   "cell_type": "code",
   "execution_count": 12,
   "metadata": {},
   "outputs": [
    {
     "data": {
      "text/plain": [
       "array([[<matplotlib.axes._subplots.AxesSubplot object at 0x114e58a20>,\n",
       "        <matplotlib.axes._subplots.AxesSubplot object at 0x1145e49e8>,\n",
       "        <matplotlib.axes._subplots.AxesSubplot object at 0x114de4358>,\n",
       "        <matplotlib.axes._subplots.AxesSubplot object at 0x114d42ef0>,\n",
       "        <matplotlib.axes._subplots.AxesSubplot object at 0x1142ed5c0>,\n",
       "        <matplotlib.axes._subplots.AxesSubplot object at 0x1142ed5f8>],\n",
       "       [<matplotlib.axes._subplots.AxesSubplot object at 0x113e63320>,\n",
       "        <matplotlib.axes._subplots.AxesSubplot object at 0x10ab719b0>,\n",
       "        <matplotlib.axes._subplots.AxesSubplot object at 0x10ae5b080>,\n",
       "        <matplotlib.axes._subplots.AxesSubplot object at 0x10ae81710>,\n",
       "        <matplotlib.axes._subplots.AxesSubplot object at 0x113d89da0>,\n",
       "        <matplotlib.axes._subplots.AxesSubplot object at 0x113e92470>],\n",
       "       [<matplotlib.axes._subplots.AxesSubplot object at 0x113eb8b00>,\n",
       "        <matplotlib.axes._subplots.AxesSubplot object at 0x11433d1d0>,\n",
       "        <matplotlib.axes._subplots.AxesSubplot object at 0x1144e5860>,\n",
       "        <matplotlib.axes._subplots.AxesSubplot object at 0x11450def0>,\n",
       "        <matplotlib.axes._subplots.AxesSubplot object at 0x11478f5c0>,\n",
       "        <matplotlib.axes._subplots.AxesSubplot object at 0x1147b6c50>],\n",
       "       [<matplotlib.axes._subplots.AxesSubplot object at 0x1147ea320>,\n",
       "        <matplotlib.axes._subplots.AxesSubplot object at 0x1148109b0>,\n",
       "        <matplotlib.axes._subplots.AxesSubplot object at 0x1148e0080>,\n",
       "        <matplotlib.axes._subplots.AxesSubplot object at 0x114908710>,\n",
       "        <matplotlib.axes._subplots.AxesSubplot object at 0x114933da0>,\n",
       "        <matplotlib.axes._subplots.AxesSubplot object at 0x114962470>],\n",
       "       [<matplotlib.axes._subplots.AxesSubplot object at 0x11498ab00>,\n",
       "        <matplotlib.axes._subplots.AxesSubplot object at 0x1149bd1d0>,\n",
       "        <matplotlib.axes._subplots.AxesSubplot object at 0x1149e3860>,\n",
       "        <matplotlib.axes._subplots.AxesSubplot object at 0x114a0def0>,\n",
       "        <matplotlib.axes._subplots.AxesSubplot object at 0x114a3e5c0>,\n",
       "        <matplotlib.axes._subplots.AxesSubplot object at 0x114a64c50>],\n",
       "       [<matplotlib.axes._subplots.AxesSubplot object at 0x114a96320>,\n",
       "        <matplotlib.axes._subplots.AxesSubplot object at 0x114abe9b0>,\n",
       "        <matplotlib.axes._subplots.AxesSubplot object at 0x114af3080>,\n",
       "        <matplotlib.axes._subplots.AxesSubplot object at 0x114b19710>,\n",
       "        <matplotlib.axes._subplots.AxesSubplot object at 0x114b42da0>,\n",
       "        <matplotlib.axes._subplots.AxesSubplot object at 0x114b72470>]],\n",
       "      dtype=object)"
      ]
     },
     "execution_count": 12,
     "metadata": {},
     "output_type": "execute_result"
    },
    {
     "data": {
      "image/png": "[encoded data removed]",
      "text/plain": [
       "<Figure size 864x720 with 36 Axes>"
      ]
     },
     "metadata": {},
     "output_type": "display_data"
    }
   ],
   "source": [
    "# from pandas.tools.plotting import scatter_matrix # For older versions of Pandas\n",
    "from pandas.plotting import scatter_matrix\n",
    "\n",
    "attri = ['stars','review_count','longitude','tip_compliment_count','is_open','latitude']\n",
    "scatter_matrix(df[attri],figsize=(12,10))"
   ]
  },
  {
   "cell_type": "code",
   "execution_count": 37,
   "metadata": {},
   "outputs": [
    {
     "data": {
      "text/plain": [
       "<matplotlib.axes._subplots.AxesSubplot at 0x12c141be0>"
      ]
     },
     "execution_count": 37,
     "metadata": {},
     "output_type": "execute_result"
    },
    {
     "data": {
      "image/png": "[encoded data removed]",
      "text/plain": [
       "<Figure size 432x288 with 1 Axes>"
      ]
     },
     "metadata": {},
     "output_type": "display_data"
    }
   ],
   "source": [
    "df.plot(kind='scatter',x='stars',y='review_count',alpha=0.1)"
   ]
  },
  {
   "cell_type": "markdown",
   "metadata": {},
   "source": [
    "### Categories Feature Engineering\n",
    "\n",
    "#### To simplidy the yelp categoriy features\n",
    "- The category featues include a list text, need combine these words and transform into one simply feature"
   ]
  },
  {
   "cell_type": "code",
   "execution_count": 13,
   "metadata": {},
   "outputs": [],
   "source": [
    "# Text value check\n",
    "#df['categories'].value_counts()"
   ]
  },
  {
   "cell_type": "code",
   "execution_count": 18,
   "metadata": {},
   "outputs": [],
   "source": [
    "df['categories'] = df['categories'].fillna(value='null')"
   ]
  },
  {
   "cell_type": "code",
   "execution_count": 19,
   "metadata": {},
   "outputs": [],
   "source": [
    "# Transform into a list\n",
    "categories_list = pd.Series(df['categories']).tolist()\n",
    "#categories_list"
   ]
  },
  {
   "cell_type": "code",
   "execution_count": 21,
   "metadata": {},
   "outputs": [],
   "source": [
    "# Two words...\n",
    "categories_list_rep2 = []\n",
    "for i in range(len(categories_list)):\n",
    "    try:\n",
    "        temp = re.sub('[&/\\()]', ' ', categories_list[i])\n",
    "        categories_list_rep2.append(temp)\n",
    "    except:\n",
    "       # print(i,categories_list[i])\n",
    "        pass"
   ]
  },
  {
   "cell_type": "code",
   "execution_count": 22,
   "metadata": {},
   "outputs": [],
   "source": [
    "#categories_list_rep2"
   ]
  },
  {
   "cell_type": "code",
   "execution_count": 23,
   "metadata": {},
   "outputs": [],
   "source": [
    "# remove the non-word characters from the list\n",
    "import re\n",
    "\n",
    "categories_list_rep = []\n",
    "for i in range(len(categories_list)):\n",
    "    try:\n",
    "        temp = re.sub('[&/\\(),]', ' ', categories_list[i])\n",
    "        categories_list_rep.append(temp)\n",
    "    except:\n",
    "        print(i,categories_list[i])\n",
    "        pass\n",
    "    \n",
    "   "
   ]
  },
  {
   "cell_type": "code",
   "execution_count": 24,
   "metadata": {},
   "outputs": [],
   "source": [
    "#categories_list_rep"
   ]
  },
  {
   "cell_type": "code",
   "execution_count": 25,
   "metadata": {},
   "outputs": [
    {
     "data": {
      "text/plain": [
       "33412"
      ]
     },
     "execution_count": 25,
     "metadata": {},
     "output_type": "execute_result"
    }
   ],
   "source": [
    "len(categories_list_rep)"
   ]
  },
  {
   "cell_type": "code",
   "execution_count": 26,
   "metadata": {},
   "outputs": [],
   "source": [
    "from nltk.tokenize import word_tokenize \n",
    "\n",
    "tokenized_category = [word_tokenize(word) for word in categories_list_rep]\n",
    "\n",
    "#tokenized_category"
   ]
  },
  {
   "cell_type": "code",
   "execution_count": 27,
   "metadata": {},
   "outputs": [],
   "source": [
    "all_categroy_words = []\n",
    "for word_list in tokenized_category:\n",
    "    for word in word_list:\n",
    "        all_categroy_words.append(word)\n",
    "        \n",
    "\n",
    "#all_categroy_words "
   ]
  },
  {
   "cell_type": "code",
   "execution_count": 28,
   "metadata": {},
   "outputs": [],
   "source": [
    "from nltk import FreqDist\n",
    "from nltk.probability import ConditionalFreqDist"
   ]
  },
  {
   "cell_type": "code",
   "execution_count": 29,
   "metadata": {},
   "outputs": [],
   "source": [
    "freq_list = FreqDist(all_categroy_words)\n",
    "\n"
   ]
  },
  {
   "cell_type": "code",
   "execution_count": 30,
   "metadata": {},
   "outputs": [
    {
     "data": {
      "text/html": [
       "<div>\n",
       "<style scoped>\n",
       "    .dataframe tbody tr th:only-of-type {\n",
       "        vertical-align: middle;\n",
       "    }\n",
       "\n",
       "    .dataframe tbody tr th {\n",
       "        vertical-align: top;\n",
       "    }\n",
       "\n",
       "    .dataframe thead th {\n",
       "        text-align: right;\n",
       "    }\n",
       "</style>\n",
       "<table border=\"1\" class=\"dataframe\">\n",
       "  <thead>\n",
       "    <tr style=\"text-align: right;\">\n",
       "      <th></th>\n",
       "      <th>index</th>\n",
       "      <th>0</th>\n",
       "    </tr>\n",
       "  </thead>\n",
       "  <tbody>\n",
       "    <tr>\n",
       "      <th>0</th>\n",
       "      <td>Specialty</td>\n",
       "      <td>1646</td>\n",
       "    </tr>\n",
       "    <tr>\n",
       "      <th>1</th>\n",
       "      <td>Food</td>\n",
       "      <td>11281</td>\n",
       "    </tr>\n",
       "    <tr>\n",
       "      <th>2</th>\n",
       "      <td>Restaurants</td>\n",
       "      <td>14834</td>\n",
       "    </tr>\n",
       "    <tr>\n",
       "      <th>3</th>\n",
       "      <td>Dim</td>\n",
       "      <td>170</td>\n",
       "    </tr>\n",
       "    <tr>\n",
       "      <th>4</th>\n",
       "      <td>Sum</td>\n",
       "      <td>170</td>\n",
       "    </tr>\n",
       "  </tbody>\n",
       "</table>\n",
       "</div>"
      ],
      "text/plain": [
       "         index      0\n",
       "0    Specialty   1646\n",
       "1         Food  11281\n",
       "2  Restaurants  14834\n",
       "3          Dim    170\n",
       "4          Sum    170"
      ]
     },
     "execution_count": 30,
     "metadata": {},
     "output_type": "execute_result"
    }
   ],
   "source": [
    "categor1 = pd.DataFrame.from_dict(freq_list, orient='index').reset_index()\n",
    "categor1.head()"
   ]
  },
  {
   "cell_type": "code",
   "execution_count": 117,
   "metadata": {},
   "outputs": [],
   "source": [
    "category_df = pd.DataFrame.from_dict(freq_list, orient='index').reset_index()"
   ]
  },
  {
   "cell_type": "code",
   "execution_count": 120,
   "metadata": {},
   "outputs": [
    {
     "data": {
      "text/html": [
       "<div>\n",
       "<style scoped>\n",
       "    .dataframe tbody tr th:only-of-type {\n",
       "        vertical-align: middle;\n",
       "    }\n",
       "\n",
       "    .dataframe tbody tr th {\n",
       "        vertical-align: top;\n",
       "    }\n",
       "\n",
       "    .dataframe thead th {\n",
       "        text-align: right;\n",
       "    }\n",
       "</style>\n",
       "<table border=\"1\" class=\"dataframe\">\n",
       "  <thead>\n",
       "    <tr style=\"text-align: right;\">\n",
       "      <th></th>\n",
       "      <th>keyword</th>\n",
       "      <th>count</th>\n",
       "    </tr>\n",
       "  </thead>\n",
       "  <tbody>\n",
       "    <tr>\n",
       "      <th>0</th>\n",
       "      <td>Specialty</td>\n",
       "      <td>1646</td>\n",
       "    </tr>\n",
       "    <tr>\n",
       "      <th>1</th>\n",
       "      <td>Food</td>\n",
       "      <td>11281</td>\n",
       "    </tr>\n",
       "    <tr>\n",
       "      <th>2</th>\n",
       "      <td>Restaurants</td>\n",
       "      <td>14834</td>\n",
       "    </tr>\n",
       "    <tr>\n",
       "      <th>3</th>\n",
       "      <td>Dim</td>\n",
       "      <td>170</td>\n",
       "    </tr>\n",
       "    <tr>\n",
       "      <th>4</th>\n",
       "      <td>Sum</td>\n",
       "      <td>170</td>\n",
       "    </tr>\n",
       "  </tbody>\n",
       "</table>\n",
       "</div>"
      ],
      "text/plain": [
       "       keyword  count\n",
       "0    Specialty   1646\n",
       "1         Food  11281\n",
       "2  Restaurants  14834\n",
       "3          Dim    170\n",
       "4          Sum    170"
      ]
     },
     "execution_count": 120,
     "metadata": {},
     "output_type": "execute_result"
    }
   ],
   "source": [
    "category_df = category_df.rename(columns={'index':'keyword', 0:'count'})\n",
    "category_df.head()"
   ]
  },
  {
   "cell_type": "code",
   "execution_count": 121,
   "metadata": {},
   "outputs": [
    {
     "data": {
      "text/html": [
       "<div>\n",
       "<style scoped>\n",
       "    .dataframe tbody tr th:only-of-type {\n",
       "        vertical-align: middle;\n",
       "    }\n",
       "\n",
       "    .dataframe tbody tr th {\n",
       "        vertical-align: top;\n",
       "    }\n",
       "\n",
       "    .dataframe thead th {\n",
       "        text-align: right;\n",
       "    }\n",
       "</style>\n",
       "<table border=\"1\" class=\"dataframe\">\n",
       "  <thead>\n",
       "    <tr style=\"text-align: right;\">\n",
       "      <th></th>\n",
       "      <th>count</th>\n",
       "    </tr>\n",
       "  </thead>\n",
       "  <tbody>\n",
       "    <tr>\n",
       "      <th>count</th>\n",
       "      <td>1089.000000</td>\n",
       "    </tr>\n",
       "    <tr>\n",
       "      <th>mean</th>\n",
       "      <td>177.476584</td>\n",
       "    </tr>\n",
       "    <tr>\n",
       "      <th>std</th>\n",
       "      <td>722.123768</td>\n",
       "    </tr>\n",
       "    <tr>\n",
       "      <th>min</th>\n",
       "      <td>1.000000</td>\n",
       "    </tr>\n",
       "    <tr>\n",
       "      <th>25%</th>\n",
       "      <td>4.000000</td>\n",
       "    </tr>\n",
       "    <tr>\n",
       "      <th>50%</th>\n",
       "      <td>19.000000</td>\n",
       "    </tr>\n",
       "    <tr>\n",
       "      <th>75%</th>\n",
       "      <td>85.000000</td>\n",
       "    </tr>\n",
       "    <tr>\n",
       "      <th>max</th>\n",
       "      <td>14834.000000</td>\n",
       "    </tr>\n",
       "  </tbody>\n",
       "</table>\n",
       "</div>"
      ],
      "text/plain": [
       "              count\n",
       "count   1089.000000\n",
       "mean     177.476584\n",
       "std      722.123768\n",
       "min        1.000000\n",
       "25%        4.000000\n",
       "50%       19.000000\n",
       "75%       85.000000\n",
       "max    14834.000000"
      ]
     },
     "execution_count": 121,
     "metadata": {},
     "output_type": "execute_result"
    }
   ],
   "source": [
    "category_df.describe()"
   ]
  },
  {
   "cell_type": "code",
   "execution_count": 124,
   "metadata": {},
   "outputs": [
    {
     "data": {
      "text/html": [
       "<div>\n",
       "<style scoped>\n",
       "    .dataframe tbody tr th:only-of-type {\n",
       "        vertical-align: middle;\n",
       "    }\n",
       "\n",
       "    .dataframe tbody tr th {\n",
       "        vertical-align: top;\n",
       "    }\n",
       "\n",
       "    .dataframe thead th {\n",
       "        text-align: right;\n",
       "    }\n",
       "</style>\n",
       "<table border=\"1\" class=\"dataframe\">\n",
       "  <thead>\n",
       "    <tr style=\"text-align: right;\">\n",
       "      <th></th>\n",
       "      <th>keyword</th>\n",
       "      <th>count</th>\n",
       "    </tr>\n",
       "  </thead>\n",
       "  <tbody>\n",
       "    <tr>\n",
       "      <th>2</th>\n",
       "      <td>Restaurants</td>\n",
       "      <td>14834</td>\n",
       "    </tr>\n",
       "    <tr>\n",
       "      <th>1</th>\n",
       "      <td>Food</td>\n",
       "      <td>11281</td>\n",
       "    </tr>\n",
       "    <tr>\n",
       "      <th>13</th>\n",
       "      <td>Services</td>\n",
       "      <td>6955</td>\n",
       "    </tr>\n",
       "    <tr>\n",
       "      <th>34</th>\n",
       "      <td>Shopping</td>\n",
       "      <td>5289</td>\n",
       "    </tr>\n",
       "    <tr>\n",
       "      <th>38</th>\n",
       "      <td>Bars</td>\n",
       "      <td>4346</td>\n",
       "    </tr>\n",
       "    <tr>\n",
       "      <th>67</th>\n",
       "      <td>Spas</td>\n",
       "      <td>4119</td>\n",
       "    </tr>\n",
       "    <tr>\n",
       "      <th>66</th>\n",
       "      <td>Beauty</td>\n",
       "      <td>3651</td>\n",
       "    </tr>\n",
       "    <tr>\n",
       "      <th>42</th>\n",
       "      <td>Nightlife</td>\n",
       "      <td>2532</td>\n",
       "    </tr>\n",
       "    <tr>\n",
       "      <th>48</th>\n",
       "      <td>Tea</td>\n",
       "      <td>2513</td>\n",
       "    </tr>\n",
       "    <tr>\n",
       "      <th>132</th>\n",
       "      <td>Hair</td>\n",
       "      <td>2316</td>\n",
       "    </tr>\n",
       "    <tr>\n",
       "      <th>124</th>\n",
       "      <td>Home</td>\n",
       "      <td>2298</td>\n",
       "    </tr>\n",
       "    <tr>\n",
       "      <th>72</th>\n",
       "      <td>Event</td>\n",
       "      <td>2274</td>\n",
       "    </tr>\n",
       "    <tr>\n",
       "      <th>47</th>\n",
       "      <td>Coffee</td>\n",
       "      <td>2144</td>\n",
       "    </tr>\n",
       "    <tr>\n",
       "      <th>69</th>\n",
       "      <td>Salons</td>\n",
       "      <td>2137</td>\n",
       "    </tr>\n",
       "    <tr>\n",
       "      <th>23</th>\n",
       "      <td>Medical</td>\n",
       "      <td>2110</td>\n",
       "    </tr>\n",
       "    <tr>\n",
       "      <th>73</th>\n",
       "      <td>Planning</td>\n",
       "      <td>1892</td>\n",
       "    </tr>\n",
       "    <tr>\n",
       "      <th>22</th>\n",
       "      <td>Health</td>\n",
       "      <td>1888</td>\n",
       "    </tr>\n",
       "    <tr>\n",
       "      <th>107</th>\n",
       "      <td>Stores</td>\n",
       "      <td>1863</td>\n",
       "    </tr>\n",
       "    <tr>\n",
       "      <th>6</th>\n",
       "      <td>Chinese</td>\n",
       "      <td>1682</td>\n",
       "    </tr>\n",
       "    <tr>\n",
       "      <th>14</th>\n",
       "      <td>Local</td>\n",
       "      <td>1675</td>\n",
       "    </tr>\n",
       "  </tbody>\n",
       "</table>\n",
       "</div>"
      ],
      "text/plain": [
       "         keyword  count\n",
       "2    Restaurants  14834\n",
       "1           Food  11281\n",
       "13      Services   6955\n",
       "34      Shopping   5289\n",
       "38          Bars   4346\n",
       "67          Spas   4119\n",
       "66        Beauty   3651\n",
       "42     Nightlife   2532\n",
       "48           Tea   2513\n",
       "132         Hair   2316\n",
       "124         Home   2298\n",
       "72         Event   2274\n",
       "47        Coffee   2144\n",
       "69        Salons   2137\n",
       "23       Medical   2110\n",
       "73      Planning   1892\n",
       "22        Health   1888\n",
       "107       Stores   1863\n",
       "6        Chinese   1682\n",
       "14         Local   1675"
      ]
     },
     "execution_count": 124,
     "metadata": {},
     "output_type": "execute_result"
    }
   ],
   "source": [
    "category_df_sort = category_df.sort_values('count',ascending=False )\n",
    "category_df_sort[:20]"
   ]
  },
  {
   "cell_type": "code",
   "execution_count": 240,
   "metadata": {},
   "outputs": [],
   "source": [
    "top20_df = category_df_sort[:20]\n",
    "top20list = top20_df['keyword'].tolist()"
   ]
  },
  {
   "cell_type": "code",
   "execution_count": 241,
   "metadata": {},
   "outputs": [
    {
     "data": {
      "text/plain": [
       "['Restaurants',\n",
       " 'Food',\n",
       " 'Services',\n",
       " 'Shopping',\n",
       " 'Bars',\n",
       " 'Spas',\n",
       " 'Beauty',\n",
       " 'Nightlife',\n",
       " 'Tea',\n",
       " 'Hair',\n",
       " 'Home',\n",
       " 'Event',\n",
       " 'Coffee',\n",
       " 'Salons',\n",
       " 'Medical',\n",
       " 'Planning',\n",
       " 'Health',\n",
       " 'Stores',\n",
       " 'Chinese',\n",
       " 'Local']"
      ]
     },
     "execution_count": 241,
     "metadata": {},
     "output_type": "execute_result"
    }
   ],
   "source": [
    "top20list"
   ]
  },
  {
   "cell_type": "code",
   "execution_count": 131,
   "metadata": {},
   "outputs": [
    {
     "data": {
      "image/png": "[encoded data removed]",
      "text/plain": [
       "<Figure size 2016x1152 with 1 Axes>"
      ]
     },
     "metadata": {},
     "output_type": "display_data"
    }
   ],
   "source": [
    "top30_keyword_df = category_df_sort[:30]\n",
    "top30_keyword_df.plot(kind='bar',x='keyword',y='count',figsize=(28,16))\n",
    "plt.savefig('category_keyword.jpg')"
   ]
  },
  {
   "cell_type": "code",
   "execution_count": 136,
   "metadata": {},
   "outputs": [],
   "source": [
    "\n",
    "category_df_sort['weight'] = category_df_sort['count']/category_df_sort['count'].sum()"
   ]
  },
  {
   "cell_type": "code",
   "execution_count": 137,
   "metadata": {},
   "outputs": [
    {
     "data": {
      "text/html": [
       "<div>\n",
       "<style scoped>\n",
       "    .dataframe tbody tr th:only-of-type {\n",
       "        vertical-align: middle;\n",
       "    }\n",
       "\n",
       "    .dataframe tbody tr th {\n",
       "        vertical-align: top;\n",
       "    }\n",
       "\n",
       "    .dataframe thead th {\n",
       "        text-align: right;\n",
       "    }\n",
       "</style>\n",
       "<table border=\"1\" class=\"dataframe\">\n",
       "  <thead>\n",
       "    <tr style=\"text-align: right;\">\n",
       "      <th></th>\n",
       "      <th>keyword</th>\n",
       "      <th>count</th>\n",
       "      <th>weight</th>\n",
       "    </tr>\n",
       "  </thead>\n",
       "  <tbody>\n",
       "    <tr>\n",
       "      <th>2</th>\n",
       "      <td>Restaurants</td>\n",
       "      <td>14834</td>\n",
       "      <td>0.076752</td>\n",
       "    </tr>\n",
       "    <tr>\n",
       "      <th>1</th>\n",
       "      <td>Food</td>\n",
       "      <td>11281</td>\n",
       "      <td>0.058369</td>\n",
       "    </tr>\n",
       "    <tr>\n",
       "      <th>13</th>\n",
       "      <td>Services</td>\n",
       "      <td>6955</td>\n",
       "      <td>0.035986</td>\n",
       "    </tr>\n",
       "    <tr>\n",
       "      <th>34</th>\n",
       "      <td>Shopping</td>\n",
       "      <td>5289</td>\n",
       "      <td>0.027366</td>\n",
       "    </tr>\n",
       "    <tr>\n",
       "      <th>38</th>\n",
       "      <td>Bars</td>\n",
       "      <td>4346</td>\n",
       "      <td>0.022486</td>\n",
       "    </tr>\n",
       "  </tbody>\n",
       "</table>\n",
       "</div>"
      ],
      "text/plain": [
       "        keyword  count    weight\n",
       "2   Restaurants  14834  0.076752\n",
       "1          Food  11281  0.058369\n",
       "13     Services   6955  0.035986\n",
       "34     Shopping   5289  0.027366\n",
       "38         Bars   4346  0.022486"
      ]
     },
     "execution_count": 137,
     "metadata": {},
     "output_type": "execute_result"
    }
   ],
   "source": [
    "category_df_sort.head()"
   ]
  },
  {
   "cell_type": "code",
   "execution_count": 173,
   "metadata": {},
   "outputs": [
    {
     "data": {
      "text/plain": [
       "'Specialty Food, Restaurants, Dim Sum, Imported Food, Food, Chinese, Ethnic Food, Seafood'"
      ]
     },
     "execution_count": 173,
     "metadata": {},
     "output_type": "execute_result"
    }
   ],
   "source": [
    "df['categories'][0]"
   ]
  },
  {
   "cell_type": "code",
   "execution_count": 174,
   "metadata": {},
   "outputs": [],
   "source": [
    "temp = re.sub('[&/\\(),]', ' ', df['categories'][0])"
   ]
  },
  {
   "cell_type": "code",
   "execution_count": 192,
   "metadata": {},
   "outputs": [
    {
     "data": {
      "text/plain": [
       "0.33572374684382633"
      ]
     },
     "execution_count": 192,
     "metadata": {},
     "output_type": "execute_result"
    }
   ],
   "source": [
    "words = temp.split(' ')\n",
    "while(\"\" in words) : \n",
    "    words.remove(\"\")\n",
    "\n",
    "weight = 0\n",
    "\n",
    "for word in words:\n",
    "    value_list = category_df_sort.loc[category_df_sort['keyword']==word]['weight'].tolist()\n",
    "    weight += value_list[0]\n",
    "    \n",
    "weight\n",
    "\n"
   ]
  },
  {
   "cell_type": "code",
   "execution_count": 235,
   "metadata": {},
   "outputs": [],
   "source": [
    "def categories_weight(cate_list):\n",
    "    weight_list=[];\n",
    "    weight = 0\n",
    "    for each_category in cate_list:\n",
    "        temp = re.sub('[&/\\(),]', ' ', each_category)\n",
    "        words = temp.split(' ')\n",
    "        while(\"\" in words) : \n",
    "            words.remove(\"\")\n",
    "        i=0\n",
    "        for word in words:\n",
    "            value_list = category_df_sort.loc[category_df_sort['keyword']==word]['weight'].tolist()\n",
    "            try:\n",
    "                i +=1\n",
    "                weight += value_list[0]\n",
    "            except:\n",
    "                i +=1\n",
    "                weight +=0\n",
    "        \n",
    "        weight_list.append(weight/i)\n",
    "        weight = 0\n",
    "    \n",
    "    return weight_list\n",
    "\n",
    "    \n",
    "    \n"
   ]
  },
  {
   "cell_type": "code",
   "execution_count": 236,
   "metadata": {},
   "outputs": [],
   "source": [
    "wlist = categories_weight(df['categories'].tolist())"
   ]
  },
  {
   "cell_type": "code",
   "execution_count": 237,
   "metadata": {},
   "outputs": [
    {
     "data": {
      "text/plain": [
       "33412"
      ]
     },
     "execution_count": 237,
     "metadata": {},
     "output_type": "execute_result"
    }
   ],
   "source": [
    "len(wlist)"
   ]
  },
  {
   "cell_type": "code",
   "execution_count": 31,
   "metadata": {},
   "outputs": [],
   "source": [
    "#wlist"
   ]
  },
  {
   "cell_type": "code",
   "execution_count": 214,
   "metadata": {},
   "outputs": [],
   "source": [
    "df['categories_weight'] = wlist"
   ]
  },
  {
   "cell_type": "code",
   "execution_count": 215,
   "metadata": {},
   "outputs": [
    {
     "data": {
      "text/html": [
       "<div>\n",
       "<style scoped>\n",
       "    .dataframe tbody tr th:only-of-type {\n",
       "        vertical-align: middle;\n",
       "    }\n",
       "\n",
       "    .dataframe tbody tr th {\n",
       "        vertical-align: top;\n",
       "    }\n",
       "\n",
       "    .dataframe thead th {\n",
       "        text-align: right;\n",
       "    }\n",
       "</style>\n",
       "<table border=\"1\" class=\"dataframe\">\n",
       "  <thead>\n",
       "    <tr style=\"text-align: right;\">\n",
       "      <th></th>\n",
       "      <th>address</th>\n",
       "      <th>attributes.AcceptsInsurance</th>\n",
       "      <th>attributes.AgesAllowed</th>\n",
       "      <th>attributes.Alcohol</th>\n",
       "      <th>attributes.Ambience</th>\n",
       "      <th>attributes.BYOB</th>\n",
       "      <th>attributes.BYOBCorkage</th>\n",
       "      <th>attributes.BestNights</th>\n",
       "      <th>attributes.BikeParking</th>\n",
       "      <th>attributes.BusinessAcceptsBitcoin</th>\n",
       "      <th>...</th>\n",
       "      <th>state</th>\n",
       "      <th>checkin_date</th>\n",
       "      <th>user_id</th>\n",
       "      <th>tip_text</th>\n",
       "      <th>tip_compliment_count</th>\n",
       "      <th>tip_date</th>\n",
       "      <th>photo_id</th>\n",
       "      <th>label</th>\n",
       "      <th>caption</th>\n",
       "      <th>categories_weight</th>\n",
       "    </tr>\n",
       "  </thead>\n",
       "  <tbody>\n",
       "    <tr>\n",
       "      <th>0</th>\n",
       "      <td>30 Eglinton Avenue W</td>\n",
       "      <td>NaN</td>\n",
       "      <td>NaN</td>\n",
       "      <td>u'full_bar'</td>\n",
       "      <td>{'romantic': False, 'intimate': False, 'classy...</td>\n",
       "      <td>NaN</td>\n",
       "      <td>NaN</td>\n",
       "      <td>NaN</td>\n",
       "      <td>False</td>\n",
       "      <td>NaN</td>\n",
       "      <td>...</td>\n",
       "      <td>ON</td>\n",
       "      <td>2010-07-05 16:56:31, 2010-12-21 20:30:01, 2010...</td>\n",
       "      <td>fENhF1F6I9c2ssnkfprYzw,RscJR5zqb3WL4eQezBX5rA,...</td>\n",
       "      <td>Spring &amp; egg rolls are great, get them with ex...</td>\n",
       "      <td>1.0</td>\n",
       "      <td>2016-08-08 01:48:14,2013-06-21 23:44:22,2017-1...</td>\n",
       "      <td>2LEm7R6KYy001sUrXvsnKA,bJnzJWtyXc9Acl4ev7KCXA,...</td>\n",
       "      <td>outside,food,inside</td>\n",
       "      <td>null,??, ???, ??,null</td>\n",
       "      <td>0.335724</td>\n",
       "    </tr>\n",
       "    <tr>\n",
       "      <th>1</th>\n",
       "      <td>Credit Valley Town Plaza, F2 - 6045 Creditview Rd</td>\n",
       "      <td>NaN</td>\n",
       "      <td>NaN</td>\n",
       "      <td>NaN</td>\n",
       "      <td>NaN</td>\n",
       "      <td>NaN</td>\n",
       "      <td>NaN</td>\n",
       "      <td>NaN</td>\n",
       "      <td>NaN</td>\n",
       "      <td>NaN</td>\n",
       "      <td>...</td>\n",
       "      <td>ON</td>\n",
       "      <td>2014-03-31 21:46:17, 2015-01-27 19:05:03, 2018...</td>\n",
       "      <td>jnB_saJqNfOmVoCWquhAzg</td>\n",
       "      <td>Good service</td>\n",
       "      <td>0.0</td>\n",
       "      <td>2014-03-31 21:46:39</td>\n",
       "      <td>NaN</td>\n",
       "      <td>NaN</td>\n",
       "      <td>NaN</td>\n",
       "      <td>0.122775</td>\n",
       "    </tr>\n",
       "    <tr>\n",
       "      <th>2</th>\n",
       "      <td>1455 16th Avenue</td>\n",
       "      <td>NaN</td>\n",
       "      <td>NaN</td>\n",
       "      <td>NaN</td>\n",
       "      <td>NaN</td>\n",
       "      <td>NaN</td>\n",
       "      <td>NaN</td>\n",
       "      <td>NaN</td>\n",
       "      <td>True</td>\n",
       "      <td>NaN</td>\n",
       "      <td>...</td>\n",
       "      <td>ON</td>\n",
       "      <td>2016-04-19 17:38:29, 2016-04-22 01:14:54, 2016...</td>\n",
       "      <td>CxDOIDnH8gp9KXzpBHJYXw,5vRBvQEbR12jXzC50cBYqw</td>\n",
       "      <td>Replacing My Yoga Studio,Went there for the fi...</td>\n",
       "      <td>0.0</td>\n",
       "      <td>2016-04-19 16:16:40,2017-09-20 15:10:00</td>\n",
       "      <td>NaN</td>\n",
       "      <td>NaN</td>\n",
       "      <td>NaN</td>\n",
       "      <td>0.023325</td>\n",
       "    </tr>\n",
       "    <tr>\n",
       "      <th>3</th>\n",
       "      <td>445 King Street W, Suite 101</td>\n",
       "      <td>True</td>\n",
       "      <td>NaN</td>\n",
       "      <td>NaN</td>\n",
       "      <td>NaN</td>\n",
       "      <td>NaN</td>\n",
       "      <td>NaN</td>\n",
       "      <td>NaN</td>\n",
       "      <td>NaN</td>\n",
       "      <td>NaN</td>\n",
       "      <td>...</td>\n",
       "      <td>ON</td>\n",
       "      <td>2010-10-23 14:00:26, 2010-10-24 16:33:33, 2010...</td>\n",
       "      <td>n1bfatw5wT1eRYWmHSLo9g,gLSQCEhGy7-uRnNbNnVykg</td>\n",
       "      <td>One-week guest pass is $44.,Very average. Best...</td>\n",
       "      <td>0.0</td>\n",
       "      <td>2014-08-07 03:35:10,2013-07-28 21:31:25</td>\n",
       "      <td>NaN</td>\n",
       "      <td>NaN</td>\n",
       "      <td>NaN</td>\n",
       "      <td>0.049283</td>\n",
       "    </tr>\n",
       "    <tr>\n",
       "      <th>4</th>\n",
       "      <td>865 York Mills Road, Unit 1</td>\n",
       "      <td>NaN</td>\n",
       "      <td>NaN</td>\n",
       "      <td>NaN</td>\n",
       "      <td>NaN</td>\n",
       "      <td>NaN</td>\n",
       "      <td>NaN</td>\n",
       "      <td>NaN</td>\n",
       "      <td>True</td>\n",
       "      <td>NaN</td>\n",
       "      <td>...</td>\n",
       "      <td>ON</td>\n",
       "      <td>2016-01-24 00:15:08, 2016-01-25 22:42:18, 2016...</td>\n",
       "      <td>keLUgL_4y60BkppiAsIk8Q,keLUgL_4y60BkppiAsIk8Q</td>\n",
       "      <td>Tried the tiramisu mini cake $16.. very light!...</td>\n",
       "      <td>1.0</td>\n",
       "      <td>2016-03-22 20:21:20,2016-01-23 20:02:08</td>\n",
       "      <td>NaN</td>\n",
       "      <td>NaN</td>\n",
       "      <td>NaN</td>\n",
       "      <td>0.064132</td>\n",
       "    </tr>\n",
       "  </tbody>\n",
       "</table>\n",
       "<p>5 rows × 67 columns</p>\n",
       "</div>"
      ],
      "text/plain": [
       "                                             address  \\\n",
       "0                               30 Eglinton Avenue W   \n",
       "1  Credit Valley Town Plaza, F2 - 6045 Creditview Rd   \n",
       "2                                   1455 16th Avenue   \n",
       "3                       445 King Street W, Suite 101   \n",
       "4                        865 York Mills Road, Unit 1   \n",
       "\n",
       "  attributes.AcceptsInsurance attributes.AgesAllowed attributes.Alcohol  \\\n",
       "0                         NaN                    NaN        u'full_bar'   \n",
       "1                         NaN                    NaN                NaN   \n",
       "2                         NaN                    NaN                NaN   \n",
       "3                        True                    NaN                NaN   \n",
       "4                         NaN                    NaN                NaN   \n",
       "\n",
       "                                 attributes.Ambience  attributes.BYOB  \\\n",
       "0  {'romantic': False, 'intimate': False, 'classy...              NaN   \n",
       "1                                                NaN              NaN   \n",
       "2                                                NaN              NaN   \n",
       "3                                                NaN              NaN   \n",
       "4                                                NaN              NaN   \n",
       "\n",
       "  attributes.BYOBCorkage attributes.BestNights attributes.BikeParking  \\\n",
       "0                    NaN                   NaN                  False   \n",
       "1                    NaN                   NaN                    NaN   \n",
       "2                    NaN                   NaN                   True   \n",
       "3                    NaN                   NaN                    NaN   \n",
       "4                    NaN                   NaN                   True   \n",
       "\n",
       "  attributes.BusinessAcceptsBitcoin        ...        state  \\\n",
       "0                               NaN        ...           ON   \n",
       "1                               NaN        ...           ON   \n",
       "2                               NaN        ...           ON   \n",
       "3                               NaN        ...           ON   \n",
       "4                               NaN        ...           ON   \n",
       "\n",
       "                                        checkin_date  \\\n",
       "0  2010-07-05 16:56:31, 2010-12-21 20:30:01, 2010...   \n",
       "1  2014-03-31 21:46:17, 2015-01-27 19:05:03, 2018...   \n",
       "2  2016-04-19 17:38:29, 2016-04-22 01:14:54, 2016...   \n",
       "3  2010-10-23 14:00:26, 2010-10-24 16:33:33, 2010...   \n",
       "4  2016-01-24 00:15:08, 2016-01-25 22:42:18, 2016...   \n",
       "\n",
       "                                             user_id  \\\n",
       "0  fENhF1F6I9c2ssnkfprYzw,RscJR5zqb3WL4eQezBX5rA,...   \n",
       "1                             jnB_saJqNfOmVoCWquhAzg   \n",
       "2      CxDOIDnH8gp9KXzpBHJYXw,5vRBvQEbR12jXzC50cBYqw   \n",
       "3      n1bfatw5wT1eRYWmHSLo9g,gLSQCEhGy7-uRnNbNnVykg   \n",
       "4      keLUgL_4y60BkppiAsIk8Q,keLUgL_4y60BkppiAsIk8Q   \n",
       "\n",
       "                                            tip_text tip_compliment_count  \\\n",
       "0  Spring & egg rolls are great, get them with ex...                  1.0   \n",
       "1                                       Good service                  0.0   \n",
       "2  Replacing My Yoga Studio,Went there for the fi...                  0.0   \n",
       "3  One-week guest pass is $44.,Very average. Best...                  0.0   \n",
       "4  Tried the tiramisu mini cake $16.. very light!...                  1.0   \n",
       "\n",
       "                                            tip_date  \\\n",
       "0  2016-08-08 01:48:14,2013-06-21 23:44:22,2017-1...   \n",
       "1                                2014-03-31 21:46:39   \n",
       "2            2016-04-19 16:16:40,2017-09-20 15:10:00   \n",
       "3            2014-08-07 03:35:10,2013-07-28 21:31:25   \n",
       "4            2016-03-22 20:21:20,2016-01-23 20:02:08   \n",
       "\n",
       "                                            photo_id                label  \\\n",
       "0  2LEm7R6KYy001sUrXvsnKA,bJnzJWtyXc9Acl4ev7KCXA,...  outside,food,inside   \n",
       "1                                                NaN                  NaN   \n",
       "2                                                NaN                  NaN   \n",
       "3                                                NaN                  NaN   \n",
       "4                                                NaN                  NaN   \n",
       "\n",
       "                 caption categories_weight  \n",
       "0  null,??, ???, ??,null          0.335724  \n",
       "1                    NaN          0.122775  \n",
       "2                    NaN          0.023325  \n",
       "3                    NaN          0.049283  \n",
       "4                    NaN          0.064132  \n",
       "\n",
       "[5 rows x 67 columns]"
      ]
     },
     "execution_count": 215,
     "metadata": {},
     "output_type": "execute_result"
    }
   ],
   "source": [
    "df.head()"
   ]
  },
  {
   "cell_type": "code",
   "execution_count": 216,
   "metadata": {},
   "outputs": [
    {
     "name": "stdout",
     "output_type": "stream",
     "text": [
      "<class 'pandas.core.frame.DataFrame'>\n",
      "RangeIndex: 33412 entries, 0 to 33411\n",
      "Data columns (total 67 columns):\n",
      "address                                  33012 non-null object\n",
      "attributes.AcceptsInsurance              566 non-null object\n",
      "attributes.AgesAllowed                   16 non-null object\n",
      "attributes.Alcohol                       11208 non-null object\n",
      "attributes.Ambience                      11561 non-null object\n",
      "attributes.BYOB                          0 non-null float64\n",
      "attributes.BYOBCorkage                   1 non-null object\n",
      "attributes.BestNights                    533 non-null object\n",
      "attributes.BikeParking                   17313 non-null object\n",
      "attributes.BusinessAcceptsBitcoin        2 non-null object\n",
      "attributes.BusinessAcceptsCreditCards    613 non-null object\n",
      "attributes.BusinessParking               21523 non-null object\n",
      "attributes.ByAppointmentOnly             5050 non-null object\n",
      "attributes.Caters                        9030 non-null object\n",
      "attributes.CoatCheck                     648 non-null object\n",
      "attributes.Corkage                       0 non-null float64\n",
      "attributes.DietaryRestrictions           17 non-null object\n",
      "attributes.DogsAllowed                   1590 non-null object\n",
      "attributes.DriveThru                     552 non-null object\n",
      "attributes.GoodForDancing                855 non-null object\n",
      "attributes.GoodForKids                   14726 non-null object\n",
      "attributes.GoodForMeal                   7100 non-null object\n",
      "attributes.HairSpecializesIn             122 non-null object\n",
      "attributes.HappyHour                     905 non-null object\n",
      "attributes.HasTV                         11531 non-null object\n",
      "attributes.Music                         885 non-null object\n",
      "attributes.NoiseLevel                    10661 non-null object\n",
      "attributes.Open24Hours                   2 non-null object\n",
      "attributes.OutdoorSeating                13262 non-null object\n",
      "attributes.RestaurantsAttire             11742 non-null object\n",
      "attributes.RestaurantsCounterService     1 non-null object\n",
      "attributes.RestaurantsDelivery           12594 non-null object\n",
      "attributes.RestaurantsGoodForGroups      13135 non-null object\n",
      "attributes.RestaurantsPriceRange2        23196 non-null object\n",
      "attributes.RestaurantsReservations       12576 non-null object\n",
      "attributes.RestaurantsTableService       4479 non-null object\n",
      "attributes.RestaurantsTakeOut            15058 non-null object\n",
      "attributes.Smoking                       617 non-null object\n",
      "attributes.WheelchairAccessible          3350 non-null object\n",
      "attributes.WiFi                          11868 non-null object\n",
      "business_id                              33412 non-null object\n",
      "categories                               33412 non-null object\n",
      "city                                     33412 non-null object\n",
      "hours.Friday                             24062 non-null object\n",
      "hours.Monday                             21648 non-null object\n",
      "hours.Saturday                           22688 non-null object\n",
      "hours.Sunday                             17810 non-null object\n",
      "hours.Thursday                           24061 non-null object\n",
      "hours.Tuesday                            23431 non-null object\n",
      "hours.Wednesday                          23919 non-null object\n",
      "is_open                                  33412 non-null int64\n",
      "latitude                                 33412 non-null float64\n",
      "longitude                                33412 non-null float64\n",
      "name                                     33412 non-null object\n",
      "postal_code                              33265 non-null object\n",
      "review_count                             33412 non-null int64\n",
      "stars                                    33412 non-null float64\n",
      "state                                    33412 non-null object\n",
      "checkin_date                             28652 non-null object\n",
      "user_id                                  21718 non-null object\n",
      "tip_text                                 21718 non-null object\n",
      "tip_compliment_count                     21718 non-null float64\n",
      "tip_date                                 21718 non-null object\n",
      "photo_id                                 7447 non-null object\n",
      "label                                    7447 non-null object\n",
      "caption                                  6286 non-null object\n",
      "categories_weight                        33412 non-null float64\n",
      "dtypes: float64(7), int64(2), object(58)\n",
      "memory usage: 17.1+ MB\n"
     ]
    }
   ],
   "source": [
    "df.info()"
   ]
  },
  {
   "cell_type": "code",
   "execution_count": 313,
   "metadata": {},
   "outputs": [
    {
     "data": {
      "text/plain": [
       "2       13892\n",
       "1        5945\n",
       "3        2827\n",
       "4         513\n",
       "None       19\n",
       "Name: attributes.RestaurantsPriceRange2, dtype: int64"
      ]
     },
     "execution_count": 313,
     "metadata": {},
     "output_type": "execute_result"
    }
   ],
   "source": [
    "df['attributes.RestaurantsPriceRange2'].value_counts()"
   ]
  },
  {
   "cell_type": "code",
   "execution_count": 248,
   "metadata": {},
   "outputs": [],
   "source": [
    "def category_feature_extraction(categories_list,get_top_num):\n",
    "    print(len(categories_list))\n",
    "    categories_list_rep = []\n",
    "    for i in range(len(categories_list)):\n",
    "        categories_list_rep.append(re.sub('[&/\\(),]', ' ', categories_list[i]))\n",
    "        \n",
    "    # tokenized \n",
    "    tokenized_category = [word_tokenize(word) for word in categories_list_rep]\n",
    "\n",
    "    #into the single word\n",
    "    all_categroy_words = []\n",
    "    for word_list in tokenized_category:\n",
    "        for word in word_list:\n",
    "            all_categroy_words.append(word)\n",
    "    \n",
    "    #Words Frenqucies\n",
    "    freq_list = FreqDist(all_categroy_words)\n",
    "\n",
    "    #into the pandas dataframe\n",
    "    category_df = pd.DataFrame.from_dict(freq_list, orient='index').reset_index()\n",
    "    category_df.head()\n",
    "    category_df = category_df.rename(columns={'index':'keyword', '0':'count'})\n",
    "    category_df.head()\n",
    "\n",
    "    #sort the words frequcies\n",
    "    category_df_sort = category_df.sort_values('count',ascending=False )\n",
    "\n",
    "    #return top_word_num\n",
    "    top_df = category_df_sort[:get_top_num]\n",
    "    top_list = top_df['keyword'].tolist()\n",
    "\n",
    "    return top_list\n"
   ]
  },
  {
   "cell_type": "code",
   "execution_count": 255,
   "metadata": {},
   "outputs": [],
   "source": [
    "test = pd.Series(df['categories']).tolist()"
   ]
  },
  {
   "cell_type": "code",
   "execution_count": 256,
   "metadata": {},
   "outputs": [],
   "source": [
    "categories_list_test=[]\n",
    "for i in range(len(test)):\n",
    "        categories_list_test.append(re.sub('[&/\\(),]', ' ', categories_list[i]))\n",
    "    "
   ]
  },
  {
   "cell_type": "code",
   "execution_count": 32,
   "metadata": {},
   "outputs": [],
   "source": [
    "#categories_list_test"
   ]
  },
  {
   "cell_type": "code",
   "execution_count": 261,
   "metadata": {},
   "outputs": [
    {
     "name": "stdout",
     "output_type": "stream",
     "text": [
      "<class 'pandas.core.frame.DataFrame'>\n",
      "RangeIndex: 33412 entries, 0 to 33411\n",
      "Data columns (total 67 columns):\n",
      "address                                  33012 non-null object\n",
      "attributes.AcceptsInsurance              566 non-null object\n",
      "attributes.AgesAllowed                   16 non-null object\n",
      "attributes.Alcohol                       11208 non-null object\n",
      "attributes.Ambience                      11561 non-null object\n",
      "attributes.BYOB                          0 non-null float64\n",
      "attributes.BYOBCorkage                   1 non-null object\n",
      "attributes.BestNights                    533 non-null object\n",
      "attributes.BikeParking                   17313 non-null object\n",
      "attributes.BusinessAcceptsBitcoin        2 non-null object\n",
      "attributes.BusinessAcceptsCreditCards    613 non-null object\n",
      "attributes.BusinessParking               21523 non-null object\n",
      "attributes.ByAppointmentOnly             5050 non-null object\n",
      "attributes.Caters                        9030 non-null object\n",
      "attributes.CoatCheck                     648 non-null object\n",
      "attributes.Corkage                       0 non-null float64\n",
      "attributes.DietaryRestrictions           17 non-null object\n",
      "attributes.DogsAllowed                   1590 non-null object\n",
      "attributes.DriveThru                     552 non-null object\n",
      "attributes.GoodForDancing                855 non-null object\n",
      "attributes.GoodForKids                   14726 non-null object\n",
      "attributes.GoodForMeal                   7100 non-null object\n",
      "attributes.HairSpecializesIn             122 non-null object\n",
      "attributes.HappyHour                     905 non-null object\n",
      "attributes.HasTV                         11531 non-null object\n",
      "attributes.Music                         885 non-null object\n",
      "attributes.NoiseLevel                    10661 non-null object\n",
      "attributes.Open24Hours                   2 non-null object\n",
      "attributes.OutdoorSeating                13262 non-null object\n",
      "attributes.RestaurantsAttire             11742 non-null object\n",
      "attributes.RestaurantsCounterService     1 non-null object\n",
      "attributes.RestaurantsDelivery           12594 non-null object\n",
      "attributes.RestaurantsGoodForGroups      13135 non-null object\n",
      "attributes.RestaurantsPriceRange2        23196 non-null object\n",
      "attributes.RestaurantsReservations       12576 non-null object\n",
      "attributes.RestaurantsTableService       4479 non-null object\n",
      "attributes.RestaurantsTakeOut            15058 non-null object\n",
      "attributes.Smoking                       617 non-null object\n",
      "attributes.WheelchairAccessible          3350 non-null object\n",
      "attributes.WiFi                          11868 non-null object\n",
      "business_id                              33412 non-null object\n",
      "categories                               33412 non-null object\n",
      "city                                     33412 non-null object\n",
      "hours.Friday                             24062 non-null object\n",
      "hours.Monday                             21648 non-null object\n",
      "hours.Saturday                           22688 non-null object\n",
      "hours.Sunday                             17810 non-null object\n",
      "hours.Thursday                           24061 non-null object\n",
      "hours.Tuesday                            23431 non-null object\n",
      "hours.Wednesday                          23919 non-null object\n",
      "is_open                                  33412 non-null int64\n",
      "latitude                                 33412 non-null float64\n",
      "longitude                                33412 non-null float64\n",
      "name                                     33412 non-null object\n",
      "postal_code                              33265 non-null object\n",
      "review_count                             33412 non-null int64\n",
      "stars                                    33412 non-null float64\n",
      "state                                    33412 non-null object\n",
      "checkin_date                             28652 non-null object\n",
      "user_id                                  21718 non-null object\n",
      "tip_text                                 21718 non-null object\n",
      "tip_compliment_count                     21718 non-null float64\n",
      "tip_date                                 21718 non-null object\n",
      "photo_id                                 7447 non-null object\n",
      "label                                    7447 non-null object\n",
      "caption                                  6286 non-null object\n",
      "categories_weight                        33412 non-null float64\n",
      "dtypes: float64(7), int64(2), object(58)\n",
      "memory usage: 17.1+ MB\n"
     ]
    }
   ],
   "source": [
    "df.info()"
   ]
  },
  {
   "cell_type": "code",
   "execution_count": 264,
   "metadata": {},
   "outputs": [],
   "source": []
  },
  {
   "cell_type": "markdown",
   "metadata": {},
   "source": [
    "## Opentime feature extraction"
   ]
  },
  {
   "cell_type": "code",
   "execution_count": 302,
   "metadata": {},
   "outputs": [],
   "source": [
    "def caculate_day_opentime (day_col):\n",
    "    float_list =[]\n",
    "    open_time = []\n",
    "\n",
    "\n",
    "    for item in day_col:\n",
    "        if item != 0:\n",
    "            string_list = item.split('-')\n",
    "            for string_num in string_list:\n",
    "                string_num1 = string_num.replace(':','.')\n",
    "                float_list.append(float(string_num1))\n",
    "                \n",
    "            if float_list[1] < float_list[0]:\n",
    "                opentime = float_list[1]+24 - float_list[0]\n",
    "            else:\n",
    "                opentime = float_list[1] - float_list[0]\n",
    "    \n",
    "            open_time.append(opentime)\n",
    "            float_list =[]\n",
    "        else:\n",
    "            open_time.append(0)\n",
    "         \n",
    "    return open_time\n",
    "         \n",
    "            "
   ]
  },
  {
   "cell_type": "code",
   "execution_count": null,
   "metadata": {},
   "outputs": [],
   "source": []
  },
  {
   "cell_type": "code",
   "execution_count": 305,
   "metadata": {},
   "outputs": [],
   "source": [
    "monday_list = df['hours.Monday'].fillna(0).tolist()\n",
    "monday_opentime = caculate_day_opentime(monday_list)\n",
    "\n",
    "tuesday_list = df['hours.Tuesday'].fillna(0).tolist()\n",
    "tuesday_opentime = caculate_day_opentime(monday_list)\n",
    "\n",
    "wednesday_list = df['hours.Wednesday'].fillna(0).tolist()\n",
    "wednesday_opentime = caculate_day_opentime(monday_list)\n",
    "\n",
    "thursday_list = df['hours.Thursday'].fillna(0).tolist()\n",
    "thursday_opentime = caculate_day_opentime(monday_list)\n",
    "\n",
    "friday_list = df['hours.Friday'].fillna(0).tolist()\n",
    "friday_opentime = caculate_day_opentime(friday_list)\n",
    "\n",
    "saturday_list = df['hours.Saturday'].fillna(0).tolist()\n",
    "saturday_opentime = caculate_day_opentime(saturday_list)\n",
    "\n",
    "sunday_list = df['hours.Sunday'].fillna(0).tolist()\n",
    "sunday_opentime = caculate_day_opentime(monday_list)"
   ]
  },
  {
   "cell_type": "code",
   "execution_count": 307,
   "metadata": {},
   "outputs": [],
   "source": [
    "df['monday_opentime'] = monday_opentime\n",
    "df['tuesday_opentime'] = tuesday_opentime\n",
    "df['wednesday_opentime'] = wednesday_opentime\n",
    "df['thursday_opentime'] = thursday_opentime\n",
    "df['friday_opentime'] = friday_opentime\n",
    "df['saturday_opentime'] = saturday_opentime\n",
    "df['sunday_opentime'] = sunday_opentime"
   ]
  },
  {
   "cell_type": "code",
   "execution_count": 308,
   "metadata": {},
   "outputs": [
    {
     "data": {
      "text/html": [
       "<div>\n",
       "<style scoped>\n",
       "    .dataframe tbody tr th:only-of-type {\n",
       "        vertical-align: middle;\n",
       "    }\n",
       "\n",
       "    .dataframe tbody tr th {\n",
       "        vertical-align: top;\n",
       "    }\n",
       "\n",
       "    .dataframe thead th {\n",
       "        text-align: right;\n",
       "    }\n",
       "</style>\n",
       "<table border=\"1\" class=\"dataframe\">\n",
       "  <thead>\n",
       "    <tr style=\"text-align: right;\">\n",
       "      <th></th>\n",
       "      <th>address</th>\n",
       "      <th>attributes.AcceptsInsurance</th>\n",
       "      <th>attributes.AgesAllowed</th>\n",
       "      <th>attributes.Alcohol</th>\n",
       "      <th>attributes.Ambience</th>\n",
       "      <th>attributes.BYOB</th>\n",
       "      <th>attributes.BYOBCorkage</th>\n",
       "      <th>attributes.BestNights</th>\n",
       "      <th>attributes.BikeParking</th>\n",
       "      <th>attributes.BusinessAcceptsBitcoin</th>\n",
       "      <th>...</th>\n",
       "      <th>label</th>\n",
       "      <th>caption</th>\n",
       "      <th>categories_weight</th>\n",
       "      <th>monday_opentime</th>\n",
       "      <th>tuesday_opentime</th>\n",
       "      <th>wednesday_opentime</th>\n",
       "      <th>thursday_opentime</th>\n",
       "      <th>friday_opentime</th>\n",
       "      <th>saturday_opentime</th>\n",
       "      <th>sunday_opentime</th>\n",
       "    </tr>\n",
       "  </thead>\n",
       "  <tbody>\n",
       "    <tr>\n",
       "      <th>0</th>\n",
       "      <td>30 Eglinton Avenue W</td>\n",
       "      <td>NaN</td>\n",
       "      <td>NaN</td>\n",
       "      <td>u'full_bar'</td>\n",
       "      <td>{'romantic': False, 'intimate': False, 'classy...</td>\n",
       "      <td>NaN</td>\n",
       "      <td>NaN</td>\n",
       "      <td>NaN</td>\n",
       "      <td>False</td>\n",
       "      <td>NaN</td>\n",
       "      <td>...</td>\n",
       "      <td>outside,food,inside</td>\n",
       "      <td>null,??, ???, ??,null</td>\n",
       "      <td>0.335724</td>\n",
       "      <td>15.0</td>\n",
       "      <td>15.0</td>\n",
       "      <td>15.0</td>\n",
       "      <td>15.0</td>\n",
       "      <td>16.0</td>\n",
       "      <td>16.0</td>\n",
       "      <td>15.0</td>\n",
       "    </tr>\n",
       "    <tr>\n",
       "      <th>1</th>\n",
       "      <td>Credit Valley Town Plaza, F2 - 6045 Creditview Rd</td>\n",
       "      <td>NaN</td>\n",
       "      <td>NaN</td>\n",
       "      <td>NaN</td>\n",
       "      <td>NaN</td>\n",
       "      <td>NaN</td>\n",
       "      <td>NaN</td>\n",
       "      <td>NaN</td>\n",
       "      <td>NaN</td>\n",
       "      <td>NaN</td>\n",
       "      <td>...</td>\n",
       "      <td>NaN</td>\n",
       "      <td>NaN</td>\n",
       "      <td>0.122775</td>\n",
       "      <td>10.0</td>\n",
       "      <td>10.0</td>\n",
       "      <td>10.0</td>\n",
       "      <td>10.0</td>\n",
       "      <td>10.0</td>\n",
       "      <td>6.0</td>\n",
       "      <td>10.0</td>\n",
       "    </tr>\n",
       "    <tr>\n",
       "      <th>2</th>\n",
       "      <td>1455 16th Avenue</td>\n",
       "      <td>NaN</td>\n",
       "      <td>NaN</td>\n",
       "      <td>NaN</td>\n",
       "      <td>NaN</td>\n",
       "      <td>NaN</td>\n",
       "      <td>NaN</td>\n",
       "      <td>NaN</td>\n",
       "      <td>True</td>\n",
       "      <td>NaN</td>\n",
       "      <td>...</td>\n",
       "      <td>NaN</td>\n",
       "      <td>NaN</td>\n",
       "      <td>0.023325</td>\n",
       "      <td>7.0</td>\n",
       "      <td>7.0</td>\n",
       "      <td>7.0</td>\n",
       "      <td>7.0</td>\n",
       "      <td>5.3</td>\n",
       "      <td>2.0</td>\n",
       "      <td>7.0</td>\n",
       "    </tr>\n",
       "    <tr>\n",
       "      <th>3</th>\n",
       "      <td>445 King Street W, Suite 101</td>\n",
       "      <td>True</td>\n",
       "      <td>NaN</td>\n",
       "      <td>NaN</td>\n",
       "      <td>NaN</td>\n",
       "      <td>NaN</td>\n",
       "      <td>NaN</td>\n",
       "      <td>NaN</td>\n",
       "      <td>NaN</td>\n",
       "      <td>NaN</td>\n",
       "      <td>...</td>\n",
       "      <td>NaN</td>\n",
       "      <td>NaN</td>\n",
       "      <td>0.049283</td>\n",
       "      <td>16.0</td>\n",
       "      <td>16.0</td>\n",
       "      <td>16.0</td>\n",
       "      <td>16.0</td>\n",
       "      <td>16.0</td>\n",
       "      <td>10.0</td>\n",
       "      <td>16.0</td>\n",
       "    </tr>\n",
       "    <tr>\n",
       "      <th>4</th>\n",
       "      <td>865 York Mills Road, Unit 1</td>\n",
       "      <td>NaN</td>\n",
       "      <td>NaN</td>\n",
       "      <td>NaN</td>\n",
       "      <td>NaN</td>\n",
       "      <td>NaN</td>\n",
       "      <td>NaN</td>\n",
       "      <td>NaN</td>\n",
       "      <td>True</td>\n",
       "      <td>NaN</td>\n",
       "      <td>...</td>\n",
       "      <td>NaN</td>\n",
       "      <td>NaN</td>\n",
       "      <td>0.064132</td>\n",
       "      <td>11.0</td>\n",
       "      <td>11.0</td>\n",
       "      <td>11.0</td>\n",
       "      <td>11.0</td>\n",
       "      <td>11.0</td>\n",
       "      <td>11.0</td>\n",
       "      <td>11.0</td>\n",
       "    </tr>\n",
       "  </tbody>\n",
       "</table>\n",
       "<p>5 rows × 74 columns</p>\n",
       "</div>"
      ],
      "text/plain": [
       "                                             address  \\\n",
       "0                               30 Eglinton Avenue W   \n",
       "1  Credit Valley Town Plaza, F2 - 6045 Creditview Rd   \n",
       "2                                   1455 16th Avenue   \n",
       "3                       445 King Street W, Suite 101   \n",
       "4                        865 York Mills Road, Unit 1   \n",
       "\n",
       "  attributes.AcceptsInsurance attributes.AgesAllowed attributes.Alcohol  \\\n",
       "0                         NaN                    NaN        u'full_bar'   \n",
       "1                         NaN                    NaN                NaN   \n",
       "2                         NaN                    NaN                NaN   \n",
       "3                        True                    NaN                NaN   \n",
       "4                         NaN                    NaN                NaN   \n",
       "\n",
       "                                 attributes.Ambience  attributes.BYOB  \\\n",
       "0  {'romantic': False, 'intimate': False, 'classy...              NaN   \n",
       "1                                                NaN              NaN   \n",
       "2                                                NaN              NaN   \n",
       "3                                                NaN              NaN   \n",
       "4                                                NaN              NaN   \n",
       "\n",
       "  attributes.BYOBCorkage attributes.BestNights attributes.BikeParking  \\\n",
       "0                    NaN                   NaN                  False   \n",
       "1                    NaN                   NaN                    NaN   \n",
       "2                    NaN                   NaN                   True   \n",
       "3                    NaN                   NaN                    NaN   \n",
       "4                    NaN                   NaN                   True   \n",
       "\n",
       "  attributes.BusinessAcceptsBitcoin       ...                      label  \\\n",
       "0                               NaN       ...        outside,food,inside   \n",
       "1                               NaN       ...                        NaN   \n",
       "2                               NaN       ...                        NaN   \n",
       "3                               NaN       ...                        NaN   \n",
       "4                               NaN       ...                        NaN   \n",
       "\n",
       "                 caption categories_weight monday_opentime tuesday_opentime  \\\n",
       "0  null,??, ???, ??,null          0.335724            15.0             15.0   \n",
       "1                    NaN          0.122775            10.0             10.0   \n",
       "2                    NaN          0.023325             7.0              7.0   \n",
       "3                    NaN          0.049283            16.0             16.0   \n",
       "4                    NaN          0.064132            11.0             11.0   \n",
       "\n",
       "   wednesday_opentime thursday_opentime friday_opentime saturday_opentime  \\\n",
       "0                15.0              15.0            16.0              16.0   \n",
       "1                10.0              10.0            10.0               6.0   \n",
       "2                 7.0               7.0             5.3               2.0   \n",
       "3                16.0              16.0            16.0              10.0   \n",
       "4                11.0              11.0            11.0              11.0   \n",
       "\n",
       "  sunday_opentime  \n",
       "0            15.0  \n",
       "1            10.0  \n",
       "2             7.0  \n",
       "3            16.0  \n",
       "4            11.0  \n",
       "\n",
       "[5 rows x 74 columns]"
      ]
     },
     "execution_count": 308,
     "metadata": {},
     "output_type": "execute_result"
    }
   ],
   "source": [
    "df.head()"
   ]
  },
  {
   "cell_type": "code",
   "execution_count": 309,
   "metadata": {},
   "outputs": [
    {
     "name": "stdout",
     "output_type": "stream",
     "text": [
      "<class 'pandas.core.frame.DataFrame'>\n",
      "RangeIndex: 33412 entries, 0 to 33411\n",
      "Data columns (total 74 columns):\n",
      "address                                  33012 non-null object\n",
      "attributes.AcceptsInsurance              566 non-null object\n",
      "attributes.AgesAllowed                   16 non-null object\n",
      "attributes.Alcohol                       11208 non-null object\n",
      "attributes.Ambience                      11561 non-null object\n",
      "attributes.BYOB                          0 non-null float64\n",
      "attributes.BYOBCorkage                   1 non-null object\n",
      "attributes.BestNights                    533 non-null object\n",
      "attributes.BikeParking                   17313 non-null object\n",
      "attributes.BusinessAcceptsBitcoin        2 non-null object\n",
      "attributes.BusinessAcceptsCreditCards    613 non-null object\n",
      "attributes.BusinessParking               21523 non-null object\n",
      "attributes.ByAppointmentOnly             5050 non-null object\n",
      "attributes.Caters                        9030 non-null object\n",
      "attributes.CoatCheck                     648 non-null object\n",
      "attributes.Corkage                       0 non-null float64\n",
      "attributes.DietaryRestrictions           17 non-null object\n",
      "attributes.DogsAllowed                   1590 non-null object\n",
      "attributes.DriveThru                     552 non-null object\n",
      "attributes.GoodForDancing                855 non-null object\n",
      "attributes.GoodForKids                   14726 non-null object\n",
      "attributes.GoodForMeal                   7100 non-null object\n",
      "attributes.HairSpecializesIn             122 non-null object\n",
      "attributes.HappyHour                     905 non-null object\n",
      "attributes.HasTV                         11531 non-null object\n",
      "attributes.Music                         885 non-null object\n",
      "attributes.NoiseLevel                    10661 non-null object\n",
      "attributes.Open24Hours                   2 non-null object\n",
      "attributes.OutdoorSeating                13262 non-null object\n",
      "attributes.RestaurantsAttire             11742 non-null object\n",
      "attributes.RestaurantsCounterService     1 non-null object\n",
      "attributes.RestaurantsDelivery           12594 non-null object\n",
      "attributes.RestaurantsGoodForGroups      13135 non-null object\n",
      "attributes.RestaurantsPriceRange2        23196 non-null object\n",
      "attributes.RestaurantsReservations       12576 non-null object\n",
      "attributes.RestaurantsTableService       4479 non-null object\n",
      "attributes.RestaurantsTakeOut            15058 non-null object\n",
      "attributes.Smoking                       617 non-null object\n",
      "attributes.WheelchairAccessible          3350 non-null object\n",
      "attributes.WiFi                          11868 non-null object\n",
      "business_id                              33412 non-null object\n",
      "categories                               33412 non-null object\n",
      "city                                     33412 non-null object\n",
      "hours.Friday                             24062 non-null object\n",
      "hours.Monday                             21648 non-null object\n",
      "hours.Saturday                           22688 non-null object\n",
      "hours.Sunday                             17810 non-null object\n",
      "hours.Thursday                           24061 non-null object\n",
      "hours.Tuesday                            23431 non-null object\n",
      "hours.Wednesday                          23919 non-null object\n",
      "is_open                                  33412 non-null int64\n",
      "latitude                                 33412 non-null float64\n",
      "longitude                                33412 non-null float64\n",
      "name                                     33412 non-null object\n",
      "postal_code                              33265 non-null object\n",
      "review_count                             33412 non-null int64\n",
      "stars                                    33412 non-null float64\n",
      "state                                    33412 non-null object\n",
      "checkin_date                             28652 non-null object\n",
      "user_id                                  21718 non-null object\n",
      "tip_text                                 21718 non-null object\n",
      "tip_compliment_count                     21718 non-null float64\n",
      "tip_date                                 21718 non-null object\n",
      "photo_id                                 7447 non-null object\n",
      "label                                    7447 non-null object\n",
      "caption                                  6286 non-null object\n",
      "categories_weight                        33412 non-null float64\n",
      "monday_opentime                          33412 non-null float64\n",
      "tuesday_opentime                         33412 non-null float64\n",
      "wednesday_opentime                       33412 non-null float64\n",
      "thursday_opentime                        33412 non-null float64\n",
      "friday_opentime                          33412 non-null float64\n",
      "saturday_opentime                        33412 non-null float64\n",
      "sunday_opentime                          33412 non-null float64\n",
      "dtypes: float64(14), int64(2), object(58)\n",
      "memory usage: 18.9+ MB\n"
     ]
    }
   ],
   "source": [
    "df.info()"
   ]
  },
  {
   "cell_type": "code",
   "execution_count": 314,
   "metadata": {},
   "outputs": [],
   "source": [
    "num_feature_col = ['is_open','latitude','longitude','tip_compliment_count','categories_weight',\n",
    "           'monday_opentime','tuesday_opentime','wednesday_opentime','thursday_opentime','friday_opentime',\n",
    "          'saturday_opentime','sunday_opentime','review_count']\n",
    "target = ['stars']"
   ]
  },
  {
   "cell_type": "code",
   "execution_count": 324,
   "metadata": {},
   "outputs": [],
   "source": [
    "df['tokenized_category'] = tokenized_category"
   ]
  },
  {
   "cell_type": "code",
   "execution_count": 325,
   "metadata": {},
   "outputs": [
    {
     "data": {
      "text/html": [
       "<div>\n",
       "<style scoped>\n",
       "    .dataframe tbody tr th:only-of-type {\n",
       "        vertical-align: middle;\n",
       "    }\n",
       "\n",
       "    .dataframe tbody tr th {\n",
       "        vertical-align: top;\n",
       "    }\n",
       "\n",
       "    .dataframe thead th {\n",
       "        text-align: right;\n",
       "    }\n",
       "</style>\n",
       "<table border=\"1\" class=\"dataframe\">\n",
       "  <thead>\n",
       "    <tr style=\"text-align: right;\">\n",
       "      <th></th>\n",
       "      <th>address</th>\n",
       "      <th>attributes.AcceptsInsurance</th>\n",
       "      <th>attributes.AgesAllowed</th>\n",
       "      <th>attributes.Alcohol</th>\n",
       "      <th>attributes.Ambience</th>\n",
       "      <th>attributes.BYOB</th>\n",
       "      <th>attributes.BYOBCorkage</th>\n",
       "      <th>attributes.BestNights</th>\n",
       "      <th>attributes.BikeParking</th>\n",
       "      <th>attributes.BusinessAcceptsBitcoin</th>\n",
       "      <th>...</th>\n",
       "      <th>caption</th>\n",
       "      <th>categories_weight</th>\n",
       "      <th>monday_opentime</th>\n",
       "      <th>tuesday_opentime</th>\n",
       "      <th>wednesday_opentime</th>\n",
       "      <th>thursday_opentime</th>\n",
       "      <th>friday_opentime</th>\n",
       "      <th>saturday_opentime</th>\n",
       "      <th>sunday_opentime</th>\n",
       "      <th>tokenized_category</th>\n",
       "    </tr>\n",
       "  </thead>\n",
       "  <tbody>\n",
       "    <tr>\n",
       "      <th>0</th>\n",
       "      <td>30 Eglinton Avenue W</td>\n",
       "      <td>NaN</td>\n",
       "      <td>NaN</td>\n",
       "      <td>u'full_bar'</td>\n",
       "      <td>{'romantic': False, 'intimate': False, 'classy...</td>\n",
       "      <td>NaN</td>\n",
       "      <td>NaN</td>\n",
       "      <td>NaN</td>\n",
       "      <td>False</td>\n",
       "      <td>NaN</td>\n",
       "      <td>...</td>\n",
       "      <td>null,??, ???, ??,null</td>\n",
       "      <td>0.335724</td>\n",
       "      <td>15.0</td>\n",
       "      <td>15.0</td>\n",
       "      <td>15.0</td>\n",
       "      <td>15.0</td>\n",
       "      <td>16.0</td>\n",
       "      <td>16.0</td>\n",
       "      <td>15.0</td>\n",
       "      <td>[Specialty, Food, Restaurants, Dim, Sum, Impor...</td>\n",
       "    </tr>\n",
       "    <tr>\n",
       "      <th>1</th>\n",
       "      <td>Credit Valley Town Plaza, F2 - 6045 Creditview Rd</td>\n",
       "      <td>NaN</td>\n",
       "      <td>NaN</td>\n",
       "      <td>NaN</td>\n",
       "      <td>NaN</td>\n",
       "      <td>NaN</td>\n",
       "      <td>NaN</td>\n",
       "      <td>NaN</td>\n",
       "      <td>NaN</td>\n",
       "      <td>NaN</td>\n",
       "      <td>...</td>\n",
       "      <td>NaN</td>\n",
       "      <td>0.122775</td>\n",
       "      <td>10.0</td>\n",
       "      <td>10.0</td>\n",
       "      <td>10.0</td>\n",
       "      <td>10.0</td>\n",
       "      <td>10.0</td>\n",
       "      <td>6.0</td>\n",
       "      <td>10.0</td>\n",
       "      <td>[Shipping, Centers, Couriers, Delivery, Servic...</td>\n",
       "    </tr>\n",
       "    <tr>\n",
       "      <th>2</th>\n",
       "      <td>1455 16th Avenue</td>\n",
       "      <td>NaN</td>\n",
       "      <td>NaN</td>\n",
       "      <td>NaN</td>\n",
       "      <td>NaN</td>\n",
       "      <td>NaN</td>\n",
       "      <td>NaN</td>\n",
       "      <td>NaN</td>\n",
       "      <td>True</td>\n",
       "      <td>NaN</td>\n",
       "      <td>...</td>\n",
       "      <td>NaN</td>\n",
       "      <td>0.023325</td>\n",
       "      <td>7.0</td>\n",
       "      <td>7.0</td>\n",
       "      <td>7.0</td>\n",
       "      <td>7.0</td>\n",
       "      <td>5.3</td>\n",
       "      <td>2.0</td>\n",
       "      <td>7.0</td>\n",
       "      <td>[Fitness, Instruction, Active, Life, Yoga]</td>\n",
       "    </tr>\n",
       "    <tr>\n",
       "      <th>3</th>\n",
       "      <td>445 King Street W, Suite 101</td>\n",
       "      <td>True</td>\n",
       "      <td>NaN</td>\n",
       "      <td>NaN</td>\n",
       "      <td>NaN</td>\n",
       "      <td>NaN</td>\n",
       "      <td>NaN</td>\n",
       "      <td>NaN</td>\n",
       "      <td>NaN</td>\n",
       "      <td>NaN</td>\n",
       "      <td>...</td>\n",
       "      <td>NaN</td>\n",
       "      <td>0.049283</td>\n",
       "      <td>16.0</td>\n",
       "      <td>16.0</td>\n",
       "      <td>16.0</td>\n",
       "      <td>16.0</td>\n",
       "      <td>16.0</td>\n",
       "      <td>10.0</td>\n",
       "      <td>16.0</td>\n",
       "      <td>[Trainers, Health, Medical, Active, Life, Phys...</td>\n",
       "    </tr>\n",
       "    <tr>\n",
       "      <th>4</th>\n",
       "      <td>865 York Mills Road, Unit 1</td>\n",
       "      <td>NaN</td>\n",
       "      <td>NaN</td>\n",
       "      <td>NaN</td>\n",
       "      <td>NaN</td>\n",
       "      <td>NaN</td>\n",
       "      <td>NaN</td>\n",
       "      <td>NaN</td>\n",
       "      <td>True</td>\n",
       "      <td>NaN</td>\n",
       "      <td>...</td>\n",
       "      <td>NaN</td>\n",
       "      <td>0.064132</td>\n",
       "      <td>11.0</td>\n",
       "      <td>11.0</td>\n",
       "      <td>11.0</td>\n",
       "      <td>11.0</td>\n",
       "      <td>11.0</td>\n",
       "      <td>11.0</td>\n",
       "      <td>11.0</td>\n",
       "      <td>[Bakeries, Food]</td>\n",
       "    </tr>\n",
       "  </tbody>\n",
       "</table>\n",
       "<p>5 rows × 75 columns</p>\n",
       "</div>"
      ],
      "text/plain": [
       "                                             address  \\\n",
       "0                               30 Eglinton Avenue W   \n",
       "1  Credit Valley Town Plaza, F2 - 6045 Creditview Rd   \n",
       "2                                   1455 16th Avenue   \n",
       "3                       445 King Street W, Suite 101   \n",
       "4                        865 York Mills Road, Unit 1   \n",
       "\n",
       "  attributes.AcceptsInsurance attributes.AgesAllowed attributes.Alcohol  \\\n",
       "0                         NaN                    NaN        u'full_bar'   \n",
       "1                         NaN                    NaN                NaN   \n",
       "2                         NaN                    NaN                NaN   \n",
       "3                        True                    NaN                NaN   \n",
       "4                         NaN                    NaN                NaN   \n",
       "\n",
       "                                 attributes.Ambience  attributes.BYOB  \\\n",
       "0  {'romantic': False, 'intimate': False, 'classy...              NaN   \n",
       "1                                                NaN              NaN   \n",
       "2                                                NaN              NaN   \n",
       "3                                                NaN              NaN   \n",
       "4                                                NaN              NaN   \n",
       "\n",
       "  attributes.BYOBCorkage attributes.BestNights attributes.BikeParking  \\\n",
       "0                    NaN                   NaN                  False   \n",
       "1                    NaN                   NaN                    NaN   \n",
       "2                    NaN                   NaN                   True   \n",
       "3                    NaN                   NaN                    NaN   \n",
       "4                    NaN                   NaN                   True   \n",
       "\n",
       "  attributes.BusinessAcceptsBitcoin  \\\n",
       "0                               NaN   \n",
       "1                               NaN   \n",
       "2                               NaN   \n",
       "3                               NaN   \n",
       "4                               NaN   \n",
       "\n",
       "                         ...                                        caption  \\\n",
       "0                        ...                          null,??, ???, ??,null   \n",
       "1                        ...                                            NaN   \n",
       "2                        ...                                            NaN   \n",
       "3                        ...                                            NaN   \n",
       "4                        ...                                            NaN   \n",
       "\n",
       "  categories_weight monday_opentime tuesday_opentime wednesday_opentime  \\\n",
       "0          0.335724            15.0             15.0               15.0   \n",
       "1          0.122775            10.0             10.0               10.0   \n",
       "2          0.023325             7.0              7.0                7.0   \n",
       "3          0.049283            16.0             16.0               16.0   \n",
       "4          0.064132            11.0             11.0               11.0   \n",
       "\n",
       "   thursday_opentime friday_opentime saturday_opentime sunday_opentime  \\\n",
       "0               15.0            16.0              16.0            15.0   \n",
       "1               10.0            10.0               6.0            10.0   \n",
       "2                7.0             5.3               2.0             7.0   \n",
       "3               16.0            16.0              10.0            16.0   \n",
       "4               11.0            11.0              11.0            11.0   \n",
       "\n",
       "                                  tokenized_category  \n",
       "0  [Specialty, Food, Restaurants, Dim, Sum, Impor...  \n",
       "1  [Shipping, Centers, Couriers, Delivery, Servic...  \n",
       "2         [Fitness, Instruction, Active, Life, Yoga]  \n",
       "3  [Trainers, Health, Medical, Active, Life, Phys...  \n",
       "4                                   [Bakeries, Food]  \n",
       "\n",
       "[5 rows x 75 columns]"
      ]
     },
     "execution_count": 325,
     "metadata": {},
     "output_type": "execute_result"
    }
   ],
   "source": [
    "df.head()"
   ]
  },
  {
   "cell_type": "markdown",
   "metadata": {},
   "source": [
    "# Recommendation Algorithm\n",
    "\n",
    "## Building an Item-Based Recommender\n",
    "\n",
    "### An item-based recommender performs three tasks:   \n",
    " - Generalize information about a “thing” or item.\n",
    " - Score all other items to find ones “like” this one.\n",
    " - Return ranked scores + items.\n",
    "\n",
    "\n",
    "### The item-based collaborative filter depends on a similarity score to compare items.    \n",
    "\n",
    " - the cosine similarity provides a reasonable comparison between two nonzero vectors. \n",
    " - uses the cosine distance, which is the complement of the cosine similarity in the positive space, or:\n",
    "        DC(A,B) = 1 – SC(A,B)\n",
    "        where DC is the cosine distance and SC is the cosine similarity."
   ]
  },
  {
   "cell_type": "code",
   "execution_count": 326,
   "metadata": {},
   "outputs": [],
   "source": [
    "unique_category = sorted(list({ feature\n",
    "                          for item_row in df.tokenized_category.fillna('0')\n",
    "                          for feature in item_row }))\n"
   ]
  },
  {
   "cell_type": "code",
   "execution_count": 328,
   "metadata": {},
   "outputs": [],
   "source": [
    "unique_rating = sorted(df['stars'].astype('str').unique())"
   ]
  },
  {
   "cell_type": "code",
   "execution_count": 329,
   "metadata": {},
   "outputs": [
    {
     "data": {
      "text/plain": [
       "['1.0', '1.5', '2.0', '2.5', '3.0', '3.5', '4.0', '4.5', '5.0']"
      ]
     },
     "execution_count": 329,
     "metadata": {},
     "output_type": "execute_result"
    }
   ],
   "source": [
    "unique_rating"
   ]
  },
  {
   "cell_type": "code",
   "execution_count": 330,
   "metadata": {},
   "outputs": [
    {
     "data": {
      "text/plain": [
       "1098"
      ]
     },
     "execution_count": 330,
     "metadata": {},
     "output_type": "execute_result"
    }
   ],
   "source": [
    "len(unique_category + unique_rating)"
   ]
  },
  {
   "cell_type": "code",
   "execution_count": 331,
   "metadata": {},
   "outputs": [
    {
     "data": {
      "text/plain": [
       "['Beauty',\n",
       " 'Educational',\n",
       " 'Formal',\n",
       " 'Go',\n",
       " 'Hauling',\n",
       " 'High',\n",
       " 'Izakaya',\n",
       " 'Masonry',\n",
       " 'Moroccan',\n",
       " 'Nose',\n",
       " 'Opera',\n",
       " 'Permanent',\n",
       " 'Piercing',\n",
       " 'Towing',\n",
       " 'Vitamins']"
      ]
     },
     "execution_count": 331,
     "metadata": {},
     "output_type": "execute_result"
    }
   ],
   "source": [
    "import random\n",
    "[unique_category[i] for i in sorted(random.sample(range(len(unique_category)), 15)) ]\n"
   ]
  },
  {
   "cell_type": "code",
   "execution_count": 332,
   "metadata": {},
   "outputs": [],
   "source": [
    "def feature_array(x, unique_array):\n",
    "    row_dict = {}\n",
    "    for i in x.index:\n",
    "        var_dict = {}\n",
    "        \n",
    "        for j in range(len(unique_array)):\n",
    "            if type(x[i]) is list:\n",
    "                if unique_array[j] in x[i]:\n",
    "                    var_dict.update({unique_array[j]: 1})\n",
    "                else:\n",
    "                    var_dict.update({unique_array[j]: 0})\n",
    "            else:    \n",
    "                if unique_array[j] == str(x[i]):\n",
    "                    var_dict.update({unique_array[j]: 1})\n",
    "                else:\n",
    "                    var_dict.update({unique_array[j]: 0})\n",
    "        \n",
    "        row_dict.update({i : var_dict})\n",
    "    \n",
    "    feature_df = pd.DataFrame.from_dict(row_dict, dtype='str').T\n",
    "    \n",
    "    return feature_df\n"
   ]
  },
  {
   "cell_type": "code",
   "execution_count": 334,
   "metadata": {},
   "outputs": [
    {
     "name": "stdout",
     "output_type": "stream",
     "text": [
      "CPU times: user 10.3 s, sys: 28.4 ms, total: 10.3 s\n",
      "Wall time: 10.3 s\n"
     ]
    }
   ],
   "source": [
    "%time rating_feature = feature_array(df['stars'], unique_rating)\n"
   ]
  },
  {
   "cell_type": "code",
   "execution_count": 354,
   "metadata": {},
   "outputs": [
    {
     "name": "stdout",
     "output_type": "stream",
     "text": [
      "CPU times: user 18min 51s, sys: 6.12 s, total: 18min 57s\n",
      "Wall time: 19min 2s\n"
     ]
    }
   ],
   "source": [
    "%time category_features = feature_array(df['tokenized_category'], unique_category)\n",
    "\n",
    "\n"
   ]
  },
  {
   "cell_type": "code",
   "execution_count": 355,
   "metadata": {},
   "outputs": [
    {
     "data": {
      "text/html": [
       "<div>\n",
       "<style scoped>\n",
       "    .dataframe tbody tr th:only-of-type {\n",
       "        vertical-align: middle;\n",
       "    }\n",
       "\n",
       "    .dataframe tbody tr th {\n",
       "        vertical-align: top;\n",
       "    }\n",
       "\n",
       "    .dataframe thead th {\n",
       "        text-align: right;\n",
       "    }\n",
       "</style>\n",
       "<table border=\"1\" class=\"dataframe\">\n",
       "  <thead>\n",
       "    <tr style=\"text-align: right;\">\n",
       "      <th></th>\n",
       "      <th>'s</th>\n",
       "      <th>3D</th>\n",
       "      <th>Acai</th>\n",
       "      <th>Accessories</th>\n",
       "      <th>Accountants</th>\n",
       "      <th>Acne</th>\n",
       "      <th>Active</th>\n",
       "      <th>Activities</th>\n",
       "      <th>Acupuncture</th>\n",
       "      <th>Adoption</th>\n",
       "      <th>...</th>\n",
       "      <th>Wraps</th>\n",
       "      <th>Yelp</th>\n",
       "      <th>Yoga</th>\n",
       "      <th>Yogurt</th>\n",
       "      <th>Your</th>\n",
       "      <th>Zoos</th>\n",
       "      <th>and</th>\n",
       "      <th>nan</th>\n",
       "      <th>of</th>\n",
       "      <th>tours</th>\n",
       "    </tr>\n",
       "  </thead>\n",
       "  <tbody>\n",
       "    <tr>\n",
       "      <th>0</th>\n",
       "      <td>0</td>\n",
       "      <td>0</td>\n",
       "      <td>0</td>\n",
       "      <td>0</td>\n",
       "      <td>0</td>\n",
       "      <td>0</td>\n",
       "      <td>0</td>\n",
       "      <td>0</td>\n",
       "      <td>0</td>\n",
       "      <td>0</td>\n",
       "      <td>...</td>\n",
       "      <td>0</td>\n",
       "      <td>0</td>\n",
       "      <td>0</td>\n",
       "      <td>0</td>\n",
       "      <td>0</td>\n",
       "      <td>0</td>\n",
       "      <td>0</td>\n",
       "      <td>0</td>\n",
       "      <td>0</td>\n",
       "      <td>0</td>\n",
       "    </tr>\n",
       "    <tr>\n",
       "      <th>1</th>\n",
       "      <td>0</td>\n",
       "      <td>0</td>\n",
       "      <td>0</td>\n",
       "      <td>0</td>\n",
       "      <td>0</td>\n",
       "      <td>0</td>\n",
       "      <td>0</td>\n",
       "      <td>0</td>\n",
       "      <td>0</td>\n",
       "      <td>0</td>\n",
       "      <td>...</td>\n",
       "      <td>0</td>\n",
       "      <td>0</td>\n",
       "      <td>0</td>\n",
       "      <td>0</td>\n",
       "      <td>0</td>\n",
       "      <td>0</td>\n",
       "      <td>0</td>\n",
       "      <td>0</td>\n",
       "      <td>0</td>\n",
       "      <td>0</td>\n",
       "    </tr>\n",
       "    <tr>\n",
       "      <th>2</th>\n",
       "      <td>0</td>\n",
       "      <td>0</td>\n",
       "      <td>0</td>\n",
       "      <td>0</td>\n",
       "      <td>0</td>\n",
       "      <td>0</td>\n",
       "      <td>1</td>\n",
       "      <td>0</td>\n",
       "      <td>0</td>\n",
       "      <td>0</td>\n",
       "      <td>...</td>\n",
       "      <td>0</td>\n",
       "      <td>0</td>\n",
       "      <td>1</td>\n",
       "      <td>0</td>\n",
       "      <td>0</td>\n",
       "      <td>0</td>\n",
       "      <td>0</td>\n",
       "      <td>0</td>\n",
       "      <td>0</td>\n",
       "      <td>0</td>\n",
       "    </tr>\n",
       "    <tr>\n",
       "      <th>3</th>\n",
       "      <td>0</td>\n",
       "      <td>0</td>\n",
       "      <td>0</td>\n",
       "      <td>0</td>\n",
       "      <td>0</td>\n",
       "      <td>0</td>\n",
       "      <td>1</td>\n",
       "      <td>0</td>\n",
       "      <td>0</td>\n",
       "      <td>0</td>\n",
       "      <td>...</td>\n",
       "      <td>0</td>\n",
       "      <td>0</td>\n",
       "      <td>0</td>\n",
       "      <td>0</td>\n",
       "      <td>0</td>\n",
       "      <td>0</td>\n",
       "      <td>0</td>\n",
       "      <td>0</td>\n",
       "      <td>0</td>\n",
       "      <td>0</td>\n",
       "    </tr>\n",
       "    <tr>\n",
       "      <th>4</th>\n",
       "      <td>0</td>\n",
       "      <td>0</td>\n",
       "      <td>0</td>\n",
       "      <td>0</td>\n",
       "      <td>0</td>\n",
       "      <td>0</td>\n",
       "      <td>0</td>\n",
       "      <td>0</td>\n",
       "      <td>0</td>\n",
       "      <td>0</td>\n",
       "      <td>...</td>\n",
       "      <td>0</td>\n",
       "      <td>0</td>\n",
       "      <td>0</td>\n",
       "      <td>0</td>\n",
       "      <td>0</td>\n",
       "      <td>0</td>\n",
       "      <td>0</td>\n",
       "      <td>0</td>\n",
       "      <td>0</td>\n",
       "      <td>0</td>\n",
       "    </tr>\n",
       "  </tbody>\n",
       "</table>\n",
       "<p>5 rows × 1089 columns</p>\n",
       "</div>"
      ],
      "text/plain": [
       "  's 3D Acai Accessories Accountants Acne Active Activities Acupuncture  \\\n",
       "0  0  0    0           0           0    0      0          0           0   \n",
       "1  0  0    0           0           0    0      0          0           0   \n",
       "2  0  0    0           0           0    0      1          0           0   \n",
       "3  0  0    0           0           0    0      1          0           0   \n",
       "4  0  0    0           0           0    0      0          0           0   \n",
       "\n",
       "  Adoption  ...  Wraps Yelp Yoga Yogurt Your Zoos and nan of tours  \n",
       "0        0  ...      0    0    0      0    0    0   0   0  0     0  \n",
       "1        0  ...      0    0    0      0    0    0   0   0  0     0  \n",
       "2        0  ...      0    0    1      0    0    0   0   0  0     0  \n",
       "3        0  ...      0    0    0      0    0    0   0   0  0     0  \n",
       "4        0  ...      0    0    0      0    0    0   0   0  0     0  \n",
       "\n",
       "[5 rows x 1089 columns]"
      ]
     },
     "execution_count": 355,
     "metadata": {},
     "output_type": "execute_result"
    }
   ],
   "source": [
    "category_features.head()"
   ]
  },
  {
   "cell_type": "code",
   "execution_count": 356,
   "metadata": {},
   "outputs": [
    {
     "name": "stdout",
     "output_type": "stream",
     "text": [
      "Size of category_features array:  2401721408\n"
     ]
    }
   ],
   "source": [
    "\n",
    "from sys import getsizeof\n",
    "print('Size of category_features array: ', getsizeof(category_features))\n",
    "\n"
   ]
  },
  {
   "cell_type": "code",
   "execution_count": 357,
   "metadata": {},
   "outputs": [
    {
     "data": {
      "text/plain": [
       "1098"
      ]
     },
     "execution_count": 357,
     "metadata": {},
     "output_type": "execute_result"
    }
   ],
   "source": [
    "rating_feature.shape[1] + category_features.shape[1]"
   ]
  },
  {
   "cell_type": "code",
   "execution_count": 358,
   "metadata": {},
   "outputs": [
    {
     "name": "stdout",
     "output_type": "stream",
     "text": [
      "CPU times: user 3.77 s, sys: 665 ms, total: 4.44 s\n",
      "Wall time: 4.65 s\n",
      "Size of first feature array:  2421406924\n"
     ]
    }
   ],
   "source": [
    "\n",
    "%time first_features = category_features.join(rating_feature).T\n",
    "\n",
    "first_size = getsizeof(first_features)\n",
    "\n",
    "print('Size of first feature array: ', first_size)\n"
   ]
  },
  {
   "cell_type": "code",
   "execution_count": 359,
   "metadata": {},
   "outputs": [
    {
     "data": {
      "text/plain": [
       "(1098, 33412)"
      ]
     },
     "execution_count": 359,
     "metadata": {},
     "output_type": "execute_result"
    }
   ],
   "source": [
    "first_features.shape"
   ]
  },
  {
   "cell_type": "code",
   "execution_count": null,
   "metadata": {},
   "outputs": [],
   "source": []
  },
  {
   "cell_type": "code",
   "execution_count": 361,
   "metadata": {},
   "outputs": [],
   "source": [
    "from scipy.spatial.distance import cosine\n",
    "\n",
    "def item_collab_filter(features_df):\n",
    "    item_similarities = pd.DataFrame(index = features_df.columns, columns = features_df.columns)\n",
    "    \n",
    "    for i in features_df.columns:\n",
    "        for j in features_df.columns:\n",
    "            item_similarities.loc[i][j] = 1 - cosine(features_df[i], features_df[j])\n",
    "    \n",
    "    return item_similarities\n"
   ]
  },
  {
   "cell_type": "code",
   "execution_count": 365,
   "metadata": {},
   "outputs": [
    {
     "name": "stdout",
     "output_type": "stream",
     "text": [
      "<class 'pandas.core.frame.DataFrame'>\n",
      "Index: 1098 entries, 's to 5.0\n",
      "Columns: 33412 entries, 0 to 33411\n",
      "dtypes: object(33412)\n",
      "memory usage: 279.9+ MB\n"
     ]
    }
   ],
   "source": [
    "\n",
    "first_features.apply(pd.to_numeric)\n",
    "first_features.info()\n"
   ]
  },
  {
   "cell_type": "code",
   "execution_count": null,
   "metadata": {},
   "outputs": [],
   "source": []
  },
  {
   "cell_type": "code",
   "execution_count": 348,
   "metadata": {},
   "outputs": [
    {
     "name": "stdout",
     "output_type": "stream",
     "text": [
      "<class 'pandas.core.frame.DataFrame'>\n",
      "Index: 1098 entries, 's to 5.0\n",
      "Columns: 33412 entries, 0 to 33411\n",
      "dtypes: object(33412)\n",
      "memory usage: 279.9+ MB\n"
     ]
    }
   ],
   "source": [
    "first_features.info()"
   ]
  },
  {
   "cell_type": "code",
   "execution_count": 368,
   "metadata": {},
   "outputs": [],
   "source": [
    "from scipy.spatial.distance import cosine"
   ]
  },
  {
   "cell_type": "code",
   "execution_count": 374,
   "metadata": {},
   "outputs": [
    {
     "data": {
      "text/html": [
       "<div>\n",
       "<style scoped>\n",
       "    .dataframe tbody tr th:only-of-type {\n",
       "        vertical-align: middle;\n",
       "    }\n",
       "\n",
       "    .dataframe tbody tr th {\n",
       "        vertical-align: top;\n",
       "    }\n",
       "\n",
       "    .dataframe thead th {\n",
       "        text-align: right;\n",
       "    }\n",
       "</style>\n",
       "<table border=\"1\" class=\"dataframe\">\n",
       "  <thead>\n",
       "    <tr style=\"text-align: right;\">\n",
       "      <th></th>\n",
       "      <th>business_id</th>\n",
       "      <th>stars</th>\n",
       "      <th>tokenized_category</th>\n",
       "    </tr>\n",
       "  </thead>\n",
       "  <tbody>\n",
       "    <tr>\n",
       "      <th>0</th>\n",
       "      <td>QXAEGFB4oINsVuTFxEYKFQ</td>\n",
       "      <td>2.5</td>\n",
       "      <td>[Specialty, Food, Restaurants, Dim, Sum, Impor...</td>\n",
       "    </tr>\n",
       "    <tr>\n",
       "      <th>1</th>\n",
       "      <td>68dUKd8_8liJ7in4aWOSEA</td>\n",
       "      <td>2.5</td>\n",
       "      <td>[Shipping, Centers, Couriers, Delivery, Servic...</td>\n",
       "    </tr>\n",
       "    <tr>\n",
       "      <th>2</th>\n",
       "      <td>A98xW4qb7vOTguggHFs7Ng</td>\n",
       "      <td>4.0</td>\n",
       "      <td>[Fitness, Instruction, Active, Life, Yoga]</td>\n",
       "    </tr>\n",
       "    <tr>\n",
       "      <th>3</th>\n",
       "      <td>zSpQmEBvRe3IhTUlMSA6HQ</td>\n",
       "      <td>4.0</td>\n",
       "      <td>[Trainers, Health, Medical, Active, Life, Phys...</td>\n",
       "    </tr>\n",
       "    <tr>\n",
       "      <th>4</th>\n",
       "      <td>C9oCPomVP0mtKa8z99E3gg</td>\n",
       "      <td>4.5</td>\n",
       "      <td>[Bakeries, Food]</td>\n",
       "    </tr>\n",
       "  </tbody>\n",
       "</table>\n",
       "</div>"
      ],
      "text/plain": [
       "              business_id  stars  \\\n",
       "0  QXAEGFB4oINsVuTFxEYKFQ    2.5   \n",
       "1  68dUKd8_8liJ7in4aWOSEA    2.5   \n",
       "2  A98xW4qb7vOTguggHFs7Ng    4.0   \n",
       "3  zSpQmEBvRe3IhTUlMSA6HQ    4.0   \n",
       "4  C9oCPomVP0mtKa8z99E3gg    4.5   \n",
       "\n",
       "                                  tokenized_category  \n",
       "0  [Specialty, Food, Restaurants, Dim, Sum, Impor...  \n",
       "1  [Shipping, Centers, Couriers, Delivery, Servic...  \n",
       "2         [Fitness, Instruction, Active, Life, Yoga]  \n",
       "3  [Trainers, Health, Medical, Active, Life, Phys...  \n",
       "4                                   [Bakeries, Food]  "
      ]
     },
     "execution_count": 374,
     "metadata": {},
     "output_type": "execute_result"
    }
   ],
   "source": [
    "basic_rec_df = df[['business_id','stars','tokenized_category']]\n",
    "basic_rec_df.head()"
   ]
  },
  {
   "cell_type": "code",
   "execution_count": 614,
   "metadata": {},
   "outputs": [],
   "source": [
    "basic_rec_df.to_csv('basic_rec_df.csv')"
   ]
  },
  {
   "cell_type": "code",
   "execution_count": 390,
   "metadata": {},
   "outputs": [],
   "source": [
    "#binning + dummy coding\n",
    "bins = int(round((basic_rec_df['stars'].max() - basic_rec_df['stars'].min()) /0.5))\n",
    "\n",
    "temp_df = pd.DataFrame(index = basic_rec_df.index)\n",
    "temp_df['stars_Binned'] = pd.cut(basic_rec_df['stars'].tolist(), bins,precision = 0)"
   ]
  },
  {
   "cell_type": "code",
   "execution_count": 394,
   "metadata": {},
   "outputs": [
    {
     "data": {
      "text/html": [
       "<div>\n",
       "<style scoped>\n",
       "    .dataframe tbody tr th:only-of-type {\n",
       "        vertical-align: middle;\n",
       "    }\n",
       "\n",
       "    .dataframe tbody tr th {\n",
       "        vertical-align: top;\n",
       "    }\n",
       "\n",
       "    .dataframe thead th {\n",
       "        text-align: right;\n",
       "    }\n",
       "</style>\n",
       "<table border=\"1\" class=\"dataframe\">\n",
       "  <thead>\n",
       "    <tr style=\"text-align: right;\">\n",
       "      <th></th>\n",
       "      <th>(1.0, 1.5]</th>\n",
       "      <th>(1.5, 2.0]</th>\n",
       "      <th>(2.0, 2.5]</th>\n",
       "      <th>(2.5, 3.0]</th>\n",
       "      <th>(3.0, 3.5]</th>\n",
       "      <th>(3.5, 4.0]</th>\n",
       "      <th>(4.0, 4.5]</th>\n",
       "      <th>(4.5, 5.0]</th>\n",
       "    </tr>\n",
       "  </thead>\n",
       "  <tbody>\n",
       "    <tr>\n",
       "      <th>0</th>\n",
       "      <td>0</td>\n",
       "      <td>0</td>\n",
       "      <td>1</td>\n",
       "      <td>0</td>\n",
       "      <td>0</td>\n",
       "      <td>0</td>\n",
       "      <td>0</td>\n",
       "      <td>0</td>\n",
       "    </tr>\n",
       "    <tr>\n",
       "      <th>1</th>\n",
       "      <td>0</td>\n",
       "      <td>0</td>\n",
       "      <td>1</td>\n",
       "      <td>0</td>\n",
       "      <td>0</td>\n",
       "      <td>0</td>\n",
       "      <td>0</td>\n",
       "      <td>0</td>\n",
       "    </tr>\n",
       "    <tr>\n",
       "      <th>2</th>\n",
       "      <td>0</td>\n",
       "      <td>0</td>\n",
       "      <td>0</td>\n",
       "      <td>0</td>\n",
       "      <td>0</td>\n",
       "      <td>1</td>\n",
       "      <td>0</td>\n",
       "      <td>0</td>\n",
       "    </tr>\n",
       "    <tr>\n",
       "      <th>3</th>\n",
       "      <td>0</td>\n",
       "      <td>0</td>\n",
       "      <td>0</td>\n",
       "      <td>0</td>\n",
       "      <td>0</td>\n",
       "      <td>1</td>\n",
       "      <td>0</td>\n",
       "      <td>0</td>\n",
       "    </tr>\n",
       "    <tr>\n",
       "      <th>4</th>\n",
       "      <td>0</td>\n",
       "      <td>0</td>\n",
       "      <td>0</td>\n",
       "      <td>0</td>\n",
       "      <td>0</td>\n",
       "      <td>0</td>\n",
       "      <td>1</td>\n",
       "      <td>0</td>\n",
       "    </tr>\n",
       "  </tbody>\n",
       "</table>\n",
       "</div>"
      ],
      "text/plain": [
       "   (1.0, 1.5]  (1.5, 2.0]  (2.0, 2.5]  (2.5, 3.0]  (3.0, 3.5]  (3.5, 4.0]  \\\n",
       "0           0           0           1           0           0           0   \n",
       "1           0           0           1           0           0           0   \n",
       "2           0           0           0           0           0           1   \n",
       "3           0           0           0           0           0           1   \n",
       "4           0           0           0           0           0           0   \n",
       "\n",
       "   (4.0, 4.5]  (4.5, 5.0]  \n",
       "0           0           0  \n",
       "1           0           0  \n",
       "2           0           0  \n",
       "3           0           0  \n",
       "4           1           0  "
      ]
     },
     "execution_count": 394,
     "metadata": {},
     "output_type": "execute_result"
    }
   ],
   "source": [
    "X_rating = pd.get_dummies(temp_df['stars_Binned'])\n",
    "X_rating.head()"
   ]
  },
  {
   "cell_type": "code",
   "execution_count": 392,
   "metadata": {},
   "outputs": [
    {
     "data": {
      "text/plain": [
       "Text(0,0.5,'Counts')"
      ]
     },
     "execution_count": 392,
     "metadata": {},
     "output_type": "execute_result"
    },
    {
     "data": {
      "image/png": "[encoded data removed]",
      "text/plain": [
       "<Figure size 432x288 with 1 Axes>"
      ]
     },
     "metadata": {},
     "output_type": "display_data"
    }
   ],
   "source": [
    "fig, ax = plt.subplots()\n",
    "X_yrs.sum().plot.bar(ax = ax)\n",
    "ax.tick_params(labelsize=8)\n",
    "ax.set_xlabel('Rating Stars Bins', fontsize=12)\n",
    "ax.set_ylabel('Counts', fontsize=12)"
   ]
  },
  {
   "cell_type": "code",
   "execution_count": 393,
   "metadata": {},
   "outputs": [],
   "source": [
    "X_category = category_features.values"
   ]
  },
  {
   "cell_type": "code",
   "execution_count": 395,
   "metadata": {},
   "outputs": [
    {
     "name": "stdout",
     "output_type": "stream",
     "text": [
      "CPU times: user 254 ms, sys: 526 ms, total: 780 ms\n",
      "Wall time: 969 ms\n"
     ]
    }
   ],
   "source": [
    "\n",
    "%time sim_features = np.append(X_category, X_rating, axis = 1)\n",
    "\n",
    "second_size = getsizeof(sim_features)\n"
   ]
  },
  {
   "cell_type": "code",
   "execution_count": 396,
   "metadata": {},
   "outputs": [
    {
     "data": {
      "text/plain": [
       "293223824"
      ]
     },
     "execution_count": 396,
     "metadata": {},
     "output_type": "execute_result"
    }
   ],
   "source": [
    "second_size"
   ]
  },
  {
   "cell_type": "code",
   "execution_count": 609,
   "metadata": {},
   "outputs": [],
   "source": [
    "sim_features.tofile('sim_features.out',sep=',')"
   ]
  },
  {
   "cell_type": "code",
   "execution_count": 610,
   "metadata": {},
   "outputs": [],
   "source": [
    "np.save('sim_features_file',sim_features)"
   ]
  },
  {
   "cell_type": "code",
   "execution_count": 611,
   "metadata": {},
   "outputs": [],
   "source": [
    "sim_features_fromfile = np.load('sim_features_file.npy')"
   ]
  },
  {
   "cell_type": "code",
   "execution_count": 612,
   "metadata": {},
   "outputs": [
    {
     "data": {
      "text/plain": [
       "293223824"
      ]
     },
     "execution_count": 612,
     "metadata": {},
     "output_type": "execute_result"
    }
   ],
   "source": [
    "getsizeof(sim_features_fromfile)\n",
    "\n"
   ]
  },
  {
   "cell_type": "markdown",
   "metadata": {},
   "source": [
    " #### pandas assists with this differentiating between .iloc, .loc and .get_loc.\n",
    "\n",
    ".loc will return the index based on the original pandas DataFrame, allowing us to reference specific papers. We use .iloc to specify the integer location, which is the same index as our numpy array. .get_loc assists us to find the integer location when we know the DataFrame index.\n",
    "\n"
   ]
  },
  {
   "cell_type": "code",
   "execution_count": 397,
   "metadata": {},
   "outputs": [],
   "source": [
    "from sklearn.metrics.pairwise import cosine_similarity\n",
    "\n",
    "def piped_collab_filter(features_matrix, index, top_n):\n",
    "                \n",
    "    item_similarities = 1 - cosine_similarity(features_matrix[index:index+1], features_matrix).flatten() \n",
    "    related_indices = [i for i in item_similarities.argsort()[::-1] if i != index]\n",
    "\n",
    "    return [(index, item_similarities[index]) for index in related_indices][0:top_n]\n"
   ]
  },
  {
   "cell_type": "code",
   "execution_count": 399,
   "metadata": {},
   "outputs": [
    {
     "data": {
      "text/plain": [
       "[(16705, 1.0), (12473, 1.0), (12476, 1.0)]"
      ]
     },
     "execution_count": 399,
     "metadata": {},
     "output_type": "execute_result"
    }
   ],
   "source": [
    "piped_collab_filter(sim_features,5,3)"
   ]
  },
  {
   "cell_type": "code",
   "execution_count": 403,
   "metadata": {},
   "outputs": [],
   "source": [
    "def yelp_recommender(items_df, biz_index, top_n):\n",
    "    if biz_index in basic_rec_df.index:\n",
    "        \n",
    "        print('DataSet index = ', basic_rec_df.loc[biz_index].name)\n",
    "        print('business_id :', basic_rec_df.loc[biz_index]['business_id'])\n",
    "        print('tokenized_category :', basic_rec_df.loc[biz_index]['tokenized_category'])\n",
    "        print('Rating :', basic_rec_df.loc[biz_index]['stars'])\n",
    "        \n",
    "        # define the location index for the DataFrame index requested\n",
    "        array_ix = basic_rec_df.index.get_loc(biz_index)\n",
    "\n",
    "        top_results = piped_collab_filter(items_df, array_ix, top_n)\n",
    "        \n",
    "        print('\\nTop',top_n,'results: ') \n",
    "        \n",
    "        order = 1\n",
    "        for i in range(len(top_results)):\n",
    "            print(order,'. Paper index = ', basic_rec_df.iloc[top_results[i][0]].name)\n",
    "            print('Similarity score: ', top_results[i][1])\n",
    "            print('business_id :', basic_rec_df.iloc[top_results[i][0]]['business_id'])\n",
    "            print('tokenized_category :', basic_rec_df.iloc[top_results[i][0]]['tokenized_category'])\n",
    "            print('Rating :', basic_rec_df.iloc[top_results[i][0]]['stars'])\n",
    "            if order < top_n: order += 1\n",
    "    \n",
    "    else:\n",
    "        print('Whoops! Choose another paper. Try something from here: \\n', basic_rec_df.index[100:200])\n"
   ]
  },
  {
   "cell_type": "code",
   "execution_count": 613,
   "metadata": {},
   "outputs": [
    {
     "name": "stdout",
     "output_type": "stream",
     "text": [
      "DataSet index =  1021\n",
      "business_id : gEnhbaSVAZgGPmRQEwgN2A\n",
      "tokenized_category : ['Vegan', 'Gluten-Free', 'Fast', 'Food', 'Mexican', 'Vegetarian', 'Food', 'Stands', 'Asian', 'Fusion', 'Restaurants']\n",
      "Rating : 3.5\n",
      "\n",
      "Top 10 results: \n",
      "1 . Paper index =  33411\n",
      "Similarity score:  1.0\n",
      "business_id : vY2nLU5K20Pee-FdG0br1g\n",
      "tokenized_category : ['Books', 'Mags', 'Music', 'Video', 'Shopping']\n",
      "Rating : 4.5\n",
      "2 . Paper index =  16390\n",
      "Similarity score:  1.0\n",
      "business_id : 0D9lIWjTExTIa1Ge5iz0gQ\n",
      "tokenized_category : ['Home', 'Theatre', 'Installation', 'TV', 'Mounting', 'Local', 'Services', 'Home', 'Services', 'Electricians', 'Telecommunications', 'IT', 'Services', 'Computer', 'Repair']\n",
      "Rating : 5.0\n",
      "3 . Paper index =  16379\n",
      "Similarity score:  1.0\n",
      "business_id : D1IIHEJ7AwR88M0J8png0A\n",
      "tokenized_category : ['Sporting', 'Goods', 'Sports', 'Wear', 'Shopping', 'Fashion']\n",
      "Rating : 4.0\n",
      "4 . Paper index =  16380\n",
      "Similarity score:  1.0\n",
      "business_id : 0Zxeuxnutzsfe6V_VC5-wQ\n",
      "tokenized_category : ['Auto', 'Glass', 'Services', 'Automotive', 'Auto', 'Repair', 'Body', 'Shops']\n",
      "Rating : 5.0\n",
      "5 . Paper index =  16381\n",
      "Similarity score:  1.0\n",
      "business_id : uyyq0x5q7xCTi1z-tIVuIw\n",
      "tokenized_category : ['Dentists', 'Health', 'Medical', 'Oral', 'Surgeons']\n",
      "Rating : 5.0\n",
      "6 . Paper index =  16382\n",
      "Similarity score:  1.0\n",
      "business_id : g2PHUhwjZTKeSOh6Lf2U_Q\n",
      "tokenized_category : ['Trainers', 'Fitness', 'Instruction', 'Active', 'Life']\n",
      "Rating : 2.0\n",
      "7 . Paper index =  16386\n",
      "Similarity score:  1.0\n",
      "business_id : wTbHEY6aQ2MB2zzYPnm9Bw\n",
      "tokenized_category : ['Party', 'Event', 'Planning', 'Event', 'Planning', 'Services', 'Music', 'Venues', 'Nightlife', 'Arts', 'Entertainment', 'Venues', 'Event', 'Spaces', 'Cabaret']\n",
      "Rating : 4.5\n",
      "8 . Paper index =  16387\n",
      "Similarity score:  1.0\n",
      "business_id : oMIixORi7pNye0L8U-5N1A\n",
      "tokenized_category : ['Shoe', 'Stores', 'Fashion', 'Shopping']\n",
      "Rating : 1.5\n",
      "9 . Paper index =  16392\n",
      "Similarity score:  1.0\n",
      "business_id : dzFXZQ-0379EgwAspKhtkQ\n",
      "tokenized_category : ['Health', 'Medical', 'Optometrists']\n",
      "Rating : 5.0\n",
      "10 . Paper index =  16373\n",
      "Similarity score:  1.0\n",
      "business_id : Rajlfs4lENPrMn-7-2Yinw\n",
      "tokenized_category : ['Furniture', 'Stores', 'Antiques', 'Home', 'Garden', 'Shopping']\n",
      "Rating : 2.5\n"
     ]
    }
   ],
   "source": [
    "yelp_recommender(sim_features_fromfile,1021,10)"
   ]
  },
  {
   "cell_type": "code",
   "execution_count": 401,
   "metadata": {},
   "outputs": [
    {
     "data": {
      "text/plain": [
       "RangeIndex(start=100, stop=110, step=1)"
      ]
     },
     "execution_count": 401,
     "metadata": {},
     "output_type": "execute_result"
    }
   ],
   "source": [
    "basic_rec_df.index[100:110]"
   ]
  },
  {
   "cell_type": "markdown",
   "metadata": {},
   "source": [
    "# Rating Prediction\n"
   ]
  },
  {
   "cell_type": "code",
   "execution_count": 409,
   "metadata": {},
   "outputs": [
    {
     "data": {
      "text/plain": [
       "Index(['address', 'attributes.AcceptsInsurance', 'attributes.AgesAllowed',\n",
       "       'attributes.Alcohol', 'attributes.Ambience', 'attributes.BYOB',\n",
       "       'attributes.BYOBCorkage', 'attributes.BestNights',\n",
       "       'attributes.BikeParking', 'attributes.BusinessAcceptsBitcoin',\n",
       "       'attributes.BusinessAcceptsCreditCards', 'attributes.BusinessParking',\n",
       "       'attributes.ByAppointmentOnly', 'attributes.Caters',\n",
       "       'attributes.CoatCheck', 'attributes.Corkage',\n",
       "       'attributes.DietaryRestrictions', 'attributes.DogsAllowed',\n",
       "       'attributes.DriveThru', 'attributes.GoodForDancing',\n",
       "       'attributes.GoodForKids', 'attributes.GoodForMeal',\n",
       "       'attributes.HairSpecializesIn', 'attributes.HappyHour',\n",
       "       'attributes.HasTV', 'attributes.Music', 'attributes.NoiseLevel',\n",
       "       'attributes.Open24Hours', 'attributes.OutdoorSeating',\n",
       "       'attributes.RestaurantsAttire', 'attributes.RestaurantsCounterService',\n",
       "       'attributes.RestaurantsDelivery', 'attributes.RestaurantsGoodForGroups',\n",
       "       'attributes.RestaurantsPriceRange2',\n",
       "       'attributes.RestaurantsReservations',\n",
       "       'attributes.RestaurantsTableService', 'attributes.RestaurantsTakeOut',\n",
       "       'attributes.Smoking', 'attributes.WheelchairAccessible',\n",
       "       'attributes.WiFi', 'business_id', 'categories', 'city', 'hours.Friday',\n",
       "       'hours.Monday', 'hours.Saturday', 'hours.Sunday', 'hours.Thursday',\n",
       "       'hours.Tuesday', 'hours.Wednesday', 'is_open', 'latitude', 'longitude',\n",
       "       'name', 'postal_code', 'review_count', 'stars', 'state', 'checkin_date',\n",
       "       'user_id', 'tip_text', 'tip_compliment_count', 'tip_date', 'photo_id',\n",
       "       'label', 'caption', 'categories_weight', 'monday_opentime',\n",
       "       'tuesday_opentime', 'wednesday_opentime', 'thursday_opentime',\n",
       "       'friday_opentime', 'saturday_opentime', 'sunday_opentime',\n",
       "       'tokenized_category'],\n",
       "      dtype='object')"
      ]
     },
     "execution_count": 409,
     "metadata": {},
     "output_type": "execute_result"
    }
   ],
   "source": [
    "df.columns"
   ]
  },
  {
   "cell_type": "code",
   "execution_count": 412,
   "metadata": {},
   "outputs": [],
   "source": [
    "num_cols = ['is_open', 'latitude', 'longitude','review_count', 'tip_compliment_count', 'categories_weight', 'monday_opentime',\n",
    "          'tuesday_opentime', 'wednesday_opentime', 'thursday_opentime',\n",
    "       'friday_opentime', 'saturday_opentime', 'sunday_opentime','stars']"
   ]
  },
  {
   "cell_type": "code",
   "execution_count": 413,
   "metadata": {},
   "outputs": [
    {
     "data": {
      "text/html": [
       "<div>\n",
       "<style scoped>\n",
       "    .dataframe tbody tr th:only-of-type {\n",
       "        vertical-align: middle;\n",
       "    }\n",
       "\n",
       "    .dataframe tbody tr th {\n",
       "        vertical-align: top;\n",
       "    }\n",
       "\n",
       "    .dataframe thead th {\n",
       "        text-align: right;\n",
       "    }\n",
       "</style>\n",
       "<table border=\"1\" class=\"dataframe\">\n",
       "  <thead>\n",
       "    <tr style=\"text-align: right;\">\n",
       "      <th></th>\n",
       "      <th>is_open</th>\n",
       "      <th>latitude</th>\n",
       "      <th>longitude</th>\n",
       "      <th>review_count</th>\n",
       "      <th>tip_compliment_count</th>\n",
       "      <th>categories_weight</th>\n",
       "      <th>monday_opentime</th>\n",
       "      <th>tuesday_opentime</th>\n",
       "      <th>wednesday_opentime</th>\n",
       "      <th>thursday_opentime</th>\n",
       "      <th>friday_opentime</th>\n",
       "      <th>saturday_opentime</th>\n",
       "      <th>sunday_opentime</th>\n",
       "      <th>stars</th>\n",
       "    </tr>\n",
       "  </thead>\n",
       "  <tbody>\n",
       "    <tr>\n",
       "      <th>0</th>\n",
       "      <td>1</td>\n",
       "      <td>43.605499</td>\n",
       "      <td>-79.652289</td>\n",
       "      <td>128</td>\n",
       "      <td>1.0</td>\n",
       "      <td>0.335724</td>\n",
       "      <td>15.0</td>\n",
       "      <td>15.0</td>\n",
       "      <td>15.0</td>\n",
       "      <td>15.0</td>\n",
       "      <td>16.0</td>\n",
       "      <td>16.0</td>\n",
       "      <td>15.0</td>\n",
       "      <td>2.5</td>\n",
       "    </tr>\n",
       "    <tr>\n",
       "      <th>1</th>\n",
       "      <td>1</td>\n",
       "      <td>43.599475</td>\n",
       "      <td>-79.711584</td>\n",
       "      <td>3</td>\n",
       "      <td>0.0</td>\n",
       "      <td>0.122775</td>\n",
       "      <td>10.0</td>\n",
       "      <td>10.0</td>\n",
       "      <td>10.0</td>\n",
       "      <td>10.0</td>\n",
       "      <td>10.0</td>\n",
       "      <td>6.0</td>\n",
       "      <td>10.0</td>\n",
       "      <td>2.5</td>\n",
       "    </tr>\n",
       "    <tr>\n",
       "      <th>2</th>\n",
       "      <td>1</td>\n",
       "      <td>43.861503</td>\n",
       "      <td>-79.388499</td>\n",
       "      <td>4</td>\n",
       "      <td>0.0</td>\n",
       "      <td>0.023325</td>\n",
       "      <td>7.0</td>\n",
       "      <td>7.0</td>\n",
       "      <td>7.0</td>\n",
       "      <td>7.0</td>\n",
       "      <td>5.3</td>\n",
       "      <td>2.0</td>\n",
       "      <td>7.0</td>\n",
       "      <td>4.0</td>\n",
       "    </tr>\n",
       "    <tr>\n",
       "      <th>3</th>\n",
       "      <td>1</td>\n",
       "      <td>43.645041</td>\n",
       "      <td>-79.395799</td>\n",
       "      <td>23</td>\n",
       "      <td>0.0</td>\n",
       "      <td>0.049283</td>\n",
       "      <td>16.0</td>\n",
       "      <td>16.0</td>\n",
       "      <td>16.0</td>\n",
       "      <td>16.0</td>\n",
       "      <td>16.0</td>\n",
       "      <td>10.0</td>\n",
       "      <td>16.0</td>\n",
       "      <td>4.0</td>\n",
       "    </tr>\n",
       "    <tr>\n",
       "      <th>4</th>\n",
       "      <td>1</td>\n",
       "      <td>43.754093</td>\n",
       "      <td>-79.349548</td>\n",
       "      <td>8</td>\n",
       "      <td>1.0</td>\n",
       "      <td>0.064132</td>\n",
       "      <td>11.0</td>\n",
       "      <td>11.0</td>\n",
       "      <td>11.0</td>\n",
       "      <td>11.0</td>\n",
       "      <td>11.0</td>\n",
       "      <td>11.0</td>\n",
       "      <td>11.0</td>\n",
       "      <td>4.5</td>\n",
       "    </tr>\n",
       "  </tbody>\n",
       "</table>\n",
       "</div>"
      ],
      "text/plain": [
       "   is_open   latitude  longitude  review_count  tip_compliment_count  \\\n",
       "0        1  43.605499 -79.652289           128                   1.0   \n",
       "1        1  43.599475 -79.711584             3                   0.0   \n",
       "2        1  43.861503 -79.388499             4                   0.0   \n",
       "3        1  43.645041 -79.395799            23                   0.0   \n",
       "4        1  43.754093 -79.349548             8                   1.0   \n",
       "\n",
       "   categories_weight  monday_opentime  tuesday_opentime  wednesday_opentime  \\\n",
       "0           0.335724             15.0              15.0                15.0   \n",
       "1           0.122775             10.0              10.0                10.0   \n",
       "2           0.023325              7.0               7.0                 7.0   \n",
       "3           0.049283             16.0              16.0                16.0   \n",
       "4           0.064132             11.0              11.0                11.0   \n",
       "\n",
       "   thursday_opentime  friday_opentime  saturday_opentime  sunday_opentime  \\\n",
       "0               15.0             16.0               16.0             15.0   \n",
       "1               10.0             10.0                6.0             10.0   \n",
       "2                7.0              5.3                2.0              7.0   \n",
       "3               16.0             16.0               10.0             16.0   \n",
       "4               11.0             11.0               11.0             11.0   \n",
       "\n",
       "   stars  \n",
       "0    2.5  \n",
       "1    2.5  \n",
       "2    4.0  \n",
       "3    4.0  \n",
       "4    4.5  "
      ]
     },
     "execution_count": 413,
     "metadata": {},
     "output_type": "execute_result"
    }
   ],
   "source": [
    "rating_pred_df = df [num_cols ]\n",
    "rating_pred_df.head()"
   ]
  },
  {
   "cell_type": "code",
   "execution_count": 425,
   "metadata": {},
   "outputs": [
    {
     "name": "stderr",
     "output_type": "stream",
     "text": [
      "/Users/my_macbook/anaconda3/lib/python3.6/site-packages/ipykernel_launcher.py:9: SettingWithCopyWarning: \n",
      "A value is trying to be set on a copy of a slice from a DataFrame.\n",
      "Try using .loc[row_indexer,col_indexer] = value instead\n",
      "\n",
      "See the caveats in the documentation: http://pandas.pydata.org/pandas-docs/stable/indexing.html#indexing-view-versus-copy\n",
      "  if __name__ == '__main__':\n"
     ]
    }
   ],
   "source": [
    "rating_col=[]\n",
    "rating_list = rating_pred_df['stars'].tolist()\n",
    "for rating in rating_list:\n",
    "    if rating >=4:\n",
    "        rating_col.append(1) \n",
    "    else:\n",
    "        rating_col.append(0)\n",
    "    \n",
    "rating_pred_df['rating'] = rating_col  "
   ]
  },
  {
   "cell_type": "code",
   "execution_count": null,
   "metadata": {},
   "outputs": [],
   "source": []
  },
  {
   "cell_type": "code",
   "execution_count": 426,
   "metadata": {},
   "outputs": [
    {
     "data": {
      "text/html": [
       "<div>\n",
       "<style scoped>\n",
       "    .dataframe tbody tr th:only-of-type {\n",
       "        vertical-align: middle;\n",
       "    }\n",
       "\n",
       "    .dataframe tbody tr th {\n",
       "        vertical-align: top;\n",
       "    }\n",
       "\n",
       "    .dataframe thead th {\n",
       "        text-align: right;\n",
       "    }\n",
       "</style>\n",
       "<table border=\"1\" class=\"dataframe\">\n",
       "  <thead>\n",
       "    <tr style=\"text-align: right;\">\n",
       "      <th></th>\n",
       "      <th>is_open</th>\n",
       "      <th>latitude</th>\n",
       "      <th>longitude</th>\n",
       "      <th>review_count</th>\n",
       "      <th>tip_compliment_count</th>\n",
       "      <th>categories_weight</th>\n",
       "      <th>monday_opentime</th>\n",
       "      <th>tuesday_opentime</th>\n",
       "      <th>wednesday_opentime</th>\n",
       "      <th>thursday_opentime</th>\n",
       "      <th>friday_opentime</th>\n",
       "      <th>saturday_opentime</th>\n",
       "      <th>sunday_opentime</th>\n",
       "      <th>stars</th>\n",
       "      <th>rating</th>\n",
       "    </tr>\n",
       "  </thead>\n",
       "  <tbody>\n",
       "    <tr>\n",
       "      <th>0</th>\n",
       "      <td>1</td>\n",
       "      <td>43.605499</td>\n",
       "      <td>-79.652289</td>\n",
       "      <td>128</td>\n",
       "      <td>1.0</td>\n",
       "      <td>0.335724</td>\n",
       "      <td>15.0</td>\n",
       "      <td>15.0</td>\n",
       "      <td>15.0</td>\n",
       "      <td>15.0</td>\n",
       "      <td>16.0</td>\n",
       "      <td>16.0</td>\n",
       "      <td>15.0</td>\n",
       "      <td>2.5</td>\n",
       "      <td>0</td>\n",
       "    </tr>\n",
       "    <tr>\n",
       "      <th>1</th>\n",
       "      <td>1</td>\n",
       "      <td>43.599475</td>\n",
       "      <td>-79.711584</td>\n",
       "      <td>3</td>\n",
       "      <td>0.0</td>\n",
       "      <td>0.122775</td>\n",
       "      <td>10.0</td>\n",
       "      <td>10.0</td>\n",
       "      <td>10.0</td>\n",
       "      <td>10.0</td>\n",
       "      <td>10.0</td>\n",
       "      <td>6.0</td>\n",
       "      <td>10.0</td>\n",
       "      <td>2.5</td>\n",
       "      <td>0</td>\n",
       "    </tr>\n",
       "    <tr>\n",
       "      <th>2</th>\n",
       "      <td>1</td>\n",
       "      <td>43.861503</td>\n",
       "      <td>-79.388499</td>\n",
       "      <td>4</td>\n",
       "      <td>0.0</td>\n",
       "      <td>0.023325</td>\n",
       "      <td>7.0</td>\n",
       "      <td>7.0</td>\n",
       "      <td>7.0</td>\n",
       "      <td>7.0</td>\n",
       "      <td>5.3</td>\n",
       "      <td>2.0</td>\n",
       "      <td>7.0</td>\n",
       "      <td>4.0</td>\n",
       "      <td>1</td>\n",
       "    </tr>\n",
       "    <tr>\n",
       "      <th>3</th>\n",
       "      <td>1</td>\n",
       "      <td>43.645041</td>\n",
       "      <td>-79.395799</td>\n",
       "      <td>23</td>\n",
       "      <td>0.0</td>\n",
       "      <td>0.049283</td>\n",
       "      <td>16.0</td>\n",
       "      <td>16.0</td>\n",
       "      <td>16.0</td>\n",
       "      <td>16.0</td>\n",
       "      <td>16.0</td>\n",
       "      <td>10.0</td>\n",
       "      <td>16.0</td>\n",
       "      <td>4.0</td>\n",
       "      <td>1</td>\n",
       "    </tr>\n",
       "    <tr>\n",
       "      <th>4</th>\n",
       "      <td>1</td>\n",
       "      <td>43.754093</td>\n",
       "      <td>-79.349548</td>\n",
       "      <td>8</td>\n",
       "      <td>1.0</td>\n",
       "      <td>0.064132</td>\n",
       "      <td>11.0</td>\n",
       "      <td>11.0</td>\n",
       "      <td>11.0</td>\n",
       "      <td>11.0</td>\n",
       "      <td>11.0</td>\n",
       "      <td>11.0</td>\n",
       "      <td>11.0</td>\n",
       "      <td>4.5</td>\n",
       "      <td>1</td>\n",
       "    </tr>\n",
       "  </tbody>\n",
       "</table>\n",
       "</div>"
      ],
      "text/plain": [
       "   is_open   latitude  longitude  review_count  tip_compliment_count  \\\n",
       "0        1  43.605499 -79.652289           128                   1.0   \n",
       "1        1  43.599475 -79.711584             3                   0.0   \n",
       "2        1  43.861503 -79.388499             4                   0.0   \n",
       "3        1  43.645041 -79.395799            23                   0.0   \n",
       "4        1  43.754093 -79.349548             8                   1.0   \n",
       "\n",
       "   categories_weight  monday_opentime  tuesday_opentime  wednesday_opentime  \\\n",
       "0           0.335724             15.0              15.0                15.0   \n",
       "1           0.122775             10.0              10.0                10.0   \n",
       "2           0.023325              7.0               7.0                 7.0   \n",
       "3           0.049283             16.0              16.0                16.0   \n",
       "4           0.064132             11.0              11.0                11.0   \n",
       "\n",
       "   thursday_opentime  friday_opentime  saturday_opentime  sunday_opentime  \\\n",
       "0               15.0             16.0               16.0             15.0   \n",
       "1               10.0             10.0                6.0             10.0   \n",
       "2                7.0              5.3                2.0              7.0   \n",
       "3               16.0             16.0               10.0             16.0   \n",
       "4               11.0             11.0               11.0             11.0   \n",
       "\n",
       "   stars  rating  \n",
       "0    2.5       0  \n",
       "1    2.5       0  \n",
       "2    4.0       1  \n",
       "3    4.0       1  \n",
       "4    4.5       1  "
      ]
     },
     "execution_count": 426,
     "metadata": {},
     "output_type": "execute_result"
    }
   ],
   "source": [
    "rating_pred_df.head()"
   ]
  },
  {
   "cell_type": "code",
   "execution_count": 428,
   "metadata": {},
   "outputs": [
    {
     "name": "stdout",
     "output_type": "stream",
     "text": [
      "<class 'pandas.core.frame.DataFrame'>\n",
      "RangeIndex: 33412 entries, 0 to 33411\n",
      "Data columns (total 15 columns):\n",
      "is_open                 33412 non-null int64\n",
      "latitude                33412 non-null float64\n",
      "longitude               33412 non-null float64\n",
      "review_count            33412 non-null int64\n",
      "tip_compliment_count    21718 non-null float64\n",
      "categories_weight       33412 non-null float64\n",
      "monday_opentime         33412 non-null float64\n",
      "tuesday_opentime        33412 non-null float64\n",
      "wednesday_opentime      33412 non-null float64\n",
      "thursday_opentime       33412 non-null float64\n",
      "friday_opentime         33412 non-null float64\n",
      "saturday_opentime       33412 non-null float64\n",
      "sunday_opentime         33412 non-null float64\n",
      "stars                   33412 non-null float64\n",
      "rating                  33412 non-null int64\n",
      "dtypes: float64(12), int64(3)\n",
      "memory usage: 3.8 MB\n"
     ]
    }
   ],
   "source": [
    "rating_pred_df.info()"
   ]
  },
  {
   "cell_type": "code",
   "execution_count": 429,
   "metadata": {},
   "outputs": [
    {
     "name": "stderr",
     "output_type": "stream",
     "text": [
      "/Users/my_macbook/anaconda3/lib/python3.6/site-packages/pandas/core/generic.py:5430: SettingWithCopyWarning: \n",
      "A value is trying to be set on a copy of a slice from a DataFrame\n",
      "\n",
      "See the caveats in the documentation: http://pandas.pydata.org/pandas-docs/stable/indexing.html#indexing-view-versus-copy\n",
      "  self._update_inplace(new_data)\n"
     ]
    }
   ],
   "source": [
    "median_tip_compliment_count = rating_pred_df['tip_compliment_count'].median()\n",
    "rating_pred_df['tip_compliment_count'].fillna(median_tip_compliment_count,inplace=True)"
   ]
  },
  {
   "cell_type": "code",
   "execution_count": 430,
   "metadata": {},
   "outputs": [
    {
     "name": "stdout",
     "output_type": "stream",
     "text": [
      "<class 'pandas.core.frame.DataFrame'>\n",
      "RangeIndex: 33412 entries, 0 to 33411\n",
      "Data columns (total 15 columns):\n",
      "is_open                 33412 non-null int64\n",
      "latitude                33412 non-null float64\n",
      "longitude               33412 non-null float64\n",
      "review_count            33412 non-null int64\n",
      "tip_compliment_count    33412 non-null float64\n",
      "categories_weight       33412 non-null float64\n",
      "monday_opentime         33412 non-null float64\n",
      "tuesday_opentime        33412 non-null float64\n",
      "wednesday_opentime      33412 non-null float64\n",
      "thursday_opentime       33412 non-null float64\n",
      "friday_opentime         33412 non-null float64\n",
      "saturday_opentime       33412 non-null float64\n",
      "sunday_opentime         33412 non-null float64\n",
      "stars                   33412 non-null float64\n",
      "rating                  33412 non-null int64\n",
      "dtypes: float64(12), int64(3)\n",
      "memory usage: 3.8 MB\n"
     ]
    }
   ],
   "source": [
    "rating_pred_df.info()"
   ]
  },
  {
   "cell_type": "code",
   "execution_count": 463,
   "metadata": {},
   "outputs": [
    {
     "name": "stderr",
     "output_type": "stream",
     "text": [
      "/Users/my_macbook/anaconda3/lib/python3.6/site-packages/ipykernel_launcher.py:1: SettingWithCopyWarning: \n",
      "A value is trying to be set on a copy of a slice from a DataFrame.\n",
      "Try using .loc[row_indexer,col_indexer] = value instead\n",
      "\n",
      "See the caveats in the documentation: http://pandas.pydata.org/pandas-docs/stable/indexing.html#indexing-view-versus-copy\n",
      "  \"\"\"Entry point for launching an IPython kernel.\n",
      "/Users/my_macbook/anaconda3/lib/python3.6/site-packages/ipykernel_launcher.py:2: SettingWithCopyWarning: \n",
      "A value is trying to be set on a copy of a slice from a DataFrame.\n",
      "Try using .loc[row_indexer,col_indexer] = value instead\n",
      "\n",
      "See the caveats in the documentation: http://pandas.pydata.org/pandas-docs/stable/indexing.html#indexing-view-versus-copy\n",
      "  \n",
      "/Users/my_macbook/anaconda3/lib/python3.6/site-packages/ipykernel_launcher.py:4: SettingWithCopyWarning: \n",
      "A value is trying to be set on a copy of a slice from a DataFrame.\n",
      "Try using .loc[row_indexer,col_indexer] = value instead\n",
      "\n",
      "See the caveats in the documentation: http://pandas.pydata.org/pandas-docs/stable/indexing.html#indexing-view-versus-copy\n",
      "  after removing the cwd from sys.path.\n",
      "/Users/my_macbook/anaconda3/lib/python3.6/site-packages/ipykernel_launcher.py:6: SettingWithCopyWarning: \n",
      "A value is trying to be set on a copy of a slice from a DataFrame.\n",
      "Try using .loc[row_indexer,col_indexer] = value instead\n",
      "\n",
      "See the caveats in the documentation: http://pandas.pydata.org/pandas-docs/stable/indexing.html#indexing-view-versus-copy\n",
      "  \n",
      "/Users/my_macbook/anaconda3/lib/python3.6/site-packages/ipykernel_launcher.py:8: SettingWithCopyWarning: \n",
      "A value is trying to be set on a copy of a slice from a DataFrame.\n",
      "Try using .loc[row_indexer,col_indexer] = value instead\n",
      "\n",
      "See the caveats in the documentation: http://pandas.pydata.org/pandas-docs/stable/indexing.html#indexing-view-versus-copy\n",
      "  \n",
      "/Users/my_macbook/anaconda3/lib/python3.6/site-packages/ipykernel_launcher.py:10: SettingWithCopyWarning: \n",
      "A value is trying to be set on a copy of a slice from a DataFrame.\n",
      "Try using .loc[row_indexer,col_indexer] = value instead\n",
      "\n",
      "See the caveats in the documentation: http://pandas.pydata.org/pandas-docs/stable/indexing.html#indexing-view-versus-copy\n",
      "  # Remove the CWD from sys.path while we load stuff.\n",
      "/Users/my_macbook/anaconda3/lib/python3.6/site-packages/ipykernel_launcher.py:12: SettingWithCopyWarning: \n",
      "A value is trying to be set on a copy of a slice from a DataFrame.\n",
      "Try using .loc[row_indexer,col_indexer] = value instead\n",
      "\n",
      "See the caveats in the documentation: http://pandas.pydata.org/pandas-docs/stable/indexing.html#indexing-view-versus-copy\n",
      "  if sys.path[0] == '':\n"
     ]
    }
   ],
   "source": [
    "rating_pred_df['monday_opentime'] = rating_pred_df['monday_opentime']/24\n",
    "rating_pred_df['tuesday_opentime'] = rating_pred_df['tuesday_opentime']/24\n",
    "\n",
    "rating_pred_df['wednesday_opentime'] = rating_pred_df['wednesday_opentime']/24\n",
    "\n",
    "rating_pred_df['thursday_opentime'] = rating_pred_df['thursday_opentime']/24\n",
    "\n",
    "rating_pred_df['friday_opentime'] = rating_pred_df['friday_opentime']/24\n",
    "\n",
    "rating_pred_df['sunday_opentime'] = rating_pred_df['sunday_opentime']/24\n",
    "\n",
    "rating_pred_df['saturday_opentime'] = rating_pred_df['saturday_opentime']/24\n",
    "\n",
    "\n"
   ]
  },
  {
   "cell_type": "code",
   "execution_count": 465,
   "metadata": {},
   "outputs": [
    {
     "name": "stderr",
     "output_type": "stream",
     "text": [
      "/Users/my_macbook/anaconda3/lib/python3.6/site-packages/ipykernel_launcher.py:1: SettingWithCopyWarning: \n",
      "A value is trying to be set on a copy of a slice from a DataFrame.\n",
      "Try using .loc[row_indexer,col_indexer] = value instead\n",
      "\n",
      "See the caveats in the documentation: http://pandas.pydata.org/pandas-docs/stable/indexing.html#indexing-view-versus-copy\n",
      "  \"\"\"Entry point for launching an IPython kernel.\n",
      "/Users/my_macbook/anaconda3/lib/python3.6/site-packages/ipykernel_launcher.py:2: SettingWithCopyWarning: \n",
      "A value is trying to be set on a copy of a slice from a DataFrame.\n",
      "Try using .loc[row_indexer,col_indexer] = value instead\n",
      "\n",
      "See the caveats in the documentation: http://pandas.pydata.org/pandas-docs/stable/indexing.html#indexing-view-versus-copy\n",
      "  \n",
      "/Users/my_macbook/anaconda3/lib/python3.6/site-packages/ipykernel_launcher.py:3: SettingWithCopyWarning: \n",
      "A value is trying to be set on a copy of a slice from a DataFrame.\n",
      "Try using .loc[row_indexer,col_indexer] = value instead\n",
      "\n",
      "See the caveats in the documentation: http://pandas.pydata.org/pandas-docs/stable/indexing.html#indexing-view-versus-copy\n",
      "  This is separate from the ipykernel package so we can avoid doing imports until\n"
     ]
    }
   ],
   "source": [
    "rating_pred_df['review_count'] = rating_pred_df['review_count']/(rating_pred_df['review_count'].median())\n",
    "rating_pred_df['latitude'] = rating_pred_df['latitude']/(rating_pred_df['latitude'].mean())\n",
    "rating_pred_df['longitude'] = rating_pred_df['longitude']/(rating_pred_df['longitude'].mean())\n",
    "\n"
   ]
  },
  {
   "cell_type": "code",
   "execution_count": 466,
   "metadata": {},
   "outputs": [
    {
     "data": {
      "text/html": [
       "<div>\n",
       "<style scoped>\n",
       "    .dataframe tbody tr th:only-of-type {\n",
       "        vertical-align: middle;\n",
       "    }\n",
       "\n",
       "    .dataframe tbody tr th {\n",
       "        vertical-align: top;\n",
       "    }\n",
       "\n",
       "    .dataframe thead th {\n",
       "        text-align: right;\n",
       "    }\n",
       "</style>\n",
       "<table border=\"1\" class=\"dataframe\">\n",
       "  <thead>\n",
       "    <tr style=\"text-align: right;\">\n",
       "      <th></th>\n",
       "      <th>is_open</th>\n",
       "      <th>latitude</th>\n",
       "      <th>longitude</th>\n",
       "      <th>review_count</th>\n",
       "      <th>tip_compliment_count</th>\n",
       "      <th>categories_weight</th>\n",
       "      <th>monday_opentime</th>\n",
       "      <th>tuesday_opentime</th>\n",
       "      <th>wednesday_opentime</th>\n",
       "      <th>thursday_opentime</th>\n",
       "      <th>friday_opentime</th>\n",
       "      <th>saturday_opentime</th>\n",
       "      <th>sunday_opentime</th>\n",
       "      <th>stars</th>\n",
       "      <th>rating</th>\n",
       "    </tr>\n",
       "  </thead>\n",
       "  <tbody>\n",
       "    <tr>\n",
       "      <th>0</th>\n",
       "      <td>1</td>\n",
       "      <td>0.997569</td>\n",
       "      <td>1.002818</td>\n",
       "      <td>16.000</td>\n",
       "      <td>1.0</td>\n",
       "      <td>0.335724</td>\n",
       "      <td>0.026042</td>\n",
       "      <td>0.625000</td>\n",
       "      <td>0.625000</td>\n",
       "      <td>0.625000</td>\n",
       "      <td>0.666667</td>\n",
       "      <td>0.666667</td>\n",
       "      <td>0.625000</td>\n",
       "      <td>2.5</td>\n",
       "      <td>0</td>\n",
       "    </tr>\n",
       "    <tr>\n",
       "      <th>1</th>\n",
       "      <td>1</td>\n",
       "      <td>0.997432</td>\n",
       "      <td>1.003565</td>\n",
       "      <td>0.375</td>\n",
       "      <td>0.0</td>\n",
       "      <td>0.122775</td>\n",
       "      <td>0.017361</td>\n",
       "      <td>0.416667</td>\n",
       "      <td>0.416667</td>\n",
       "      <td>0.416667</td>\n",
       "      <td>0.416667</td>\n",
       "      <td>0.250000</td>\n",
       "      <td>0.416667</td>\n",
       "      <td>2.5</td>\n",
       "      <td>0</td>\n",
       "    </tr>\n",
       "    <tr>\n",
       "      <th>2</th>\n",
       "      <td>1</td>\n",
       "      <td>1.003426</td>\n",
       "      <td>0.999497</td>\n",
       "      <td>0.500</td>\n",
       "      <td>0.0</td>\n",
       "      <td>0.023325</td>\n",
       "      <td>0.012153</td>\n",
       "      <td>0.291667</td>\n",
       "      <td>0.291667</td>\n",
       "      <td>0.291667</td>\n",
       "      <td>0.220833</td>\n",
       "      <td>0.083333</td>\n",
       "      <td>0.291667</td>\n",
       "      <td>4.0</td>\n",
       "      <td>1</td>\n",
       "    </tr>\n",
       "    <tr>\n",
       "      <th>3</th>\n",
       "      <td>1</td>\n",
       "      <td>0.998474</td>\n",
       "      <td>0.999589</td>\n",
       "      <td>2.875</td>\n",
       "      <td>0.0</td>\n",
       "      <td>0.049283</td>\n",
       "      <td>0.027778</td>\n",
       "      <td>0.666667</td>\n",
       "      <td>0.666667</td>\n",
       "      <td>0.666667</td>\n",
       "      <td>0.666667</td>\n",
       "      <td>0.416667</td>\n",
       "      <td>0.666667</td>\n",
       "      <td>4.0</td>\n",
       "      <td>1</td>\n",
       "    </tr>\n",
       "    <tr>\n",
       "      <th>4</th>\n",
       "      <td>1</td>\n",
       "      <td>1.000969</td>\n",
       "      <td>0.999007</td>\n",
       "      <td>1.000</td>\n",
       "      <td>1.0</td>\n",
       "      <td>0.064132</td>\n",
       "      <td>0.019097</td>\n",
       "      <td>0.458333</td>\n",
       "      <td>0.458333</td>\n",
       "      <td>0.458333</td>\n",
       "      <td>0.458333</td>\n",
       "      <td>0.458333</td>\n",
       "      <td>0.458333</td>\n",
       "      <td>4.5</td>\n",
       "      <td>1</td>\n",
       "    </tr>\n",
       "  </tbody>\n",
       "</table>\n",
       "</div>"
      ],
      "text/plain": [
       "   is_open  latitude  longitude  review_count  tip_compliment_count  \\\n",
       "0        1  0.997569   1.002818        16.000                   1.0   \n",
       "1        1  0.997432   1.003565         0.375                   0.0   \n",
       "2        1  1.003426   0.999497         0.500                   0.0   \n",
       "3        1  0.998474   0.999589         2.875                   0.0   \n",
       "4        1  1.000969   0.999007         1.000                   1.0   \n",
       "\n",
       "   categories_weight  monday_opentime  tuesday_opentime  wednesday_opentime  \\\n",
       "0           0.335724         0.026042          0.625000            0.625000   \n",
       "1           0.122775         0.017361          0.416667            0.416667   \n",
       "2           0.023325         0.012153          0.291667            0.291667   \n",
       "3           0.049283         0.027778          0.666667            0.666667   \n",
       "4           0.064132         0.019097          0.458333            0.458333   \n",
       "\n",
       "   thursday_opentime  friday_opentime  saturday_opentime  sunday_opentime  \\\n",
       "0           0.625000         0.666667           0.666667         0.625000   \n",
       "1           0.416667         0.416667           0.250000         0.416667   \n",
       "2           0.291667         0.220833           0.083333         0.291667   \n",
       "3           0.666667         0.666667           0.416667         0.666667   \n",
       "4           0.458333         0.458333           0.458333         0.458333   \n",
       "\n",
       "   stars  rating  \n",
       "0    2.5       0  \n",
       "1    2.5       0  \n",
       "2    4.0       1  \n",
       "3    4.0       1  \n",
       "4    4.5       1  "
      ]
     },
     "execution_count": 466,
     "metadata": {},
     "output_type": "execute_result"
    }
   ],
   "source": [
    "rating_pred_df.head()"
   ]
  },
  {
   "cell_type": "code",
   "execution_count": 484,
   "metadata": {},
   "outputs": [],
   "source": [
    "rating_pred_df.to_csv('training.csv')"
   ]
  },
  {
   "cell_type": "code",
   "execution_count": 502,
   "metadata": {},
   "outputs": [
    {
     "data": {
      "text/html": [
       "<div>\n",
       "<style scoped>\n",
       "    .dataframe tbody tr th:only-of-type {\n",
       "        vertical-align: middle;\n",
       "    }\n",
       "\n",
       "    .dataframe tbody tr th {\n",
       "        vertical-align: top;\n",
       "    }\n",
       "\n",
       "    .dataframe thead th {\n",
       "        text-align: right;\n",
       "    }\n",
       "</style>\n",
       "<table border=\"1\" class=\"dataframe\">\n",
       "  <thead>\n",
       "    <tr style=\"text-align: right;\">\n",
       "      <th></th>\n",
       "      <th>is_open</th>\n",
       "      <th>latitude</th>\n",
       "      <th>longitude</th>\n",
       "      <th>review_count</th>\n",
       "      <th>tip_compliment_count</th>\n",
       "      <th>categories_weight</th>\n",
       "      <th>monday_opentime</th>\n",
       "      <th>tuesday_opentime</th>\n",
       "      <th>wednesday_opentime</th>\n",
       "      <th>thursday_opentime</th>\n",
       "      <th>friday_opentime</th>\n",
       "      <th>saturday_opentime</th>\n",
       "      <th>sunday_opentime</th>\n",
       "      <th>rating</th>\n",
       "    </tr>\n",
       "  </thead>\n",
       "  <tbody>\n",
       "    <tr>\n",
       "      <th>0</th>\n",
       "      <td>1</td>\n",
       "      <td>0.997569</td>\n",
       "      <td>1.002818</td>\n",
       "      <td>16.000</td>\n",
       "      <td>1.0</td>\n",
       "      <td>0.335724</td>\n",
       "      <td>0.026042</td>\n",
       "      <td>0.625000</td>\n",
       "      <td>0.625000</td>\n",
       "      <td>0.625000</td>\n",
       "      <td>0.666667</td>\n",
       "      <td>0.666667</td>\n",
       "      <td>0.625000</td>\n",
       "      <td>0</td>\n",
       "    </tr>\n",
       "    <tr>\n",
       "      <th>1</th>\n",
       "      <td>1</td>\n",
       "      <td>0.997432</td>\n",
       "      <td>1.003565</td>\n",
       "      <td>0.375</td>\n",
       "      <td>0.0</td>\n",
       "      <td>0.122775</td>\n",
       "      <td>0.017361</td>\n",
       "      <td>0.416667</td>\n",
       "      <td>0.416667</td>\n",
       "      <td>0.416667</td>\n",
       "      <td>0.416667</td>\n",
       "      <td>0.250000</td>\n",
       "      <td>0.416667</td>\n",
       "      <td>0</td>\n",
       "    </tr>\n",
       "    <tr>\n",
       "      <th>2</th>\n",
       "      <td>1</td>\n",
       "      <td>1.003426</td>\n",
       "      <td>0.999497</td>\n",
       "      <td>0.500</td>\n",
       "      <td>0.0</td>\n",
       "      <td>0.023325</td>\n",
       "      <td>0.012153</td>\n",
       "      <td>0.291667</td>\n",
       "      <td>0.291667</td>\n",
       "      <td>0.291667</td>\n",
       "      <td>0.220833</td>\n",
       "      <td>0.083333</td>\n",
       "      <td>0.291667</td>\n",
       "      <td>1</td>\n",
       "    </tr>\n",
       "    <tr>\n",
       "      <th>3</th>\n",
       "      <td>1</td>\n",
       "      <td>0.998474</td>\n",
       "      <td>0.999589</td>\n",
       "      <td>2.875</td>\n",
       "      <td>0.0</td>\n",
       "      <td>0.049283</td>\n",
       "      <td>0.027778</td>\n",
       "      <td>0.666667</td>\n",
       "      <td>0.666667</td>\n",
       "      <td>0.666667</td>\n",
       "      <td>0.666667</td>\n",
       "      <td>0.416667</td>\n",
       "      <td>0.666667</td>\n",
       "      <td>1</td>\n",
       "    </tr>\n",
       "    <tr>\n",
       "      <th>4</th>\n",
       "      <td>1</td>\n",
       "      <td>1.000969</td>\n",
       "      <td>0.999007</td>\n",
       "      <td>1.000</td>\n",
       "      <td>1.0</td>\n",
       "      <td>0.064132</td>\n",
       "      <td>0.019097</td>\n",
       "      <td>0.458333</td>\n",
       "      <td>0.458333</td>\n",
       "      <td>0.458333</td>\n",
       "      <td>0.458333</td>\n",
       "      <td>0.458333</td>\n",
       "      <td>0.458333</td>\n",
       "      <td>1</td>\n",
       "    </tr>\n",
       "  </tbody>\n",
       "</table>\n",
       "</div>"
      ],
      "text/plain": [
       "   is_open  latitude  longitude  review_count  tip_compliment_count  \\\n",
       "0        1  0.997569   1.002818        16.000                   1.0   \n",
       "1        1  0.997432   1.003565         0.375                   0.0   \n",
       "2        1  1.003426   0.999497         0.500                   0.0   \n",
       "3        1  0.998474   0.999589         2.875                   0.0   \n",
       "4        1  1.000969   0.999007         1.000                   1.0   \n",
       "\n",
       "   categories_weight  monday_opentime  tuesday_opentime  wednesday_opentime  \\\n",
       "0           0.335724         0.026042          0.625000            0.625000   \n",
       "1           0.122775         0.017361          0.416667            0.416667   \n",
       "2           0.023325         0.012153          0.291667            0.291667   \n",
       "3           0.049283         0.027778          0.666667            0.666667   \n",
       "4           0.064132         0.019097          0.458333            0.458333   \n",
       "\n",
       "   thursday_opentime  friday_opentime  saturday_opentime  sunday_opentime  \\\n",
       "0           0.625000         0.666667           0.666667         0.625000   \n",
       "1           0.416667         0.416667           0.250000         0.416667   \n",
       "2           0.291667         0.220833           0.083333         0.291667   \n",
       "3           0.666667         0.666667           0.416667         0.666667   \n",
       "4           0.458333         0.458333           0.458333         0.458333   \n",
       "\n",
       "   rating  \n",
       "0       0  \n",
       "1       0  \n",
       "2       1  \n",
       "3       1  \n",
       "4       1  "
      ]
     },
     "execution_count": 502,
     "metadata": {},
     "output_type": "execute_result"
    }
   ],
   "source": [
    "rating_pred_df = rating_pred_df.drop('stars',axis = 1)\n",
    "rating_pred_df.head()"
   ]
  },
  {
   "cell_type": "code",
   "execution_count": 528,
   "metadata": {},
   "outputs": [
    {
     "data": {
      "text/plain": [
       "Index(['is_open', 'latitude', 'longitude', 'review_count',\n",
       "       'tip_compliment_count', 'categories_weight', 'monday_opentime',\n",
       "       'tuesday_opentime', 'wednesday_opentime', 'thursday_opentime',\n",
       "       'friday_opentime', 'saturday_opentime', 'sunday_opentime', 'rating'],\n",
       "      dtype='object')"
      ]
     },
     "execution_count": 528,
     "metadata": {},
     "output_type": "execute_result"
    }
   ],
   "source": [
    "rating_pred_df.columns"
   ]
  },
  {
   "cell_type": "markdown",
   "metadata": {},
   "source": [
    "### Select Model\n"
   ]
  },
  {
   "cell_type": "code",
   "execution_count": 522,
   "metadata": {},
   "outputs": [],
   "source": [
    "from sklearn.naive_bayes import GaussianNB \n",
    "from sklearn.linear_model import LogisticRegression \n",
    "from sklearn import ensemble \n",
    "from sklearn.ensemble import RandomForestClassifier \n",
    "from sklearn.metrics import brier_score_loss, precision_score, recall_score,f1_score, roc_auc_score, accuracy_score \n",
    "from sklearn.metrics import confusion_matrix, roc_curve,auc\n",
    "#from sklearn.cross_validation import train_test_split \n",
    "from sklearn.preprocessing import StandardScaler \n",
    "from sklearn.feature_extraction import DictVectorizer\n",
    "from sklearn.cluster import KMeans\n",
    "\n",
    "from sklearn.feature_selection import RFE\n",
    "\n",
    "import random\n",
    "\n",
    "from scipy.stats import ttest_ind\n",
    "import scipy\n",
    "\n",
    "from numpy import loadtxt\n",
    "from xgboost import XGBClassifier\n",
    "from sklearn.model_selection import train_test_split\n",
    "from sklearn.metrics import accuracy_score\n",
    "from xgboost import plot_importance\n",
    "\n",
    "from sklearn.model_selection import GridSearchCV\n",
    "from sklearn.model_selection import StratifiedKFold\n"
   ]
  },
  {
   "cell_type": "code",
   "execution_count": 503,
   "metadata": {},
   "outputs": [],
   "source": [
    "# Features\n",
    "X = rating_pred_df.drop('rating',axis = 1)\n",
    "# Target\n",
    "y = rating_pred_df['rating'].values"
   ]
  },
  {
   "cell_type": "code",
   "execution_count": 504,
   "metadata": {},
   "outputs": [
    {
     "name": "stderr",
     "output_type": "stream",
     "text": [
      "/Users/my_macbook/anaconda3/lib/python3.6/site-packages/ipykernel_launcher.py:4: DataConversionWarning: Data with input dtype int64, float64 were all converted to float64 by the scale function.\n",
      "  after removing the cwd from sys.path.\n"
     ]
    },
    {
     "data": {
      "text/plain": [
       "array([1, 1, 1, 2, 3, 4, 1, 1, 1, 1, 1, 1, 1])"
      ]
     },
     "execution_count": 504,
     "metadata": {},
     "output_type": "execute_result"
    }
   ],
   "source": [
    "\n",
    "#Scaled X\n",
    "from sklearn import preprocessing\n",
    "X_scaled = preprocessing.scale(X)\n",
    "\n",
    "estimator = LogisticRegression(solver='sag',max_iter=20000) \n",
    "selector = RFE(estimator, 10, step=1)\n",
    "selector.fit(X_scaled,y)\n",
    "selector.ranking_"
   ]
  },
  {
   "cell_type": "code",
   "execution_count": 505,
   "metadata": {},
   "outputs": [
    {
     "data": {
      "text/plain": [
       "33412"
      ]
     },
     "execution_count": 505,
     "metadata": {},
     "output_type": "execute_result"
    }
   ],
   "source": [
    "len(rating_pred_df)"
   ]
  },
  {
   "cell_type": "code",
   "execution_count": 506,
   "metadata": {},
   "outputs": [],
   "source": [
    "#set features\n",
    "X = rating_pred_df.drop(columns=['rating']).values\n",
    "#set label\n",
    "y = rating_pred_df['rating'].values\n",
    "\n",
    "estimator = LogisticRegression(solver='sag',max_iter=20000) \n",
    "estimator.fit(X_scaled,y)\n",
    "coeffs=estimator.coef_[0]\n"
   ]
  },
  {
   "cell_type": "code",
   "execution_count": 507,
   "metadata": {},
   "outputs": [
    {
     "name": "stdout",
     "output_type": "stream",
     "text": [
      "coefficients [[ 0.09483152 -0.14140612 -0.09767383 -0.10588937 -0.10588937 -0.10588937\n",
      "  -0.10588937  0.74667236 -0.22348698 -0.10588937]]\n"
     ]
    }
   ],
   "source": [
    "coeffs_list=(selector.estimator_.coef_[0])\n",
    "print ('coefficients',selector.estimator_.coef_)"
   ]
  },
  {
   "cell_type": "code",
   "execution_count": 508,
   "metadata": {},
   "outputs": [],
   "source": [
    "features = rating_pred_df.drop(columns=['rating']).columns.tolist()\n",
    "feature_ranking = list(selector.ranking_)\n",
    "ranking_df = zip(feature_ranking,features)\n",
    "parameters=[]\n",
    "for rank,parameter in ranking_df:\n",
    "    if rank == 1:\n",
    "        parameters.append(parameter)"
   ]
  },
  {
   "cell_type": "code",
   "execution_count": 509,
   "metadata": {},
   "outputs": [
    {
     "data": {
      "text/html": [
       "<div>\n",
       "<style scoped>\n",
       "    .dataframe tbody tr th:only-of-type {\n",
       "        vertical-align: middle;\n",
       "    }\n",
       "\n",
       "    .dataframe tbody tr th {\n",
       "        vertical-align: top;\n",
       "    }\n",
       "\n",
       "    .dataframe thead th {\n",
       "        text-align: right;\n",
       "    }\n",
       "</style>\n",
       "<table border=\"1\" class=\"dataframe\">\n",
       "  <thead>\n",
       "    <tr style=\"text-align: right;\">\n",
       "      <th></th>\n",
       "      <th>Feature</th>\n",
       "      <th>Coefficient</th>\n",
       "    </tr>\n",
       "  </thead>\n",
       "  <tbody>\n",
       "    <tr>\n",
       "      <th>7</th>\n",
       "      <td>friday_opentime</td>\n",
       "      <td>0.746672</td>\n",
       "    </tr>\n",
       "    <tr>\n",
       "      <th>0</th>\n",
       "      <td>is_open</td>\n",
       "      <td>0.094832</td>\n",
       "    </tr>\n",
       "    <tr>\n",
       "      <th>2</th>\n",
       "      <td>longitude</td>\n",
       "      <td>-0.097674</td>\n",
       "    </tr>\n",
       "    <tr>\n",
       "      <th>4</th>\n",
       "      <td>tuesday_opentime</td>\n",
       "      <td>-0.105889</td>\n",
       "    </tr>\n",
       "    <tr>\n",
       "      <th>5</th>\n",
       "      <td>wednesday_opentime</td>\n",
       "      <td>-0.105889</td>\n",
       "    </tr>\n",
       "    <tr>\n",
       "      <th>6</th>\n",
       "      <td>thursday_opentime</td>\n",
       "      <td>-0.105889</td>\n",
       "    </tr>\n",
       "    <tr>\n",
       "      <th>9</th>\n",
       "      <td>sunday_opentime</td>\n",
       "      <td>-0.105889</td>\n",
       "    </tr>\n",
       "    <tr>\n",
       "      <th>3</th>\n",
       "      <td>monday_opentime</td>\n",
       "      <td>-0.105889</td>\n",
       "    </tr>\n",
       "    <tr>\n",
       "      <th>1</th>\n",
       "      <td>latitude</td>\n",
       "      <td>-0.141406</td>\n",
       "    </tr>\n",
       "    <tr>\n",
       "      <th>8</th>\n",
       "      <td>saturday_opentime</td>\n",
       "      <td>-0.223487</td>\n",
       "    </tr>\n",
       "  </tbody>\n",
       "</table>\n",
       "</div>"
      ],
      "text/plain": [
       "              Feature  Coefficient\n",
       "7     friday_opentime     0.746672\n",
       "0             is_open     0.094832\n",
       "2           longitude    -0.097674\n",
       "4    tuesday_opentime    -0.105889\n",
       "5  wednesday_opentime    -0.105889\n",
       "6   thursday_opentime    -0.105889\n",
       "9     sunday_opentime    -0.105889\n",
       "3     monday_opentime    -0.105889\n",
       "1            latitude    -0.141406\n",
       "8   saturday_opentime    -0.223487"
      ]
     },
     "execution_count": 509,
     "metadata": {},
     "output_type": "execute_result"
    }
   ],
   "source": [
    "Features_co_list=pd.DataFrame({\"Feature\": parameters,\n",
    "                    \"Coefficient\": coeffs_list})\n",
    "Features_co_list.sort_values('Coefficient', ascending=False)"
   ]
  },
  {
   "cell_type": "code",
   "execution_count": null,
   "metadata": {},
   "outputs": [],
   "source": []
  },
  {
   "cell_type": "markdown",
   "metadata": {},
   "source": [
    "## 1. Logistic Regression Model"
   ]
  },
  {
   "cell_type": "code",
   "execution_count": 510,
   "metadata": {},
   "outputs": [
    {
     "name": "stderr",
     "output_type": "stream",
     "text": [
      "/Users/my_macbook/anaconda3/lib/python3.6/site-packages/sklearn/linear_model/logistic.py:432: FutureWarning: Default solver will be changed to 'lbfgs' in 0.22. Specify a solver to silence this warning.\n",
      "  FutureWarning)\n"
     ]
    },
    {
     "data": {
      "text/plain": [
       "LogisticRegression(C=1.0, class_weight=None, dual=False, fit_intercept=True,\n",
       "          intercept_scaling=1, max_iter=100, multi_class='warn',\n",
       "          n_jobs=None, penalty='l2', random_state=None, solver='warn',\n",
       "          tol=0.0001, verbose=0, warm_start=False)"
      ]
     },
     "execution_count": 510,
     "metadata": {},
     "output_type": "execute_result"
    }
   ],
   "source": [
    "from sklearn.model_selection import train_test_split\n",
    "\n",
    "X_train,X_test,y_train,y_test=train_test_split(X_scaled,y,test_size=0.40,random_state=0)\n",
    "\n",
    "logreg = LogisticRegression()\n",
    "logreg.fit(X_train,y_train)"
   ]
  },
  {
   "cell_type": "code",
   "execution_count": 511,
   "metadata": {},
   "outputs": [
    {
     "name": "stderr",
     "output_type": "stream",
     "text": [
      "/Users/my_macbook/anaconda3/lib/python3.6/site-packages/sklearn/linear_model/logistic.py:432: FutureWarning: Default solver will be changed to 'lbfgs' in 0.22. Specify a solver to silence this warning.\n",
      "  FutureWarning)\n"
     ]
    }
   ],
   "source": [
    "model = logreg.fit(X_train,y_train)\n",
    "\n",
    "y_pred=logreg.predict(X_test)\n"
   ]
  },
  {
   "cell_type": "code",
   "execution_count": 512,
   "metadata": {},
   "outputs": [
    {
     "data": {
      "text/plain": [
       "array([[7963,  511],\n",
       "       [4190,  701]])"
      ]
     },
     "execution_count": 512,
     "metadata": {},
     "output_type": "execute_result"
    }
   ],
   "source": [
    "from sklearn import metrics\n",
    "cnf_matrix = metrics.confusion_matrix(y_test, y_pred)\n",
    "cnf_matrix\n",
    "\n"
   ]
  },
  {
   "cell_type": "code",
   "execution_count": 513,
   "metadata": {},
   "outputs": [
    {
     "data": {
      "text/plain": [
       "Text(0.5,257.44,'Predicted label')"
      ]
     },
     "execution_count": 513,
     "metadata": {},
     "output_type": "execute_result"
    },
    {
     "data": {
      "image/png": "[encoded data removed]",
      "text/plain": [
       "<Figure size 432x288 with 2 Axes>"
      ]
     },
     "metadata": {},
     "output_type": "display_data"
    }
   ],
   "source": [
    "class_names=[0,1] # name  of classes\n",
    "fig, ax = plt.subplots()\n",
    "tick_marks = np.arange(len(class_names))\n",
    "plt.xticks(tick_marks, class_names)\n",
    "plt.yticks(tick_marks, class_names)\n",
    "# create heatmap\n",
    "sns.heatmap(pd.DataFrame(cnf_matrix), annot=True, cmap=\"YlGnBu\" ,fmt='g')\n",
    "ax.xaxis.set_label_position(\"top\")\n",
    "plt.tight_layout()\n",
    "plt.title('Confusion matrix', y=1.1)\n",
    "plt.ylabel('Actual label')\n",
    "plt.xlabel('Predicted label')\n"
   ]
  },
  {
   "cell_type": "code",
   "execution_count": 514,
   "metadata": {},
   "outputs": [
    {
     "name": "stdout",
     "output_type": "stream",
     "text": [
      "Accuracy: 0.6482603815937149\n",
      "Precision: 0.5783828382838284\n",
      "Recall: 0.14332447352279698\n"
     ]
    }
   ],
   "source": [
    "print(\"Accuracy:\",metrics.accuracy_score(y_test, y_pred))\n",
    "print(\"Precision:\",metrics.precision_score(y_test, y_pred))\n",
    "print(\"Recall:\",metrics.recall_score(y_test, y_pred))\n"
   ]
  },
  {
   "cell_type": "code",
   "execution_count": 603,
   "metadata": {},
   "outputs": [
    {
     "data": {
      "image/png": "[encoded data removed]",
      "text/plain": [
       "<Figure size 432x288 with 1 Axes>"
      ]
     },
     "metadata": {},
     "output_type": "display_data"
    },
    {
     "data": {
      "text/plain": [
       "<Figure size 1440x1440 with 0 Axes>"
      ]
     },
     "metadata": {},
     "output_type": "display_data"
    }
   ],
   "source": [
    "y_pred_proba = logreg.predict_proba(X_test)[::,1]\n",
    "fpr, tpr, _ = metrics.roc_curve(y_test,  y_pred_proba)\n",
    "auc = metrics.roc_auc_score(y_test, y_pred_proba)\n",
    "plt.plot(fpr,tpr,label=\"data 1, auc=\"+str(auc))\n",
    "plt.legend(loc=4)\n",
    "plt.figure(figsize=(20,20))\n",
    "plt.savefig('logit.jpg')\n",
    "\n",
    "plt.show()"
   ]
  },
  {
   "cell_type": "markdown",
   "metadata": {},
   "source": [
    "## 2. XGBoost Model"
   ]
  },
  {
   "cell_type": "code",
   "execution_count": 523,
   "metadata": {},
   "outputs": [
    {
     "name": "stderr",
     "output_type": "stream",
     "text": [
      "/Users/my_macbook/anaconda3/lib/python3.6/site-packages/ipykernel_launcher.py:4: FutureWarning: Method .as_matrix will be removed in a future version. Use .values instead.\n",
      "  after removing the cwd from sys.path.\n",
      "/Users/my_macbook/anaconda3/lib/python3.6/site-packages/ipykernel_launcher.py:5: FutureWarning: Method .as_matrix will be removed in a future version. Use .values instead.\n",
      "  \"\"\"\n"
     ]
    }
   ],
   "source": [
    "XGB_df = rating_pred_df\n",
    "\n",
    "# split data into X and y\n",
    "Xg = XGB_df.drop(columns=['rating']).as_matrix()\n",
    "Yg = XGB_df['rating'].as_matrix()\n",
    "# split data into train and test sets\n",
    "seed = 7\n",
    "test_size = 0.33\n",
    "Xg_train, Xg_test, yg_train, yg_test = train_test_split(Xg, Yg, test_size=test_size, random_state=seed)\n"
   ]
  },
  {
   "cell_type": "code",
   "execution_count": 524,
   "metadata": {},
   "outputs": [
    {
     "name": "stdout",
     "output_type": "stream",
     "text": [
      "[0]\tvalidation_0-logloss:0.68053\n",
      "Will train until validation_0-logloss hasn't improved in 10 rounds.\n",
      "[1]\tvalidation_0-logloss:0.670124\n",
      "[2]\tvalidation_0-logloss:0.661588\n",
      "[3]\tvalidation_0-logloss:0.654613\n",
      "[4]\tvalidation_0-logloss:0.64865\n",
      "[5]\tvalidation_0-logloss:0.643716\n",
      "[6]\tvalidation_0-logloss:0.63973\n",
      "[7]\tvalidation_0-logloss:0.636635\n",
      "[8]\tvalidation_0-logloss:0.633636\n",
      "[9]\tvalidation_0-logloss:0.631411\n",
      "[10]\tvalidation_0-logloss:0.629441\n",
      "[11]\tvalidation_0-logloss:0.627561\n",
      "[12]\tvalidation_0-logloss:0.625989\n",
      "[13]\tvalidation_0-logloss:0.624589\n",
      "[14]\tvalidation_0-logloss:0.623246\n",
      "[15]\tvalidation_0-logloss:0.622158\n",
      "[16]\tvalidation_0-logloss:0.621221\n",
      "[17]\tvalidation_0-logloss:0.620435\n",
      "[18]\tvalidation_0-logloss:0.619467\n",
      "[19]\tvalidation_0-logloss:0.618783\n",
      "[20]\tvalidation_0-logloss:0.617997\n",
      "[21]\tvalidation_0-logloss:0.617288\n",
      "[22]\tvalidation_0-logloss:0.616819\n",
      "[23]\tvalidation_0-logloss:0.616371\n",
      "[24]\tvalidation_0-logloss:0.615851\n",
      "[25]\tvalidation_0-logloss:0.61536\n",
      "[26]\tvalidation_0-logloss:0.614971\n",
      "[27]\tvalidation_0-logloss:0.614462\n",
      "[28]\tvalidation_0-logloss:0.614072\n",
      "[29]\tvalidation_0-logloss:0.613864\n",
      "[30]\tvalidation_0-logloss:0.613471\n",
      "[31]\tvalidation_0-logloss:0.613194\n",
      "[32]\tvalidation_0-logloss:0.613007\n",
      "[33]\tvalidation_0-logloss:0.612581\n",
      "[34]\tvalidation_0-logloss:0.612366\n",
      "[35]\tvalidation_0-logloss:0.61212\n",
      "[36]\tvalidation_0-logloss:0.611833\n",
      "[37]\tvalidation_0-logloss:0.611469\n",
      "[38]\tvalidation_0-logloss:0.611126\n",
      "[39]\tvalidation_0-logloss:0.610951\n",
      "[40]\tvalidation_0-logloss:0.61077\n",
      "[41]\tvalidation_0-logloss:0.610451\n",
      "[42]\tvalidation_0-logloss:0.610349\n",
      "[43]\tvalidation_0-logloss:0.610065\n",
      "[44]\tvalidation_0-logloss:0.609933\n",
      "[45]\tvalidation_0-logloss:0.609901\n",
      "[46]\tvalidation_0-logloss:0.609789\n",
      "[47]\tvalidation_0-logloss:0.609618\n",
      "[48]\tvalidation_0-logloss:0.609392\n",
      "[49]\tvalidation_0-logloss:0.609228\n",
      "[50]\tvalidation_0-logloss:0.609131\n",
      "[51]\tvalidation_0-logloss:0.609072\n",
      "[52]\tvalidation_0-logloss:0.608707\n",
      "[53]\tvalidation_0-logloss:0.608592\n",
      "[54]\tvalidation_0-logloss:0.60857\n",
      "[55]\tvalidation_0-logloss:0.608356\n",
      "[56]\tvalidation_0-logloss:0.608139\n",
      "[57]\tvalidation_0-logloss:0.608121\n",
      "[58]\tvalidation_0-logloss:0.608064\n",
      "[59]\tvalidation_0-logloss:0.607947\n",
      "[60]\tvalidation_0-logloss:0.607744\n",
      "[61]\tvalidation_0-logloss:0.60754\n",
      "[62]\tvalidation_0-logloss:0.607518\n",
      "[63]\tvalidation_0-logloss:0.60735\n",
      "[64]\tvalidation_0-logloss:0.607353\n",
      "[65]\tvalidation_0-logloss:0.607331\n",
      "[66]\tvalidation_0-logloss:0.607335\n",
      "[67]\tvalidation_0-logloss:0.607332\n",
      "[68]\tvalidation_0-logloss:0.607356\n",
      "[69]\tvalidation_0-logloss:0.607368\n",
      "[70]\tvalidation_0-logloss:0.607264\n",
      "[71]\tvalidation_0-logloss:0.607177\n",
      "[72]\tvalidation_0-logloss:0.607059\n",
      "[73]\tvalidation_0-logloss:0.606896\n",
      "[74]\tvalidation_0-logloss:0.606696\n",
      "[75]\tvalidation_0-logloss:0.606686\n",
      "[76]\tvalidation_0-logloss:0.606591\n",
      "[77]\tvalidation_0-logloss:0.606615\n",
      "[78]\tvalidation_0-logloss:0.606575\n",
      "[79]\tvalidation_0-logloss:0.606538\n",
      "[80]\tvalidation_0-logloss:0.606388\n",
      "[81]\tvalidation_0-logloss:0.606384\n",
      "[82]\tvalidation_0-logloss:0.606307\n",
      "[83]\tvalidation_0-logloss:0.606119\n",
      "[84]\tvalidation_0-logloss:0.605963\n",
      "[85]\tvalidation_0-logloss:0.606014\n",
      "[86]\tvalidation_0-logloss:0.605944\n",
      "[87]\tvalidation_0-logloss:0.605781\n",
      "[88]\tvalidation_0-logloss:0.605661\n",
      "[89]\tvalidation_0-logloss:0.605587\n",
      "[90]\tvalidation_0-logloss:0.605362\n",
      "[91]\tvalidation_0-logloss:0.605295\n",
      "[92]\tvalidation_0-logloss:0.605192\n",
      "[93]\tvalidation_0-logloss:0.60512\n",
      "[94]\tvalidation_0-logloss:0.605145\n",
      "[95]\tvalidation_0-logloss:0.605192\n",
      "[96]\tvalidation_0-logloss:0.605126\n",
      "[97]\tvalidation_0-logloss:0.604832\n",
      "[98]\tvalidation_0-logloss:0.604851\n",
      "[99]\tvalidation_0-logloss:0.60472\n",
      "Accuracy: 68.06%\n"
     ]
    }
   ],
   "source": [
    "\n",
    "# fit model on training data\n",
    "model_xgb = XGBClassifier()\n",
    "\n",
    "\n",
    "\n",
    "eval_set = [(Xg_test, yg_test)]\n",
    "model_xgb.fit(Xg_train, yg_train, early_stopping_rounds=10, eval_metric=\"logloss\", eval_set=eval_set, verbose=True)\n",
    "model_xgb.fit(Xg_train, yg_train)\n",
    "\n",
    "# make predictions for test data\n",
    "yg_pred = model_xgb.predict(Xg_test)\n",
    "predictions = [round(value) for value in yg_pred]\n",
    "# evaluate predictions\n",
    "accuracy = accuracy_score(yg_test, predictions)\n",
    "print(\"Accuracy: %.2f%%\" % (accuracy * 100.0))\n"
   ]
  },
  {
   "cell_type": "code",
   "execution_count": 525,
   "metadata": {},
   "outputs": [
    {
     "name": "stdout",
     "output_type": "stream",
     "text": [
      "[0.02037846 0.17176127 0.18777293 0.12954876 0.         0.24017467\n",
      " 0.07278021 0.         0.         0.         0.09315866 0.08442504\n",
      " 0.        ]\n"
     ]
    }
   ],
   "source": [
    "print(model_xgb.feature_importances_)\n"
   ]
  },
  {
   "cell_type": "code",
   "execution_count": 531,
   "metadata": {},
   "outputs": [],
   "source": [
    "feature_list = ['is_open', 'latitude', 'longitude', 'review_count',\n",
    "       'tip_compliment_count', 'categories_weight', 'monday_opentime',\n",
    "       'tuesday_opentime', 'wednesday_opentime', 'thursday_opentime',\n",
    "       'friday_opentime', 'saturday_opentime', 'sunday_opentime']\n",
    "feature_important = model_xgb.feature_importances_"
   ]
  },
  {
   "cell_type": "code",
   "execution_count": 526,
   "metadata": {},
   "outputs": [
    {
     "data": {
      "image/png": "[encoded data removed]",
      "text/plain": [
       "<Figure size 432x288 with 1 Axes>"
      ]
     },
     "metadata": {},
     "output_type": "display_data"
    }
   ],
   "source": [
    "plot_importance(model_xgb)\n",
    "plt.show()"
   ]
  },
  {
   "cell_type": "code",
   "execution_count": 599,
   "metadata": {},
   "outputs": [],
   "source": [
    "feature_important_df = pd.DataFrame({'Importance':feature_important,'Feature_Name':feature_list})\n",
    "feature_important_df1= feature_important_df.sort_values(by=['Importance'], ascending=False)"
   ]
  },
  {
   "cell_type": "code",
   "execution_count": 600,
   "metadata": {},
   "outputs": [
    {
     "data": {
      "text/html": [
       "<div>\n",
       "<style scoped>\n",
       "    .dataframe tbody tr th:only-of-type {\n",
       "        vertical-align: middle;\n",
       "    }\n",
       "\n",
       "    .dataframe tbody tr th {\n",
       "        vertical-align: top;\n",
       "    }\n",
       "\n",
       "    .dataframe thead th {\n",
       "        text-align: right;\n",
       "    }\n",
       "</style>\n",
       "<table border=\"1\" class=\"dataframe\">\n",
       "  <thead>\n",
       "    <tr style=\"text-align: right;\">\n",
       "      <th></th>\n",
       "      <th>Importance</th>\n",
       "      <th>Feature_Name</th>\n",
       "    </tr>\n",
       "  </thead>\n",
       "  <tbody>\n",
       "    <tr>\n",
       "      <th>5</th>\n",
       "      <td>0.240175</td>\n",
       "      <td>categories_weight</td>\n",
       "    </tr>\n",
       "    <tr>\n",
       "      <th>2</th>\n",
       "      <td>0.187773</td>\n",
       "      <td>longitude</td>\n",
       "    </tr>\n",
       "    <tr>\n",
       "      <th>1</th>\n",
       "      <td>0.171761</td>\n",
       "      <td>latitude</td>\n",
       "    </tr>\n",
       "    <tr>\n",
       "      <th>3</th>\n",
       "      <td>0.129549</td>\n",
       "      <td>review_count</td>\n",
       "    </tr>\n",
       "    <tr>\n",
       "      <th>10</th>\n",
       "      <td>0.093159</td>\n",
       "      <td>friday_opentime</td>\n",
       "    </tr>\n",
       "    <tr>\n",
       "      <th>11</th>\n",
       "      <td>0.084425</td>\n",
       "      <td>saturday_opentime</td>\n",
       "    </tr>\n",
       "    <tr>\n",
       "      <th>6</th>\n",
       "      <td>0.072780</td>\n",
       "      <td>monday_opentime</td>\n",
       "    </tr>\n",
       "    <tr>\n",
       "      <th>0</th>\n",
       "      <td>0.020378</td>\n",
       "      <td>is_open</td>\n",
       "    </tr>\n",
       "    <tr>\n",
       "      <th>4</th>\n",
       "      <td>0.000000</td>\n",
       "      <td>tip_compliment_count</td>\n",
       "    </tr>\n",
       "    <tr>\n",
       "      <th>7</th>\n",
       "      <td>0.000000</td>\n",
       "      <td>tuesday_opentime</td>\n",
       "    </tr>\n",
       "    <tr>\n",
       "      <th>8</th>\n",
       "      <td>0.000000</td>\n",
       "      <td>wednesday_opentime</td>\n",
       "    </tr>\n",
       "    <tr>\n",
       "      <th>9</th>\n",
       "      <td>0.000000</td>\n",
       "      <td>thursday_opentime</td>\n",
       "    </tr>\n",
       "    <tr>\n",
       "      <th>12</th>\n",
       "      <td>0.000000</td>\n",
       "      <td>sunday_opentime</td>\n",
       "    </tr>\n",
       "  </tbody>\n",
       "</table>\n",
       "</div>"
      ],
      "text/plain": [
       "    Importance          Feature_Name\n",
       "5     0.240175     categories_weight\n",
       "2     0.187773             longitude\n",
       "1     0.171761              latitude\n",
       "3     0.129549          review_count\n",
       "10    0.093159       friday_opentime\n",
       "11    0.084425     saturday_opentime\n",
       "6     0.072780       monday_opentime\n",
       "0     0.020378               is_open\n",
       "4     0.000000  tip_compliment_count\n",
       "7     0.000000      tuesday_opentime\n",
       "8     0.000000    wednesday_opentime\n",
       "9     0.000000     thursday_opentime\n",
       "12    0.000000       sunday_opentime"
      ]
     },
     "execution_count": 600,
     "metadata": {},
     "output_type": "execute_result"
    }
   ],
   "source": [
    "feature_important_df1"
   ]
  },
  {
   "cell_type": "code",
   "execution_count": 601,
   "metadata": {},
   "outputs": [
    {
     "data": {
      "image/png": "[encoded data removed]",
      "text/plain": [
       "<Figure size 432x288 with 1 Axes>"
      ]
     },
     "metadata": {},
     "output_type": "display_data"
    },
    {
     "data": {
      "text/plain": [
       "<Figure size 1440x1440 with 0 Axes>"
      ]
     },
     "metadata": {},
     "output_type": "display_data"
    }
   ],
   "source": [
    "feature_important_df1.set_index(\"Feature_Name\",drop=True,inplace=True)\n"
   ]
  },
  {
   "cell_type": "code",
   "execution_count": 602,
   "metadata": {},
   "outputs": [
    {
     "data": {
      "image/png": "[encoded data removed]",
      "text/plain": [
       "<Figure size 432x288 with 1 Axes>"
      ]
     },
     "metadata": {},
     "output_type": "display_data"
    },
    {
     "data": {
      "text/plain": [
       "<Figure size 1440x1440 with 0 Axes>"
      ]
     },
     "metadata": {},
     "output_type": "display_data"
    }
   ],
   "source": [
    "feature_important_df1.plot.bar()\n",
    "plt.title(\"XGBoost Model Feature Importance\")\n",
    "plt.figure(figsize=(20,20))\n",
    "plt.savefig('gboost_feature.jpg')\n",
    "\n",
    "\n",
    "\n",
    "plt.show()"
   ]
  },
  {
   "cell_type": "code",
   "execution_count": 577,
   "metadata": {},
   "outputs": [
    {
     "data": {
      "image/png": "[encoded data removed]",
      "text/plain": [
       "<Figure size 432x288 with 1 Axes>"
      ]
     },
     "metadata": {},
     "output_type": "display_data"
    }
   ],
   "source": [
    "from sklearn.metrics import roc_curve, auc\n",
    "\n",
    "def plotROC(tpr, fpr, label=''):\n",
    "    \"\"\"\n",
    "    Plot ROC curve from tpr and fpr.\n",
    "    \"\"\"\n",
    "    plt.plot(fpr, tpr, color='darkorange',label=label)\n",
    "    plt.plot([0, 1], [0, 1], color='navy',linestyle='--')\n",
    "\n",
    "    plt.legend()\n",
    "    plt.ylabel('True positive rate.')\n",
    "    plt.xlabel('False positive rate')\n",
    "    plt.show()\n",
    "\n",
    "\n",
    "fpr_xgb,tpr_xgb, threshold = roc_curve(yg_test,yg_pred)\n",
    "\n",
    "roc_auc_xgb = auc(fpr_xgb,tpr_xgb)\n",
    "\n",
    "label_xgboost = 'xgboost: ROC curve (area = %0.2f)'%roc_auc_xgb +'Accuracy: %.2f%%'%(accuracy * 100.0)\n",
    "plotROC(tpr_xgb,fpr_xgb,label_xgboost)"
   ]
  },
  {
   "cell_type": "markdown",
   "metadata": {},
   "source": [
    "## 3. Light GBM Model"
   ]
  },
  {
   "cell_type": "code",
   "execution_count": 624,
   "metadata": {},
   "outputs": [],
   "source": [
    "# Setting the training data\n",
    "\n",
    "# Feature\n",
    "lightGBM_x = rating_pred_df.drop('rating',axis =1)\n",
    "#target\n",
    "lightGBM_y = rating_pred_df.rating\n",
    "\n",
    "xlgbm_train,xlgbm_test,ylgbm_train,ylgbm_test=train_test_split(lightGBM_x,lightGBM_y,test_size=.3)\n",
    "\n",
    "\n",
    "lgbm_train_data = lgb.Dataset(xlgbm_train,label = ylgbm_train)\n",
    "\n",
    "# Setting the parameters for LightGBM\n",
    "param = {'num_leaves':200,'objective':'binary','max_depth':7,'learning_rate':0.5,'max_bin':200}\n",
    "param['metric'] = ['auc','binary_logloss']\n"
   ]
  },
  {
   "cell_type": "code",
   "execution_count": 625,
   "metadata": {},
   "outputs": [],
   "source": [
    "# training \n",
    "num_round =500\n",
    "\n",
    "lgbm = lgb.train(param,lgbm_train_data,num_round)\n"
   ]
  },
  {
   "cell_type": "code",
   "execution_count": 626,
   "metadata": {},
   "outputs": [
    {
     "data": {
      "text/plain": [
       "array([0.14407319, 0.91354916, 0.2380266 , ..., 0.22289368, 0.09902507,\n",
       "       0.85582651])"
      ]
     },
     "execution_count": 626,
     "metadata": {},
     "output_type": "execute_result"
    }
   ],
   "source": [
    "# Predicting\n",
    "\n",
    "ypred_lgbm = lgbm.predict(xlgbm_test)\n",
    "ypred_lgbm"
   ]
  },
  {
   "cell_type": "code",
   "execution_count": 627,
   "metadata": {},
   "outputs": [
    {
     "data": {
      "text/plain": [
       "0.6466480446927374"
      ]
     },
     "execution_count": 627,
     "metadata": {},
     "output_type": "execute_result"
    }
   ],
   "source": [
    "#Converting probabilities into 1 or 0  \n",
    "threshold = 0.6\n",
    "for i in range(0,len(ypred_lgbm)):\n",
    "    if ypred_lgbm[i] >= threshold:\n",
    "        ypred_lgbm[i] = 1\n",
    "    else:\n",
    "        ypred_lgbm[i] = 0\n",
    "        \n",
    "accuracy_lgbm = accuracy_score(ypred_lgbm,ylgbm_test)\n",
    "accuracy_lgbm"
   ]
  },
  {
   "cell_type": "code",
   "execution_count": null,
   "metadata": {},
   "outputs": [],
   "source": []
  },
  {
   "cell_type": "code",
   "execution_count": 628,
   "metadata": {},
   "outputs": [
    {
     "ename": "TypeError",
     "evalue": "'numpy.float64' object is not callable",
     "output_type": "error",
     "traceback": [
      "\u001b[0;31m---------------------------------------------------------------------------\u001b[0m",
      "\u001b[0;31mTypeError\u001b[0m                                 Traceback (most recent call last)",
      "\u001b[0;32m<ipython-input-628-eb1ff9033c69>\u001b[0m in \u001b[0;36m<module>\u001b[0;34m()\u001b[0m\n\u001b[1;32m      1\u001b[0m \u001b[0mfpr_lgbm\u001b[0m\u001b[0;34m,\u001b[0m\u001b[0mtpr_lgbm\u001b[0m\u001b[0;34m,\u001b[0m \u001b[0mthreshold\u001b[0m \u001b[0;34m=\u001b[0m \u001b[0mroc_curve\u001b[0m\u001b[0;34m(\u001b[0m\u001b[0mylgbm_test\u001b[0m\u001b[0;34m,\u001b[0m\u001b[0mypred_lgbm\u001b[0m\u001b[0;34m)\u001b[0m\u001b[0;34m\u001b[0m\u001b[0m\n\u001b[0;32m----> 2\u001b[0;31m \u001b[0mroc_auc_lgbm\u001b[0m \u001b[0;34m=\u001b[0m \u001b[0mauc\u001b[0m\u001b[0;34m(\u001b[0m\u001b[0mfpr_lgbm\u001b[0m\u001b[0;34m,\u001b[0m\u001b[0mtpr_lgbm\u001b[0m\u001b[0;34m)\u001b[0m\u001b[0;34m\u001b[0m\u001b[0m\n\u001b[0m\u001b[1;32m      3\u001b[0m \u001b[0;34m\u001b[0m\u001b[0m\n\u001b[1;32m      4\u001b[0m \u001b[0mroc_auc_lgbm\u001b[0m\u001b[0;34m\u001b[0m\u001b[0m\n",
      "\u001b[0;31mTypeError\u001b[0m: 'numpy.float64' object is not callable"
     ]
    }
   ],
   "source": [
    "fpr_lgbm,tpr_lgbm, threshold = roc_curve(ylgbm_test,ypred_lgbm)\n",
    "roc_auc_lgbm = auc(fpr_lgbm,tpr_lgbm)    \n",
    "\n",
    "roc_auc_lgbm"
   ]
  },
  {
   "cell_type": "code",
   "execution_count": 629,
   "metadata": {},
   "outputs": [
    {
     "data": {
      "image/png": "[encoded data removed]",
      "text/plain": [
       "<Figure size 432x288 with 1 Axes>"
      ]
     },
     "metadata": {},
     "output_type": "display_data"
    }
   ],
   "source": [
    "label_lgbm = 'Light GBM: ROC curve (area = %0.2f)'%roc_auc_lgbm +'Accuracy: %.2f%%'%(accuracy_lgbm*100)\n",
    "plotROC(tpr_lgbm,fpr_lgbm,label_lgbm)"
   ]
  },
  {
   "cell_type": "markdown",
   "metadata": {},
   "source": [
    "## 4. Ensemble Training"
   ]
  },
  {
   "cell_type": "code",
   "execution_count": 581,
   "metadata": {},
   "outputs": [
    {
     "name": "stderr",
     "output_type": "stream",
     "text": [
      "/Users/my_macbook/anaconda3/lib/python3.6/site-packages/ipykernel_launcher.py:16: DeprecationWarning: \n",
      ".ix is deprecated. Please use\n",
      ".loc for label based indexing or\n",
      ".iloc for positional indexing\n",
      "\n",
      "See the documentation here:\n",
      "http://pandas.pydata.org/pandas-docs/stable/indexing.html#ix-indexer-is-deprecated\n",
      "  app.launch_new_instance()\n",
      "/Users/my_macbook/anaconda3/lib/python3.6/site-packages/ipykernel_launcher.py:17: DeprecationWarning: \n",
      ".ix is deprecated. Please use\n",
      ".loc for label based indexing or\n",
      ".iloc for positional indexing\n",
      "\n",
      "See the documentation here:\n",
      "http://pandas.pydata.org/pandas-docs/stable/indexing.html#ix-indexer-is-deprecated\n"
     ]
    }
   ],
   "source": [
    "from sklearn.utils import shuffle\n",
    "train_db_df= rating_pred_df\n",
    "\n",
    "\n",
    "train_db_df = shuffle(train_db_df)\n",
    "ix_ran = train_db_df.index.values\n",
    "np.random.shuffle(ix_ran)\n",
    "\n",
    "df_len = len(train_db_df)\n",
    "train_len = int(df_len * 0.8)  \n",
    "\n",
    "\n",
    "ix_train = ix_ran[:train_len]\n",
    "ix_valid = ix_ran[train_len:]\n",
    "\n",
    "df_train = train_db_df.ix[ix_train]\n",
    "df_valid = train_db_df.ix[ix_valid]\n"
   ]
  },
  {
   "cell_type": "code",
   "execution_count": 582,
   "metadata": {},
   "outputs": [],
   "source": [
    "from sklearn import preprocessing\n",
    "X= df_train.drop(columns=['rating']).values\n",
    "X = X[~np.isnan(X).any(axis=1)]\n",
    "X_scaled = preprocessing.scale(X)"
   ]
  },
  {
   "cell_type": "code",
   "execution_count": 584,
   "metadata": {},
   "outputs": [
    {
     "name": "stderr",
     "output_type": "stream",
     "text": [
      "/Users/my_macbook/anaconda3/lib/python3.6/site-packages/sklearn/linear_model/logistic.py:432: FutureWarning: Default solver will be changed to 'lbfgs' in 0.22. Specify a solver to silence this warning.\n",
      "  FutureWarning)\n",
      "/Users/my_macbook/anaconda3/lib/python3.6/site-packages/sklearn/linear_model/logistic.py:1296: UserWarning: 'n_jobs' > 1 does not have any effect when 'solver' is set to 'liblinear'. Got 'n_jobs' = 3.\n",
      "  \" = {}.\".format(effective_n_jobs(self.n_jobs)))\n"
     ]
    }
   ],
   "source": [
    "X= df_train[feature_list].values\n",
    "Y = df_train['rating'].values\n",
    "clf =  LogisticRegression(C=1e5, class_weight={0:1, 1:4000}, n_jobs=3)\n",
    "clf.fit(X,Y)\n",
    "y_p=clf.predict_proba(X)"
   ]
  },
  {
   "cell_type": "code",
   "execution_count": 615,
   "metadata": {},
   "outputs": [],
   "source": [
    "params_0 = {'n_estimators': 100, 'max_depth': 8, 'min_samples_split': 3, 'learning_rate': 0.02}\n",
    "params_1 = {'n_estimators': 500, 'max_depth': 10, 'min_samples_split': 5, 'class_weight' : {0:1, 1:4000}, 'n_jobs':5}\n",
    "\n",
    "scaler = StandardScaler()\n",
    "    \n",
    "clfs = [\n",
    "    GaussianNB(),\n",
    "\n",
    "    ensemble.RandomForestClassifier(**params_1),\n",
    "\n",
    "    ensemble.ExtraTreesClassifier(**params_1),\n",
    "    \n",
    "    ensemble.GradientBoostingClassifier(**params_0)\n",
    "    ]"
   ]
  },
  {
   "cell_type": "code",
   "execution_count": 616,
   "metadata": {},
   "outputs": [],
   "source": [
    "X_train = df_train[feature_list].values\n",
    "\n",
    "y_train = df_train['rating'].values\n",
    "    \n",
    "X_train = scaler.fit_transform(X_train)\n",
    "\n",
    "X_valid = df_valid[feature_list].values\n",
    "y_valid = df_valid['rating'].values\n",
    "X_valid_x= scaler.transform(X_valid)"
   ]
  },
  {
   "cell_type": "code",
   "execution_count": 617,
   "metadata": {},
   "outputs": [
    {
     "name": "stdout",
     "output_type": "stream",
     "text": [
      "GaussianNB:\n",
      "\tBrier: 0.23710\n",
      "\tPrecision: 0.44423\n",
      "\tRecall: 0.09849\n",
      "\tF1: 0.16123\n",
      "\tauc: 0.62700\n",
      "\tAccuracy: 0.63415\n",
      "\n",
      "RandomForestClassifier:\n",
      "\tBrier: 0.63448\n",
      "\tPrecision: 0.35727\n",
      "\tRecall: 0.99874\n",
      "\tF1: 0.52628\n",
      "\tauc: 0.60921\n",
      "\tAccuracy: 0.35807\n",
      "\n",
      "ExtraTreesClassifier:\n",
      "\tBrier: 0.63107\n",
      "\tPrecision: 0.35761\n",
      "\tRecall: 1.00000\n",
      "\tF1: 0.52683\n",
      "\tauc: 0.60160\n",
      "\tAccuracy: 0.35867\n",
      "\n",
      "GradientBoostingClassifier:\n",
      "\tBrier: 0.20706\n",
      "\tPrecision: 0.61644\n",
      "\tRecall: 0.28290\n",
      "\tF1: 0.38782\n",
      "\tauc: 0.68758\n",
      "\tAccuracy: 0.68113\n",
      "\n"
     ]
    }
   ],
   "source": [
    "prob_result = []\n",
    "df_m = []\n",
    "clfs_fited = []\n",
    "for clf in clfs:\n",
    "    print(\"%s:\" %  clf.__class__.__name__)\n",
    "    clf.fit(X_train,y_train)\n",
    "    clfs_fited.append(clf)\n",
    "    y_pred = clf.predict(X_valid_x)\n",
    "    prob_pos  = clf.predict_proba(X_valid_x)[:, 1]\n",
    "    prob_result.append(prob_pos)\n",
    "    m = confusion_matrix(y_valid, y_pred)\n",
    "    clf_score = brier_score_loss(y_valid, prob_pos, pos_label=y_valid.max())\n",
    "    print(\"\\tBrier: %1.5f\" % (clf_score))\n",
    "    print(\"\\tPrecision: %1.5f\" % precision_score(y_valid, y_pred))\n",
    "    print(\"\\tRecall: %1.5f\" % recall_score(y_valid, y_pred))\n",
    "    print(\"\\tF1: %1.5f\" % f1_score(y_valid, y_pred))\n",
    "    print(\"\\tauc: %1.5f\" % roc_auc_score(y_valid, prob_pos))\n",
    "    print(\"\\tAccuracy: %1.5f\\n\" % accuracy_score(y_valid, y_pred))\n",
    "    df_m.append(\n",
    "        pd.DataFrame(m, index=['True Negative', 'True Positive'], columns=['Pred. Negative', 'Pred. Positive'])\n",
    "        )"
   ]
  },
  {
   "cell_type": "code",
   "execution_count": 592,
   "metadata": {},
   "outputs": [
    {
     "data": {
      "text/plain": [
       "array([0.03302476, 0.04929033, 0.04965215, 0.05024743, 0.05258661,\n",
       "       0.05339037, 0.08650684, 0.08848606, 0.09604716, 0.10181505,\n",
       "       0.1039321 , 0.11188999, 0.12313114])"
      ]
     },
     "execution_count": 592,
     "metadata": {},
     "output_type": "execute_result"
    }
   ],
   "source": [
    "feature_importance_ensemble = clfs_fited[2].feature_importances_\n",
    "# make importances relative to max importance\n",
    "feature_imfeature_importance_ensembleportance = 100.0 * (feature_importance_ensemble / feature_importance_ensemble.max())\n",
    "sorted_idx = np.argsort(feature_importance_ensemble)\n",
    "feature_importance_ensemble[sorted_idx]\n"
   ]
  },
  {
   "cell_type": "code",
   "execution_count": 596,
   "metadata": {},
   "outputs": [
    {
     "data": {
      "image/png": "[encoded data removed]",
      "text/plain": [
       "<Figure size 432x288 with 1 Axes>"
      ]
     },
     "metadata": {},
     "output_type": "display_data"
    },
    {
     "data": {
      "text/plain": [
       "<Figure size 1440x1440 with 0 Axes>"
      ]
     },
     "metadata": {},
     "output_type": "display_data"
    }
   ],
   "source": [
    "features = [feature_list[ix] for ix in sorted_idx]\n",
    "bardata = {\"name\":features[::-1], \"importance percent\":feature_importance_ensemble[sorted_idx][::-1]}\n",
    "# Create plot title\n",
    "plt.title(\"Ensemble Model Feature Importance\")\n",
    "\n",
    "# Add bars\n",
    "plt.bar(range(X.shape[1]), feature_importance_ensemble[sorted_idx])\n",
    "\n",
    "# Add feature names as x-axis labels\n",
    "plt.xticks(range(X.shape[1]), features, rotation=90)\n",
    "plt.figure(figsize=(20,20))\n",
    "plt.savefig('ensemble.jpg')\n",
    "# Show plot\n",
    "plt.show()\n"
   ]
  },
  {
   "cell_type": "code",
   "execution_count": null,
   "metadata": {},
   "outputs": [],
   "source": []
  }
 ],
 "metadata": {
  "kernelspec": {
   "display_name": "Python 3",
   "language": "python",
   "name": "python3"
  },
  "language_info": {
   "codemirror_mode": {
    "name": "ipython",
    "version": 3
   },
   "file_extension": ".py",
   "mimetype": "text/x-python",
   "name": "python",
   "nbconvert_exporter": "python",
   "pygments_lexer": "ipython3",
   "version": "3.6.5"
  }
 },
 "nbformat": 4,
 "nbformat_minor": 2
}
